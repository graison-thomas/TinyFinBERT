{
  "nbformat": 4,
  "nbformat_minor": 0,
  "metadata": {
    "colab": {
      "provenance": []
    },
    "kernelspec": {
      "name": "python3",
      "display_name": "Python 3"
    },
    "language_info": {
      "name": "python"
    }
  },
  "cells": [
    {
      "cell_type": "code",
      "execution_count": null,
      "metadata": {
        "colab": {
          "base_uri": "https://localhost:8080/"
        },
        "id": "YERbRFYvlVyC",
        "outputId": "76939a5d-563e-454e-80c0-2307ab1cb7f9"
      },
      "outputs": [
        {
          "output_type": "stream",
          "name": "stdout",
          "text": [
            "Mounted at /content/gdrive\n"
          ]
        }
      ],
      "source": [
        "from google.colab import drive\n",
        "drive.mount('/content/gdrive')"
      ]
    },
    {
      "cell_type": "code",
      "source": [
        "import pandas as pd\n",
        "gpt4o = pd.read_csv('/content/gdrive/MyDrive/gpt4o_generated_text_2405.csv')"
      ],
      "metadata": {
        "id": "0YRDNmzRlbrr"
      },
      "execution_count": null,
      "outputs": []
    },
    {
      "cell_type": "code",
      "source": [
        "gpt4o.info()"
      ],
      "metadata": {
        "colab": {
          "base_uri": "https://localhost:8080/"
        },
        "id": "EH7menGzYhUE",
        "outputId": "a81679ba-9ee8-4caf-e5e5-706e36c73fca"
      },
      "execution_count": null,
      "outputs": [
        {
          "output_type": "stream",
          "name": "stdout",
          "text": [
            "<class 'pandas.core.frame.DataFrame'>\n",
            "RangeIndex: 419 entries, 0 to 418\n",
            "Data columns (total 6 columns):\n",
            " #   Column           Non-Null Count  Dtype  \n",
            "---  ------           --------------  -----  \n",
            " 0   text             419 non-null    object \n",
            " 1   label            419 non-null    object \n",
            " 2   prompt_n         419 non-null    int64  \n",
            " 3   PredictedLabel   419 non-null    object \n",
            " 4   ConfidenceScore  419 non-null    float64\n",
            " 5   gpt4_label       419 non-null    object \n",
            "dtypes: float64(1), int64(1), object(4)\n",
            "memory usage: 19.8+ KB\n"
          ]
        }
      ]
    },
    {
      "cell_type": "code",
      "source": [
        "gpt4o = gpt4o[['text','label']].copy()\n",
        "gpt4o.info()"
      ],
      "metadata": {
        "colab": {
          "base_uri": "https://localhost:8080/"
        },
        "id": "LHUBkZpdkt2Z",
        "outputId": "1d711756-9b5d-47e8-e657-188837214f90"
      },
      "execution_count": null,
      "outputs": [
        {
          "output_type": "stream",
          "name": "stdout",
          "text": [
            "<class 'pandas.core.frame.DataFrame'>\n",
            "RangeIndex: 419 entries, 0 to 418\n",
            "Data columns (total 2 columns):\n",
            " #   Column  Non-Null Count  Dtype \n",
            "---  ------  --------------  ----- \n",
            " 0   text    419 non-null    object\n",
            " 1   label   419 non-null    object\n",
            "dtypes: object(2)\n",
            "memory usage: 6.7+ KB\n"
          ]
        }
      ]
    },
    {
      "cell_type": "code",
      "source": [
        "!pip install openai\n",
        "from openai import OpenAI\n",
        "client = OpenAI(api_key='sk-proj-hEv32vgqXTnk8oxTyhhpT3BlbkFJSBixmeuoz6s5mkpOg9NU',)\n",
        "import pandas as pd\n",
        "import re  # Import the regex module"
      ],
      "metadata": {
        "id": "1fzLCu7kmNHR",
        "colab": {
          "base_uri": "https://localhost:8080/"
        },
        "outputId": "dc04a744-cc25-4c42-d89e-67d2a7baf518"
      },
      "execution_count": null,
      "outputs": [
        {
          "output_type": "stream",
          "name": "stdout",
          "text": [
            "Collecting openai\n",
            "  Downloading openai-1.30.3-py3-none-any.whl (320 kB)\n",
            "\u001b[?25l     \u001b[90m━━━━━━━━━━━━━━━━━━━━━━━━━━━━━━━━━━━━━━━━\u001b[0m \u001b[32m0.0/320.6 kB\u001b[0m \u001b[31m?\u001b[0m eta \u001b[36m-:--:--\u001b[0m\r\u001b[2K     \u001b[91m━━━━━━━━━━━━━━\u001b[0m\u001b[90m╺\u001b[0m\u001b[90m━━━━━━━━━━━━━━━━━━━━━━━━━\u001b[0m \u001b[32m112.6/320.6 kB\u001b[0m \u001b[31m3.1 MB/s\u001b[0m eta \u001b[36m0:00:01\u001b[0m\r\u001b[2K     \u001b[90m━━━━━━━━━━━━━━━━━━━━━━━━━━━━━━━━━━━━━━━━\u001b[0m \u001b[32m320.6/320.6 kB\u001b[0m \u001b[31m5.5 MB/s\u001b[0m eta \u001b[36m0:00:00\u001b[0m\n",
            "\u001b[?25hRequirement already satisfied: anyio<5,>=3.5.0 in /usr/local/lib/python3.10/dist-packages (from openai) (3.7.1)\n",
            "Requirement already satisfied: distro<2,>=1.7.0 in /usr/lib/python3/dist-packages (from openai) (1.7.0)\n",
            "Collecting httpx<1,>=0.23.0 (from openai)\n",
            "  Downloading httpx-0.27.0-py3-none-any.whl (75 kB)\n",
            "\u001b[2K     \u001b[90m━━━━━━━━━━━━━━━━━━━━━━━━━━━━━━━━━━━━━━━━\u001b[0m \u001b[32m75.6/75.6 kB\u001b[0m \u001b[31m11.8 MB/s\u001b[0m eta \u001b[36m0:00:00\u001b[0m\n",
            "\u001b[?25hRequirement already satisfied: pydantic<3,>=1.9.0 in /usr/local/lib/python3.10/dist-packages (from openai) (2.7.1)\n",
            "Requirement already satisfied: sniffio in /usr/local/lib/python3.10/dist-packages (from openai) (1.3.1)\n",
            "Requirement already satisfied: tqdm>4 in /usr/local/lib/python3.10/dist-packages (from openai) (4.66.4)\n",
            "Requirement already satisfied: typing-extensions<5,>=4.7 in /usr/local/lib/python3.10/dist-packages (from openai) (4.11.0)\n",
            "Requirement already satisfied: idna>=2.8 in /usr/local/lib/python3.10/dist-packages (from anyio<5,>=3.5.0->openai) (3.7)\n",
            "Requirement already satisfied: exceptiongroup in /usr/local/lib/python3.10/dist-packages (from anyio<5,>=3.5.0->openai) (1.2.1)\n",
            "Requirement already satisfied: certifi in /usr/local/lib/python3.10/dist-packages (from httpx<1,>=0.23.0->openai) (2024.2.2)\n",
            "Collecting httpcore==1.* (from httpx<1,>=0.23.0->openai)\n",
            "  Downloading httpcore-1.0.5-py3-none-any.whl (77 kB)\n",
            "\u001b[2K     \u001b[90m━━━━━━━━━━━━━━━━━━━━━━━━━━━━━━━━━━━━━━━━\u001b[0m \u001b[32m77.9/77.9 kB\u001b[0m \u001b[31m12.4 MB/s\u001b[0m eta \u001b[36m0:00:00\u001b[0m\n",
            "\u001b[?25hCollecting h11<0.15,>=0.13 (from httpcore==1.*->httpx<1,>=0.23.0->openai)\n",
            "  Downloading h11-0.14.0-py3-none-any.whl (58 kB)\n",
            "\u001b[2K     \u001b[90m━━━━━━━━━━━━━━━━━━━━━━━━━━━━━━━━━━━━━━━━\u001b[0m \u001b[32m58.3/58.3 kB\u001b[0m \u001b[31m7.8 MB/s\u001b[0m eta \u001b[36m0:00:00\u001b[0m\n",
            "\u001b[?25hRequirement already satisfied: annotated-types>=0.4.0 in /usr/local/lib/python3.10/dist-packages (from pydantic<3,>=1.9.0->openai) (0.7.0)\n",
            "Requirement already satisfied: pydantic-core==2.18.2 in /usr/local/lib/python3.10/dist-packages (from pydantic<3,>=1.9.0->openai) (2.18.2)\n",
            "Installing collected packages: h11, httpcore, httpx, openai\n",
            "Successfully installed h11-0.14.0 httpcore-1.0.5 httpx-0.27.0 openai-1.30.3\n"
          ]
        }
      ]
    },
    {
      "cell_type": "code",
      "source": [
        "def create_merged_texts(gpt4):\n",
        "  data = gpt4['text'].tolist()  # Convert the DataFrame column to a list for easier manipulation\n",
        "\n",
        "  merged_texts = []  # This will store all merged text blocks\n",
        "\n",
        "  # Process each block of 100 statements\n",
        "  for i in range(0, len(data), 100):\n",
        "      # Extract the slice for the current block\n",
        "      block = data[i:i+100]\n",
        "      # Merge the statements with numbering and new lines\n",
        "      merged_text = '\\n'.join(f\"{j+1}. {s}\" for j, s in enumerate(block))\n",
        "      # Store the merged text in the list\n",
        "      merged_texts.append(merged_text)\n",
        "\n",
        "  return merged_texts\n"
      ],
      "metadata": {
        "id": "CQyAliJMlZTq"
      },
      "execution_count": null,
      "outputs": []
    },
    {
      "cell_type": "code",
      "source": [
        "def predict_financial_sentiment(user_prompt, max_tokens):\n",
        "    response = client.chat.completions.create(\n",
        "        model=\"gpt-4o\",\n",
        "        messages=[\n",
        "            {\n",
        "                \"role\": \"system\",\n",
        "                \"content\": \"As a financial expert, analyze the potential immediate impact of financial news statements on the stock prices of the relevant companies. Assess whether each statement suggests a positive, negative, or neutral effect on the company’s stock price. Ensure that your analysis of each statement is conducted independently to avoid bias from other statements.\"\n",
        "            },\n",
        "            {\n",
        "                \"role\": \"user\",\n",
        "                \"content\": user_prompt\n",
        "            }\n",
        "        ],\n",
        "        temperature=0.0, # Setting temperature to 0 for more deterministic outputs\n",
        "        max_tokens=max_tokens,\n",
        "        top_p=1,\n",
        "        frequency_penalty=0,\n",
        "        presence_penalty=0\n",
        "    )\n",
        "\n",
        "    print(response)\n",
        "\n",
        "    text_response = response.choices[0].message.content\n",
        "    sentences = re.split(r'\\d+\\.\\s', text_response)\n",
        "    if sentences and sentences[0] == '':\n",
        "        sentences = sentences[1:]\n",
        "\n",
        "    # Strip leading and trailing whitespace and newline characters from each sentence\n",
        "    sentences = [sentence.strip() for sentence in sentences]\n",
        "\n",
        "    dataset = pd.DataFrame({\n",
        "        'gpt4_label': sentences\n",
        "    })\n",
        "\n",
        "    return dataset"
      ],
      "metadata": {
        "id": "OP9B50J_vamS"
      },
      "execution_count": null,
      "outputs": []
    },
    {
      "cell_type": "code",
      "source": [
        "# Initialize an empty list to store DataFrames\n",
        "def create_label(merged_texts):\n",
        "  results = []\n",
        "\n",
        "  for statement in merged_texts:\n",
        "      user_prompt = f\"Acting as a financial expert, analyze the following 100 numbered independent financial news statements, each pertaining to a different company. Assess the potential immediate impact on the stock price of the relevant company independently of any other statements. Determine whether the statement suggests a positive, negative, or neutral immediate effect on the company’s stock price. Consider factors such as tone, relevance of information, and market context in your evaluation. Please only provide potential immediate impacts (positive, negative, or neutral) for each of the statements in a numbered format, with each prediction corresponding to the order of the statements provided.\\n{statement}\"\n",
        "      try:\n",
        "          # Append the result of each prediction to the results list\n",
        "          results.append(predict_financial_sentiment(user_prompt, 600))\n",
        "      except Exception as e:\n",
        "          print(f\"Error processing statement: {statement}\\nError: {e}\")\n",
        "\n",
        "  return results\n",
        "\n"
      ],
      "metadata": {
        "id": "UVZih37VepeL"
      },
      "execution_count": null,
      "outputs": []
    },
    {
      "cell_type": "code",
      "source": [
        "# Shuffle the DataFrame rows\n",
        "gpt4o = gpt4o.sample(frac=1).reset_index(drop=True)\n",
        "merged_texts = create_merged_texts(gpt4o)\n",
        "results = create_label(merged_texts)\n",
        "df = pd.concat(results, ignore_index=True)\n",
        "df.loc[:, 'gpt4_label'] = df['gpt4_label'].str.lower()\n",
        "df = df.rename(columns={'gpt4_label': 'gpt4_label_1'})\n",
        "# Combine the original data with the predictions\n",
        "gpt4o = pd.concat([gpt4o,df.reset_index(drop=True)], axis=1)"
      ],
      "metadata": {
        "colab": {
          "base_uri": "https://localhost:8080/"
        },
        "id": "M26TReetROpR",
        "outputId": "7cb9a946-077a-4ef6-8cb1-58c5e666b163"
      },
      "execution_count": null,
      "outputs": [
        {
          "output_type": "stream",
          "name": "stdout",
          "text": [
            "ChatCompletion(id='chatcmpl-9SstW9omf8eW6H6mzGy2enEs2Vk3V', choices=[Choice(finish_reason='stop', index=0, logprobs=None, message=ChatCompletionMessage(content='1. Neutral\\n2. Neutral\\n3. Neutral\\n4. Neutral\\n5. Neutral\\n6. Neutral\\n7. Neutral\\n8. Neutral\\n9. Neutral\\n10. Neutral\\n11. Neutral\\n12. Neutral\\n13. Neutral\\n14. Neutral\\n15. Neutral\\n16. Neutral\\n17. Negative\\n18. Neutral\\n19. Neutral\\n20. Neutral\\n21. Neutral\\n22. Neutral\\n23. Neutral\\n24. Neutral\\n25. Neutral\\n26. Neutral\\n27. Positive\\n28. Neutral\\n29. Negative\\n30. Neutral\\n31. Neutral\\n32. Neutral\\n33. Neutral\\n34. Neutral\\n35. Neutral\\n36. Neutral\\n37. Neutral\\n38. Neutral\\n39. Neutral\\n40. Neutral\\n41. Negative\\n42. Neutral\\n43. Neutral\\n44. Neutral\\n45. Negative\\n46. Neutral\\n47. Neutral\\n48. Neutral\\n49. Neutral\\n50. Neutral\\n51. Neutral\\n52. Neutral\\n53. Neutral\\n54. Neutral\\n55. Neutral\\n56. Neutral\\n57. Neutral\\n58. Neutral\\n59. Neutral\\n60. Neutral\\n61. Positive\\n62. Neutral\\n63. Neutral\\n64. Neutral\\n65. Neutral\\n66. Neutral\\n67. Neutral\\n68. Neutral\\n69. Neutral\\n70. Neutral\\n71. Neutral\\n72. Neutral\\n73. Neutral\\n74. Neutral\\n75. Neutral\\n76. Neutral\\n77. Negative\\n78. Neutral\\n79. Neutral\\n80. Neutral\\n81. Neutral\\n82. Neutral\\n83. Neutral\\n84. Neutral\\n85. Neutral\\n86. Neutral\\n87. Neutral\\n88. Negative\\n89. Neutral\\n90. Neutral\\n91. Neutral\\n92. Neutral\\n93. Neutral\\n94. Neutral\\n95. Neutral\\n96. Neutral\\n97. Neutral\\n98. Positive\\n99. Neutral\\n100. Neutral', role='assistant', function_call=None, tool_calls=None))], created=1716671226, model='gpt-4o-2024-05-13', object='chat.completion', system_fingerprint='fp_43dfabdef1', usage=CompletionUsage(completion_tokens=399, prompt_tokens=2053, total_tokens=2452))\n",
            "ChatCompletion(id='chatcmpl-9SstbH5OMGie8SFAPlW3WuekdCjho', choices=[Choice(finish_reason='stop', index=0, logprobs=None, message=ChatCompletionMessage(content='1. Neutral\\n2. Neutral\\n3. Negative\\n4. Positive\\n5. Negative\\n6. Negative\\n7. Positive\\n8. Neutral\\n9. Neutral\\n10. Negative\\n11. Neutral\\n12. Neutral\\n13. Neutral\\n14. Neutral\\n15. Neutral\\n16. Negative\\n17. Neutral\\n18. Neutral\\n19. Negative\\n20. Neutral\\n21. Neutral\\n22. Neutral\\n23. Neutral\\n24. Neutral\\n25. Neutral\\n26. Neutral\\n27. Neutral\\n28. Neutral\\n29. Neutral\\n30. Neutral\\n31. Neutral\\n32. Negative\\n33. Negative\\n34. Neutral\\n35. Neutral\\n36. Neutral\\n37. Neutral\\n38. Neutral\\n39. Negative\\n40. Neutral\\n41. Neutral\\n42. Neutral\\n43. Neutral\\n44. Neutral\\n45. Negative\\n46. Neutral\\n47. Neutral\\n48. Neutral\\n49. Neutral\\n50. Neutral\\n51. Neutral\\n52. Neutral\\n53. Neutral\\n54. Neutral\\n55. Neutral\\n56. Neutral\\n57. Neutral\\n58. Neutral\\n59. Neutral\\n60. Neutral\\n61. Neutral\\n62. Neutral\\n63. Neutral\\n64. Neutral\\n65. Neutral\\n66. Neutral\\n67. Neutral\\n68. Neutral\\n69. Neutral\\n70. Neutral\\n71. Neutral\\n72. Negative\\n73. Neutral\\n74. Neutral\\n75. Neutral\\n76. Neutral\\n77. Neutral\\n78. Neutral\\n79. Neutral\\n80. Neutral\\n81. Neutral\\n82. Neutral\\n83. Neutral\\n84. Negative\\n85. Neutral\\n86. Neutral\\n87. Neutral\\n88. Neutral\\n89. Neutral\\n90. Neutral\\n91. Neutral\\n92. Neutral\\n93. Neutral\\n94. Negative\\n95. Neutral\\n96. Neutral\\n97. Neutral\\n98. Neutral\\n99. Neutral\\n100. Neutral', role='assistant', function_call=None, tool_calls=None))], created=1716671231, model='gpt-4o-2024-05-13', object='chat.completion', system_fingerprint='fp_43dfabdef1', usage=CompletionUsage(completion_tokens=399, prompt_tokens=2088, total_tokens=2487))\n",
            "ChatCompletion(id='chatcmpl-9Ssth5RmA21gq25o2fcAqmG29ceTr', choices=[Choice(finish_reason='stop', index=0, logprobs=None, message=ChatCompletionMessage(content='1. Neutral\\n2. Neutral\\n3. Negative\\n4. Neutral\\n5. Neutral\\n6. Neutral\\n7. Neutral\\n8. Neutral\\n9. Neutral\\n10. Neutral\\n11. Neutral\\n12. Neutral\\n13. Neutral\\n14. Neutral\\n15. Negative\\n16. Neutral\\n17. Negative\\n18. Neutral\\n19. Neutral\\n20. Neutral\\n21. Neutral\\n22. Neutral\\n23. Neutral\\n24. Neutral\\n25. Neutral\\n26. Neutral\\n27. Neutral\\n28. Neutral\\n29. Neutral\\n30. Neutral\\n31. Neutral\\n32. Neutral\\n33. Negative\\n34. Neutral\\n35. Neutral\\n36. Neutral\\n37. Negative\\n38. Neutral\\n39. Neutral\\n40. Neutral\\n41. Neutral\\n42. Neutral\\n43. Neutral\\n44. Negative\\n45. Neutral\\n46. Neutral\\n47. Negative\\n48. Neutral\\n49. Neutral\\n50. Neutral\\n51. Neutral\\n52. Neutral\\n53. Neutral\\n54. Neutral\\n55. Neutral\\n56. Neutral\\n57. Neutral\\n58. Neutral\\n59. Neutral\\n60. Negative\\n61. Negative\\n62. Neutral\\n63. Negative\\n64. Neutral\\n65. Neutral\\n66. Neutral\\n67. Neutral\\n68. Neutral\\n69. Neutral\\n70. Neutral\\n71. Neutral\\n72. Neutral\\n73. Neutral\\n74. Neutral\\n75. Neutral\\n76. Neutral\\n77. Neutral\\n78. Neutral\\n79. Neutral\\n80. Neutral\\n81. Neutral\\n82. Neutral\\n83. Neutral\\n84. Neutral\\n85. Neutral\\n86. Neutral\\n87. Neutral\\n88. Neutral\\n89. Neutral\\n90. Neutral\\n91. Neutral\\n92. Neutral\\n93. Negative\\n94. Neutral\\n95. Neutral\\n96. Neutral\\n97. Neutral\\n98. Neutral\\n99. Positive\\n100. Neutral', role='assistant', function_call=None, tool_calls=None))], created=1716671237, model='gpt-4o-2024-05-13', object='chat.completion', system_fingerprint='fp_43dfabdef1', usage=CompletionUsage(completion_tokens=399, prompt_tokens=2022, total_tokens=2421))\n",
            "ChatCompletion(id='chatcmpl-9SstpIpRVJv5KG4Y4RALOkt27nHUf', choices=[Choice(finish_reason='stop', index=0, logprobs=None, message=ChatCompletionMessage(content='1. Neutral\\n2. Neutral\\n3. Neutral\\n4. Neutral\\n5. Neutral\\n6. Neutral\\n7. Neutral\\n8. Neutral\\n9. Negative\\n10. Neutral\\n11. Neutral\\n12. Neutral\\n13. Neutral\\n14. Neutral\\n15. Neutral\\n16. Neutral\\n17. Neutral\\n18. Neutral\\n19. Neutral\\n20. Neutral\\n21. Neutral\\n22. Neutral\\n23. Neutral\\n24. Neutral\\n25. Neutral\\n26. Neutral\\n27. Neutral\\n28. Neutral\\n29. Neutral\\n30. Neutral\\n31. Neutral\\n32. Neutral\\n33. Neutral\\n34. Neutral\\n35. Neutral\\n36. Neutral\\n37. Neutral\\n38. Neutral\\n39. Neutral\\n40. Neutral\\n41. Neutral\\n42. Neutral\\n43. Neutral\\n44. Positive\\n45. Neutral\\n46. Neutral\\n47. Neutral\\n48. Neutral\\n49. Neutral\\n50. Neutral\\n51. Neutral\\n52. Neutral\\n53. Neutral\\n54. Neutral\\n55. Neutral\\n56. Negative\\n57. Neutral\\n58. Neutral\\n59. Neutral\\n60. Neutral\\n61. Neutral\\n62. Neutral\\n63. Neutral\\n64. Positive\\n65. Neutral\\n66. Neutral\\n67. Neutral\\n68. Neutral\\n69. Neutral\\n70. Neutral\\n71. Neutral\\n72. Neutral\\n73. Neutral\\n74. Neutral\\n75. Neutral\\n76. Neutral\\n77. Neutral\\n78. Neutral\\n79. Neutral\\n80. Neutral\\n81. Neutral\\n82. Neutral\\n83. Neutral\\n84. Neutral\\n85. Neutral\\n86. Neutral\\n87. Neutral\\n88. Neutral\\n89. Neutral\\n90. Neutral\\n91. Neutral\\n92. Neutral\\n93. Neutral\\n94. Neutral\\n95. Neutral\\n96. Neutral\\n97. Neutral\\n98. Neutral\\n99. Neutral\\n100. Neutral', role='assistant', function_call=None, tool_calls=None))], created=1716671245, model='gpt-4o-2024-05-13', object='chat.completion', system_fingerprint='fp_43dfabdef1', usage=CompletionUsage(completion_tokens=399, prompt_tokens=2030, total_tokens=2429))\n",
            "ChatCompletion(id='chatcmpl-9Sstvf5EFN8t74lMjqQxYP20anm0I', choices=[Choice(finish_reason='stop', index=0, logprobs=None, message=ChatCompletionMessage(content='1. Neutral\\n2. Neutral\\n3. Neutral\\n4. Neutral\\n5. Neutral\\n6. Neutral\\n7. Neutral\\n8. Neutral\\n9. Neutral\\n10. Neutral\\n11. Neutral\\n12. Neutral\\n13. Neutral\\n14. Neutral\\n15. Neutral\\n16. Neutral\\n17. Neutral\\n18. Neutral\\n19. Neutral', role='assistant', function_call=None, tool_calls=None))], created=1716671251, model='gpt-4o-2024-05-13', object='chat.completion', system_fingerprint='fp_43dfabdef1', usage=CompletionUsage(completion_tokens=75, prompt_tokens=548, total_tokens=623))\n"
          ]
        }
      ]
    },
    {
      "cell_type": "code",
      "source": [
        "different_count = (gpt4o['gpt4_label_1'] != gpt4o['label']).sum()\n",
        "\n",
        "print(f\"Number of rows where gpt4_label1 differs from label: {different_count}\")"
      ],
      "metadata": {
        "colab": {
          "base_uri": "https://localhost:8080/"
        },
        "id": "NWhEmemadXHm",
        "outputId": "c0618253-6b4d-4d3b-d4d3-58a1f14a0cee"
      },
      "execution_count": null,
      "outputs": [
        {
          "output_type": "stream",
          "name": "stdout",
          "text": [
            "Number of rows where gpt4_label1 differs from label: 5\n"
          ]
        }
      ]
    },
    {
      "cell_type": "code",
      "source": [
        "# Filter rows where 'label' and 'gpt4_label_1' match\n",
        "gpt4o_filtered = gpt4o[(gpt4o['label'] == gpt4o['gpt4_label_1'])]"
      ],
      "metadata": {
        "id": "mkHeo0nXfJ7s"
      },
      "execution_count": null,
      "outputs": []
    },
    {
      "cell_type": "code",
      "source": [
        "# Shuffle the DataFrame rows\n",
        "gpt4o_filtered = gpt4o_filtered.sample(frac=1).reset_index(drop=True)\n",
        "\n",
        "merged_texts = create_merged_texts(gpt4o_filtered)\n",
        "results = create_label(merged_texts)\n",
        "df = pd.concat(results, ignore_index=True)\n",
        "df.loc[:, 'gpt4_label'] = df['gpt4_label'].str.lower()\n",
        "df = df.rename(columns={'gpt4_label': 'gpt4_label_2'})\n",
        "# Combine the original data with the predictions\n",
        "gpt4o_filtered = pd.concat([gpt4o_filtered,df.reset_index(drop=True)], axis=1)"
      ],
      "metadata": {
        "colab": {
          "base_uri": "https://localhost:8080/"
        },
        "id": "bN5keL4WkwnS",
        "outputId": "3ae61809-cd6c-4f01-940a-7805f98b25cf"
      },
      "execution_count": null,
      "outputs": [
        {
          "output_type": "stream",
          "name": "stdout",
          "text": [
            "ChatCompletion(id='chatcmpl-9SsuUDsGlGqwMKRTreXEKWR5CBWrq', choices=[Choice(finish_reason='stop', index=0, logprobs=None, message=ChatCompletionMessage(content='1. Neutral\\n2. Neutral\\n3. Neutral\\n4. Neutral\\n5. Neutral\\n6. Neutral\\n7. Neutral\\n8. Neutral\\n9. Neutral\\n10. Neutral\\n11. Neutral\\n12. Neutral\\n13. Neutral\\n14. Neutral\\n15. Neutral\\n16. Neutral\\n17. Neutral\\n18. Neutral\\n19. Neutral\\n20. Neutral\\n21. Neutral\\n22. Neutral\\n23. Neutral\\n24. Neutral\\n25. Neutral\\n26. Neutral\\n27. Neutral\\n28. Neutral\\n29. Neutral\\n30. Neutral\\n31. Neutral\\n32. Neutral\\n33. Neutral\\n34. Neutral\\n35. Neutral\\n36. Neutral\\n37. Neutral\\n38. Neutral\\n39. Neutral\\n40. Neutral\\n41. Neutral\\n42. Neutral\\n43. Neutral\\n44. Neutral\\n45. Neutral\\n46. Neutral\\n47. Neutral\\n48. Neutral\\n49. Neutral\\n50. Neutral\\n51. Neutral\\n52. Neutral\\n53. Neutral\\n54. Neutral\\n55. Neutral\\n56. Neutral\\n57. Neutral\\n58. Neutral\\n59. Neutral\\n60. Neutral\\n61. Neutral\\n62. Neutral\\n63. Neutral\\n64. Neutral\\n65. Neutral\\n66. Neutral\\n67. Neutral\\n68. Neutral\\n69. Neutral\\n70. Neutral\\n71. Neutral\\n72. Neutral\\n73. Neutral\\n74. Neutral\\n75. Neutral\\n76. Neutral\\n77. Neutral\\n78. Neutral\\n79. Neutral\\n80. Neutral\\n81. Neutral\\n82. Neutral\\n83. Neutral\\n84. Neutral\\n85. Neutral\\n86. Neutral\\n87. Neutral\\n88. Neutral\\n89. Neutral\\n90. Neutral\\n91. Neutral\\n92. Neutral\\n93. Neutral\\n94. Neutral\\n95. Neutral\\n96. Neutral\\n97. Neutral\\n98. Positive\\n99. Neutral\\n100. Neutral', role='assistant', function_call=None, tool_calls=None))], created=1716671286, model='gpt-4o-2024-05-13', object='chat.completion', system_fingerprint='fp_43dfabdef1', usage=CompletionUsage(completion_tokens=399, prompt_tokens=2015, total_tokens=2414))\n",
            "ChatCompletion(id='chatcmpl-9SsuZ7ihO0ZrJ1OFLHP92Nwkf8uBP', choices=[Choice(finish_reason='stop', index=0, logprobs=None, message=ChatCompletionMessage(content='1. Negative\\n2. Neutral\\n3. Neutral\\n4. Neutral\\n5. Neutral\\n6. Neutral\\n7. Neutral\\n8. Neutral\\n9. Neutral\\n10. Neutral\\n11. Neutral\\n12. Neutral\\n13. Neutral\\n14. Neutral\\n15. Neutral\\n16. Neutral\\n17. Negative\\n18. Negative\\n19. Neutral\\n20. Neutral\\n21. Neutral\\n22. Neutral\\n23. Neutral\\n24. Neutral\\n25. Neutral\\n26. Neutral\\n27. Neutral\\n28. Neutral\\n29. Neutral\\n30. Negative\\n31. Neutral\\n32. Neutral\\n33. Neutral\\n34. Neutral\\n35. Neutral\\n36. Neutral\\n37. Neutral\\n38. Neutral\\n39. Neutral\\n40. Neutral\\n41. Neutral\\n42. Neutral\\n43. Neutral\\n44. Neutral\\n45. Neutral\\n46. Neutral\\n47. Neutral\\n48. Neutral\\n49. Neutral\\n50. Neutral\\n51. Neutral\\n52. Neutral\\n53. Neutral\\n54. Negative\\n55. Neutral\\n56. Neutral\\n57. Neutral\\n58. Neutral\\n59. Neutral\\n60. Neutral\\n61. Neutral\\n62. Neutral\\n63. Neutral\\n64. Neutral\\n65. Neutral\\n66. Neutral\\n67. Neutral\\n68. Neutral\\n69. Neutral\\n70. Neutral\\n71. Neutral\\n72. Neutral\\n73. Neutral\\n74. Neutral\\n75. Neutral\\n76. Negative\\n77. Neutral\\n78. Neutral\\n79. Neutral\\n80. Neutral\\n81. Neutral\\n82. Neutral\\n83. Neutral\\n84. Neutral\\n85. Neutral\\n86. Neutral\\n87. Neutral\\n88. Neutral\\n89. Neutral\\n90. Neutral\\n91. Neutral\\n92. Neutral\\n93. Neutral\\n94. Neutral\\n95. Neutral\\n96. Neutral\\n97. Neutral\\n98. Neutral\\n99. Neutral\\n100. Neutral', role='assistant', function_call=None, tool_calls=None))], created=1716671291, model='gpt-4o-2024-05-13', object='chat.completion', system_fingerprint='fp_43dfabdef1', usage=CompletionUsage(completion_tokens=399, prompt_tokens=2044, total_tokens=2443))\n",
            "ChatCompletion(id='chatcmpl-9Ssue9KCHk2JAKmpoSUN8THIOnsQv', choices=[Choice(finish_reason='stop', index=0, logprobs=None, message=ChatCompletionMessage(content='1. Neutral\\n2. Neutral\\n3. Negative\\n4. Neutral\\n5. Negative\\n6. Neutral\\n7. Neutral\\n8. Neutral\\n9. Neutral\\n10. Negative\\n11. Neutral\\n12. Neutral\\n13. Neutral\\n14. Neutral\\n15. Neutral\\n16. Neutral\\n17. Neutral\\n18. Neutral\\n19. Neutral\\n20. Negative\\n21. Neutral\\n22. Neutral\\n23. Neutral\\n24. Neutral\\n25. Neutral\\n26. Neutral\\n27. Neutral\\n28. Neutral\\n29. Neutral\\n30. Neutral\\n31. Negative\\n32. Neutral\\n33. Neutral\\n34. Neutral\\n35. Neutral\\n36. Neutral\\n37. Neutral\\n38. Neutral\\n39. Negative\\n40. Neutral\\n41. Neutral\\n42. Neutral\\n43. Neutral\\n44. Negative\\n45. Neutral\\n46. Neutral\\n47. Neutral\\n48. Negative\\n49. Neutral\\n50. Neutral\\n51. Negative\\n52. Neutral\\n53. Neutral\\n54. Neutral\\n55. Neutral\\n56. Neutral\\n57. Neutral\\n58. Neutral\\n59. Neutral\\n60. Positive\\n61. Neutral\\n62. Neutral\\n63. Neutral\\n64. Neutral\\n65. Neutral\\n66. Negative\\n67. Neutral\\n68. Neutral\\n69. Neutral\\n70. Neutral\\n71. Neutral\\n72. Positive\\n73. Neutral\\n74. Neutral\\n75. Neutral\\n76. Neutral\\n77. Neutral\\n78. Neutral\\n79. Neutral\\n80. Neutral\\n81. Neutral\\n82. Neutral\\n83. Neutral\\n84. Neutral\\n85. Neutral\\n86. Neutral\\n87. Neutral\\n88. Neutral\\n89. Neutral\\n90. Positive\\n91. Neutral\\n92. Neutral\\n93. Neutral\\n94. Neutral\\n95. Neutral\\n96. Neutral\\n97. Neutral\\n98. Neutral\\n99. Neutral\\n100. Negative', role='assistant', function_call=None, tool_calls=None))], created=1716671296, model='gpt-4o-2024-05-13', object='chat.completion', system_fingerprint='fp_43dfabdef1', usage=CompletionUsage(completion_tokens=399, prompt_tokens=2049, total_tokens=2448))\n",
            "ChatCompletion(id='chatcmpl-9SsulEYsMdCP2HaWIpuE4fewPD1Xa', choices=[Choice(finish_reason='stop', index=0, logprobs=None, message=ChatCompletionMessage(content='1. Neutral\\n2. Negative\\n3. Neutral\\n4. Positive\\n5. Neutral\\n6. Neutral\\n7. Neutral\\n8. Neutral\\n9. Neutral\\n10. Neutral\\n11. Neutral\\n12. Neutral\\n13. Neutral\\n14. Neutral\\n15. Neutral\\n16. Negative\\n17. Neutral\\n18. Neutral\\n19. Neutral\\n20. Neutral\\n21. Neutral\\n22. Neutral\\n23. Neutral\\n24. Neutral\\n25. Neutral\\n26. Neutral\\n27. Neutral\\n28. Negative\\n29. Neutral\\n30. Neutral\\n31. Neutral\\n32. Neutral\\n33. Negative\\n34. Neutral\\n35. Neutral\\n36. Neutral\\n37. Neutral\\n38. Neutral\\n39. Neutral\\n40. Neutral\\n41. Neutral\\n42. Neutral\\n43. Neutral\\n44. Neutral\\n45. Neutral\\n46. Neutral\\n47. Neutral\\n48. Neutral\\n49. Neutral\\n50. Neutral\\n51. Neutral\\n52. Neutral\\n53. Neutral\\n54. Neutral\\n55. Neutral\\n56. Neutral\\n57. Neutral\\n58. Neutral\\n59. Neutral\\n60. Neutral\\n61. Neutral\\n62. Neutral\\n63. Neutral\\n64. Neutral\\n65. Neutral\\n66. Neutral\\n67. Negative\\n68. Neutral\\n69. Neutral\\n70. Neutral\\n71. Negative\\n72. Neutral\\n73. Neutral\\n74. Neutral\\n75. Neutral\\n76. Negative\\n77. Neutral\\n78. Neutral\\n79. Neutral\\n80. Neutral\\n81. Negative\\n82. Neutral\\n83. Neutral\\n84. Neutral\\n85. Neutral\\n86. Neutral\\n87. Neutral\\n88. Neutral\\n89. Neutral\\n90. Neutral\\n91. Neutral\\n92. Neutral\\n93. Neutral\\n94. Negative\\n95. Neutral\\n96. Neutral\\n97. Neutral\\n98. Neutral\\n99. Neutral\\n100. Negative', role='assistant', function_call=None, tool_calls=None))], created=1716671303, model='gpt-4o-2024-05-13', object='chat.completion', system_fingerprint='fp_43dfabdef1', usage=CompletionUsage(completion_tokens=399, prompt_tokens=2054, total_tokens=2453))\n",
            "ChatCompletion(id='chatcmpl-9SsuqdGU0uLB5mPaidDvkaWeiU0BZ', choices=[Choice(finish_reason='stop', index=0, logprobs=None, message=ChatCompletionMessage(content='1. Neutral\\n2. Neutral\\n3. Neutral\\n4. Neutral\\n5. Negative\\n6. Neutral\\n7. Neutral\\n8. Neutral\\n9. Neutral\\n10. Neutral\\n11. Neutral\\n12. Neutral\\n13. Neutral\\n14. Neutral', role='assistant', function_call=None, tool_calls=None))], created=1716671308, model='gpt-4o-2024-05-13', object='chat.completion', system_fingerprint='fp_43dfabdef1', usage=CompletionUsage(completion_tokens=55, prompt_tokens=464, total_tokens=519))\n"
          ]
        }
      ]
    },
    {
      "cell_type": "code",
      "source": [
        "different_count = (gpt4o_filtered['gpt4_label_2'] != gpt4o_filtered['label']).sum()\n",
        "\n",
        "print(f\"Number of rows where gpt4_label2 differs from label: {different_count}\")"
      ],
      "metadata": {
        "colab": {
          "base_uri": "https://localhost:8080/"
        },
        "id": "Fui8_M9efQhL",
        "outputId": "e2fbe6a5-1da3-4120-c61d-893d3c5d84da"
      },
      "execution_count": null,
      "outputs": [
        {
          "output_type": "stream",
          "name": "stdout",
          "text": [
            "Number of rows where gpt4_label2 differs from label: 4\n"
          ]
        }
      ]
    },
    {
      "cell_type": "code",
      "source": [
        "# Filter rows where 'label' and 'gpt4_label_2' match\n",
        "gpt4o_filtered = gpt4o_filtered[(gpt4o_filtered['label'] == gpt4o_filtered['gpt4_label_2'])]"
      ],
      "metadata": {
        "id": "eMPmbyU8ODhs"
      },
      "execution_count": null,
      "outputs": []
    },
    {
      "cell_type": "code",
      "source": [
        "gpt4o_filtered.info()"
      ],
      "metadata": {
        "colab": {
          "base_uri": "https://localhost:8080/"
        },
        "id": "Z1yQlHe0OOiq",
        "outputId": "97ee8236-aa95-4466-9a34-6cf7a9330890"
      },
      "execution_count": null,
      "outputs": [
        {
          "output_type": "stream",
          "name": "stdout",
          "text": [
            "<class 'pandas.core.frame.DataFrame'>\n",
            "Index: 410 entries, 0 to 413\n",
            "Data columns (total 2 columns):\n",
            " #   Column  Non-Null Count  Dtype \n",
            "---  ------  --------------  ----- \n",
            " 0   text    410 non-null    object\n",
            " 1   label   410 non-null    object\n",
            "dtypes: object(2)\n",
            "memory usage: 9.6+ KB\n"
          ]
        }
      ]
    },
    {
      "cell_type": "code",
      "source": [
        "gpt4o_filtered = gpt4o_filtered.drop(columns=['gpt4_label_1', 'gpt4_label_2'])"
      ],
      "metadata": {
        "id": "fE4j1zBDlwWe"
      },
      "execution_count": null,
      "outputs": []
    },
    {
      "cell_type": "code",
      "source": [
        "gpt4o_filtered.to_csv('/content/gdrive/MyDrive/gpt4o_generated_text_2405_v2.csv', index=False)"
      ],
      "metadata": {
        "id": "XsaYq_FBOU1J"
      },
      "execution_count": null,
      "outputs": []
    }
  ]
}