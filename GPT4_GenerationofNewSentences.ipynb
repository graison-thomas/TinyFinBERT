{
  "nbformat": 4,
  "nbformat_minor": 0,
  "metadata": {
    "colab": {
      "provenance": []
    },
    "kernelspec": {
      "name": "python3",
      "display_name": "Python 3"
    },
    "language_info": {
      "name": "python"
    }
  },
  "cells": [
    {
      "cell_type": "code",
      "execution_count": null,
      "metadata": {
        "colab": {
          "base_uri": "https://localhost:8080/"
        },
        "id": "wIRVo3WhE-Xk",
        "outputId": "0c5db5ef-9d81-4dac-dde2-c3411019988a"
      },
      "outputs": [
        {
          "output_type": "stream",
          "name": "stdout",
          "text": [
            "Collecting openai\n",
            "  Downloading openai-1.30.1-py3-none-any.whl (320 kB)\n",
            "\u001b[2K     \u001b[90m━━━━━━━━━━━━━━━━━━━━━━━━━━━━━━━━━━━━━━━━\u001b[0m \u001b[32m320.6/320.6 kB\u001b[0m \u001b[31m2.3 MB/s\u001b[0m eta \u001b[36m0:00:00\u001b[0m\n",
            "\u001b[?25hRequirement already satisfied: anyio<5,>=3.5.0 in /usr/local/lib/python3.10/dist-packages (from openai) (3.7.1)\n",
            "Requirement already satisfied: distro<2,>=1.7.0 in /usr/lib/python3/dist-packages (from openai) (1.7.0)\n",
            "Collecting httpx<1,>=0.23.0 (from openai)\n",
            "  Downloading httpx-0.27.0-py3-none-any.whl (75 kB)\n",
            "\u001b[2K     \u001b[90m━━━━━━━━━━━━━━━━━━━━━━━━━━━━━━━━━━━━━━━━\u001b[0m \u001b[32m75.6/75.6 kB\u001b[0m \u001b[31m5.6 MB/s\u001b[0m eta \u001b[36m0:00:00\u001b[0m\n",
            "\u001b[?25hRequirement already satisfied: pydantic<3,>=1.9.0 in /usr/local/lib/python3.10/dist-packages (from openai) (2.7.1)\n",
            "Requirement already satisfied: sniffio in /usr/local/lib/python3.10/dist-packages (from openai) (1.3.1)\n",
            "Requirement already satisfied: tqdm>4 in /usr/local/lib/python3.10/dist-packages (from openai) (4.66.4)\n",
            "Requirement already satisfied: typing-extensions<5,>=4.7 in /usr/local/lib/python3.10/dist-packages (from openai) (4.11.0)\n",
            "Requirement already satisfied: idna>=2.8 in /usr/local/lib/python3.10/dist-packages (from anyio<5,>=3.5.0->openai) (3.7)\n",
            "Requirement already satisfied: exceptiongroup in /usr/local/lib/python3.10/dist-packages (from anyio<5,>=3.5.0->openai) (1.2.1)\n",
            "Requirement already satisfied: certifi in /usr/local/lib/python3.10/dist-packages (from httpx<1,>=0.23.0->openai) (2024.2.2)\n",
            "Collecting httpcore==1.* (from httpx<1,>=0.23.0->openai)\n",
            "  Downloading httpcore-1.0.5-py3-none-any.whl (77 kB)\n",
            "\u001b[2K     \u001b[90m━━━━━━━━━━━━━━━━━━━━━━━━━━━━━━━━━━━━━━━━\u001b[0m \u001b[32m77.9/77.9 kB\u001b[0m \u001b[31m5.7 MB/s\u001b[0m eta \u001b[36m0:00:00\u001b[0m\n",
            "\u001b[?25hCollecting h11<0.15,>=0.13 (from httpcore==1.*->httpx<1,>=0.23.0->openai)\n",
            "  Downloading h11-0.14.0-py3-none-any.whl (58 kB)\n",
            "\u001b[2K     \u001b[90m━━━━━━━━━━━━━━━━━━━━━━━━━━━━━━━━━━━━━━━━\u001b[0m \u001b[32m58.3/58.3 kB\u001b[0m \u001b[31m3.9 MB/s\u001b[0m eta \u001b[36m0:00:00\u001b[0m\n",
            "\u001b[?25hRequirement already satisfied: annotated-types>=0.4.0 in /usr/local/lib/python3.10/dist-packages (from pydantic<3,>=1.9.0->openai) (0.6.0)\n",
            "Requirement already satisfied: pydantic-core==2.18.2 in /usr/local/lib/python3.10/dist-packages (from pydantic<3,>=1.9.0->openai) (2.18.2)\n",
            "Installing collected packages: h11, httpcore, httpx, openai\n",
            "Successfully installed h11-0.14.0 httpcore-1.0.5 httpx-0.27.0 openai-1.30.1\n"
          ]
        }
      ],
      "source": [
        "!pip install openai\n",
        "from openai import OpenAI\n",
        "client = OpenAI(api_key='sk-proj-hEv32vgqXTnk8oxTyhhpT3BlbkFJSBixmeuoz6s5mkpOg9NU',)\n",
        "import pandas as pd\n",
        "import re  # Import the regex module\n"
      ]
    },
    {
      "cell_type": "code",
      "source": [
        "def generate_financial_statements(user_prompt, label, max_tokens, prompt_n, model):\n",
        "    response = client.chat.completions.create(\n",
        "        model=model,\n",
        "        messages=[\n",
        "            {\n",
        "                \"role\": \"system\",\n",
        "                \"content\": \"As a financial expert with an in-depth understanding of stock market dynamics, you're adept at analyzing how news headlines can subtly influence company stock prices. Your task is to generate financial news sentences that accurately maintain their original sentiment—positive, negative, or neutral. Each sentence should subtly reflect potential impacts on stock prices, preserve contextual integrity, and maintain factual accuracy. The language should be sophisticated, suitable for financial reporting, and resonate with professional investors, market analysts, and financial reporters.\"\n",
        "            },\n",
        "            {\n",
        "                \"role\": \"user\",\n",
        "                \"content\": user_prompt\n",
        "            }\n",
        "        ],\n",
        "        temperature=0.6,\n",
        "        max_tokens=max_tokens,\n",
        "        top_p=1,\n",
        "        frequency_penalty=0.2,\n",
        "        presence_penalty=0\n",
        "    )\n",
        "\n",
        "    print(response)\n",
        "\n",
        "    text_response = response.choices[0].message.content.decode('utf-8') #new code\n",
        "    sentences = re.split(r'\\n*\\d+\\.\\s', text_response)\n",
        "    if sentences and sentences[0] == '':\n",
        "        sentences = sentences[1:]\n",
        "\n",
        "    # Strip leading and trailing whitespace and newline characters from each sentence\n",
        "    sentences = [sentence.strip() for sentence in sentences]\n",
        "\n",
        "    dataset = pd.DataFrame({\n",
        "        'text': sentences,\n",
        "        'label': [label] * len(sentences),  # Using the provided label for all entries\n",
        "        'prompt_n': [prompt_n] * len(sentences)  # Using the provided prompt_n for all entries\n",
        "    })\n",
        "\n",
        "    return dataset"
      ],
      "metadata": {
        "id": "LwY9MdXEQIU7"
      },
      "execution_count": null,
      "outputs": []
    },
    {
      "cell_type": "code",
      "source": [
        "user_prompt = (\n",
        "    \"Generate 50 different financial statements regarding a company’s quarterly earnings with neutral sentiment. \"\n",
        "    \"Each statement should subtly imply future prospects without definitive positive or negative forecasts. \"\n",
        "    \"Use financial terminology that conveys uncertainty or cautious optimism. \"\n",
        "    \"Each statement must be concise, under 50 words, and avoid overtly optimistic or pessimistic language, focusing instead on providing a balanced view. \"\n",
        "    \"Ensure diversity in topics such as revenue, earnings, operational efficiency, strategy, market performance, and future outlook. Generate only 50 numbered statements, and do not provide any explanations.\\n\"\n",
        "    \"Example Statements:\\n\"\n",
        "    \"1. The company's quarterly earnings met expectations, suggesting steady performance amidst market fluctuations.\\n\"\n",
        "    \"2. Earnings this quarter were consistent with projections, indicating a stable outlook despite external economic pressures.\\n\"\n",
        "    \"3. While earnings have slightly exceeded expectations, the firm faces ongoing challenges in supply chain disruptions that merit close monitoring.\\n\"\n",
        "    \"4. The firm's quarterly results suggest a balanced operational stance, with management continuing to explore avenues for careful expansion amidst uncertain market forecasts.\"\n",
        "\n",
        ")\n",
        "label = \"neutral\"\n",
        "max_tokens = 4000\n",
        "model = \"gpt-4o\"\n",
        "df = generate_financial_statements(user_prompt, label, max_tokens, 26, model)"
      ],
      "metadata": {
        "colab": {
          "base_uri": "https://localhost:8080/"
        },
        "id": "CCZTyCwf3isu",
        "outputId": "25a68c89-a236-421a-9cc7-218dddde8a04"
      },
      "execution_count": null,
      "outputs": [
        {
          "output_type": "stream",
          "name": "stdout",
          "text": [
            "ChatCompletion(id='chatcmpl-9QhsGUVTazesRLi3Lrk5I7is6bGXx', choices=[Choice(finish_reason='stop', index=0, logprobs=None, message=ChatCompletionMessage(content=\"1. The latest earnings report aligns with analyst forecasts, reflecting stable revenue streams despite ongoing market volatility.\\n2. Quarterly earnings were in line with expectations, suggesting the company's strategic initiatives are maintaining equilibrium.\\n3. Revenue growth remained steady this quarter, indicating operational efficiency amidst a challenging economic landscape.\\n4. The company's earnings met projections, highlighting its resilience in the face of fluctuating market conditions.\\n5. This quarter's financial performance suggests a cautious yet steady approach to navigating current market environments.\\n6. Earnings results were consistent with prior guidance, underscoring a balanced operational strategy.\\n7. The quarterly revenue figures suggest a stable market position, though external economic factors remain a consideration.\\n8. Financial outcomes this quarter indicate sustained operational efficiency, with future growth prospects remaining under evaluation.\\n9. The company's earnings performance aligns with market expectations, reflecting a measured approach to current economic trends.\\n10. Revenue and earnings were on target this quarter, suggesting a well-managed response to prevailing market conditions.\\n11. Quarterly financials show consistent performance, with management continuing to assess strategic opportunities and risks.\\n12. The firm's earnings met consensus estimates, indicating a steady course amidst broader economic uncertainties.\\n13. This quarter's revenue was stable, suggesting that the company's market strategies are effectively maintaining equilibrium.\\n14. Earnings aligned with forecasts, suggesting that the company's operational strategies are holding firm against external pressures.\\n15. Quarterly results reflect consistent financial management, with ongoing assessments of market conditions influencing future strategies.\\n16. Financial performance was stable this quarter, indicating that the company is navigating current market dynamics effectively.\\n17. The latest earnings report suggests balanced financial health, though future outlook remains cautiously optimistic amidst economic fluctuations.\\n18. Revenue figures this quarter indicate sustained performance, with management maintaining a focus on operational efficiency.\\n19. Earnings results were neutral relative to forecasts, reflecting a steady operational environment with cautious forward-looking strategies.\\n20. This quarter's financials suggest stability in core operations, while broader market conditions continue to influence strategic planning.\\n21. The firm's quarterly revenue met expectations, indicating a measured approach to managing current economic challenges.\\n22. Earnings this quarter aligned with projections, suggesting that the company's strategic initiatives are on a steady path.\\n23. Financial results indicate stable performance, with ongoing evaluations of market conditions shaping future outlooks.\\n24. Quarterly earnings were in line with guidance, reflecting consistent execution of operational strategies amidst market variability.\\n25. Revenue and profit margins remained stable this quarter, suggesting balanced financial health in a dynamic market environment.\\n26. The company's earnings report aligns with analyst expectations, highlighting steady performance amidst ongoing economic uncertainties.\\n27. Financial outcomes this quarter suggest sustained operational efficiency, though future prospects remain cautiously optimistic.\\n28. Earnings results met projections, indicating that the company's strategic initiatives are maintaining equilibrium in the current climate.\\n29. Revenue growth was steady this quarter, suggesting effective management of market dynamics and operational efficiency.\\n30. Quarterly financials reflect consistent performance, with management continuing to navigate external economic challenges carefully.\\n31. The firm's earnings met consensus estimates, suggesting stable financial health amidst broader market fluctuations.\\n32. This quarter's revenue figures align with expectations, indicating effective execution of strategic initiatives amidst uncertain conditions.\\n33. Earnings remained consistent with projections this quarter, reflecting balanced operational strategies in a variable market environment.\\n34. Financial performance was stable this quarter, highlighting the company's resilience in managing current economic conditions effectively.\\n35. Quarterly results suggest balanced financial management, with ongoing assessments of external factors influencing future strategies.\\n36. The latest earnings report reflects steady revenue streams amidst fluctuating market dynamics and ongoing strategic evaluations.\\n37. Revenue figures this quarter were on target, suggesting effective management of operational efficiencies amidst broader economic uncertainties.\\n38. Earnings aligned with prior guidance, indicating that the company is navigating current market challenges steadily and efficiently.\\n39. Financial outcomes suggest sustained performance this quarter, though future prospects remain cautiously optimistic given external conditions.\\n40. The firm's quarterly revenue met expectations, highlighting consistent execution of operational strategies amidst dynamic market environments.\\n41. Earnings results were neutral relative to forecasts, reflecting steady financial health and cautious forward-looking assessments.\\n42. This quarter's financials indicate balanced performance in core operations while strategic planning continues amid external pressures.\\n43. Revenue growth was stable this quarter, suggesting effective navigation of current economic dynamics by the company’s management team.\\n44. Quarterly earnings were in line with expectations, reflecting consistent execution of strategic initiatives amidst varying market conditions.\\n45. Financial performance suggests stability this quarter while ongoing evaluations of external factors shape future outlooks and strategies.\\n46. The latest earnings report aligns with analyst forecasts, highlighting the company’s steady course amidst broader economic uncertainties.\\n47. Earnings results met projections this quarter, indicating sustained operational efficiency in managing current market dynamics effectively.\\n48. Revenue figures were consistent with prior guidance this quarter, suggesting balanced financial health amid fluctuating external conditions.\\n49. Quarterly financial outcomes reflect stable performance while management continues to assess strategic opportunities within a dynamic environment.\\n50. The firm's earnings report suggests steady revenue streams amid ongoing economic challenges and careful forward-looking strategies by management.\\n\\n\", role='assistant', function_call=None, tool_calls=None))], created=1716152208, model='gpt-4o-2024-05-13', object='chat.completion', system_fingerprint='fp_729ea513f7', usage=CompletionUsage(completion_tokens=1002, prompt_tokens=297, total_tokens=1299))\n"
          ]
        }
      ]
    },
    {
      "cell_type": "code",
      "source": [
        "df.info()"
      ],
      "metadata": {
        "colab": {
          "base_uri": "https://localhost:8080/"
        },
        "id": "VGgWo5R1KT2H",
        "outputId": "7641203a-d708-4844-bc3a-c2f7b15bbd94"
      },
      "execution_count": null,
      "outputs": [
        {
          "output_type": "stream",
          "name": "stdout",
          "text": [
            "<class 'pandas.core.frame.DataFrame'>\n",
            "RangeIndex: 50 entries, 0 to 49\n",
            "Data columns (total 3 columns):\n",
            " #   Column    Non-Null Count  Dtype \n",
            "---  ------    --------------  ----- \n",
            " 0   text      50 non-null     object\n",
            " 1   label     50 non-null     object\n",
            " 2   prompt_n  50 non-null     int64 \n",
            "dtypes: int64(1), object(2)\n",
            "memory usage: 1.3+ KB\n"
          ]
        }
      ]
    },
    {
      "cell_type": "code",
      "source": [
        "df = pd.concat([df , generate_financial_statements(user_prompt, label, max_tokens, 26, model)], ignore_index=True)\n",
        "print(df.info())\n",
        "df = pd.concat([df , generate_financial_statements(user_prompt, label, max_tokens, 26, model)], ignore_index=True)\n",
        "print(df.info())\n",
        "df = pd.concat([df , generate_financial_statements(user_prompt, label, max_tokens, 26, model)], ignore_index=True)\n",
        "print(df.info())"
      ],
      "metadata": {
        "colab": {
          "base_uri": "https://localhost:8080/"
        },
        "id": "wo1WHPdcKe9B",
        "outputId": "d31ec532-01bd-4f08-df22-2166d81a7b7b"
      },
      "execution_count": null,
      "outputs": [
        {
          "output_type": "stream",
          "name": "stdout",
          "text": [
            "ChatCompletion(id='chatcmpl-9QhsU8tgYOdeOb6imsoa98fjt4mX0', choices=[Choice(finish_reason='stop', index=0, logprobs=None, message=ChatCompletionMessage(content=\"1. The company's quarterly earnings aligned with analyst forecasts, reflecting a balanced position in a volatile market environment.\\n2. Revenue growth was steady this quarter, though future trends remain contingent on broader economic conditions.\\n3. Operational efficiency metrics were stable, indicating potential resilience against upcoming fiscal uncertainties.\\n4. Quarterly earnings matched projections, with management emphasizing cautious optimism for the next fiscal period.\\n5. The firm's results were in line with expectations, suggesting a neutral outlook amidst industry-specific challenges.\\n6. The company reported consistent earnings, highlighting careful navigation through current market conditions.\\n7. Earnings stability this quarter suggests the firm is maintaining its strategic course despite external pressures.\\n8. Revenue figures were as anticipated, indicating the company’s steady performance in a fluctuating market.\\n9. The latest earnings report aligns with guidance, reflecting cautious optimism from the management team.\\n10. Quarterly financials met expectations, suggesting the company’s strategies are holding steady in an uncertain economy.\\n11. The firm's operational performance was consistent, with future revenue projections remaining cautiously optimistic.\\n12. Earnings were as expected, with management focusing on maintaining current operational efficiency levels.\\n13. Revenue growth remained steady, reflecting the company's adaptive strategies in a dynamic market.\\n14. The company’s earnings report suggests stability, though future performance will depend on market conditions.\\n15. Quarterly results were consistent with forecasts, indicating a balanced operational approach amidst market unpredictability.\\n16. The firm’s earnings were stable, with management highlighting ongoing efforts to mitigate external risks.\\n17. Revenue met projections this quarter, suggesting steady performance amidst broader economic uncertainty.\\n18. Earnings consistency reflects the company's adaptive strategies in response to market volatility.\\n19. Quarterly financials were in line with expectations, indicating a neutral outlook for the near term.\\n20. The company’s earnings suggest operational stability, though external economic factors remain a consideration.\\n21. Revenue achieved this quarter matches guidance, reflecting a balanced approach to market challenges.\\n22. Financial results met projections, indicating the firm’s strategies are effective amidst current conditions.\\n23. Earnings stability suggests the company is navigating market fluctuations with cautious optimism.\\n24. Quarterly results aligned with expectations, highlighting consistent operational performance amid economic variability.\\n25. The firm’s revenue figures indicate steady growth, though future prospects remain contingent on broader trends.\\n26. Earnings this quarter met forecasts, suggesting a stable outlook despite industry headwinds.\\n27. Operational metrics were consistent, pointing to potential resilience against upcoming fiscal challenges.\\n28. Quarterly financials matched projections, reflecting cautious optimism from management about future performance.\\n29. The company reported stable earnings, highlighting efforts to maintain efficiency amid market volatility.\\n30. Revenue growth was as expected, suggesting steady performance within an uncertain economic landscape.\\n31. Earnings aligned with analyst expectations, reflecting a balanced stance amidst industry-specific uncertainties.\\n32. The firm's quarterly results suggest operational stability, with management cautiously optimistic about future prospects.\\n33. Financial performance met guidance this quarter, indicating the company’s strategies are holding steady amid external pressures.\\n34. Revenue figures were consistent with projections, suggesting stable performance despite broader economic challenges.\\n35. Earnings stability reflects careful navigation of current market conditions and potential resilience moving forward.\\n36. Quarterly financials aligned with expectations, indicating a balanced operational approach amidst economic variability.\\n37. The company’s revenue matched forecasts, highlighting consistent performance despite industry headwinds.\\n38. Financial results suggest stability in operations while acknowledging ongoing external economic uncertainties.\\n39. Earnings met projections this quarter, reflecting cautious optimism from management about future trends.\\n40. Operational metrics were stable as expected, pointing to potential resilience against upcoming fiscal uncertainty.\\n41. Quarterly results were in line with guidance, suggesting a neutral outlook for the near term amid market fluctuations.\\n42. Revenue achieved this quarter indicates steady growth while acknowledging broader economic conditions remain variable.\\n43. Earnings consistency reflects adaptive strategies in response to ongoing market dynamics and external pressures.\\n44. Financial performance matched expectations this quarter, indicating operational stability amid broader uncertainties.\\n45. The firm’s revenue figures were consistent with projections, suggesting balanced performance within an uncertain landscape.\\n46. Quarterly financials reflect stable operations while management remains cautiously optimistic about future prospects.\\n47. Earnings this quarter met forecasts and highlight ongoing efforts to mitigate external risks and maintain efficiency.\\n48. Revenue growth was steady and as expected, indicating the company’s adaptive strategies are effective amid market volatility.\\n49. Financial results aligned with forecasts this quarter reflect cautious optimism from management about upcoming trends and conditions.\\n50. Operational metrics remained stable as anticipated this quarter, suggesting potential resilience against broader economic challenges ahead.\\n\\n\", role='assistant', function_call=None, tool_calls=None))], created=1716152222, model='gpt-4o-2024-05-13', object='chat.completion', system_fingerprint='fp_729ea513f7', usage=CompletionUsage(completion_tokens=899, prompt_tokens=297, total_tokens=1196))\n",
            "<class 'pandas.core.frame.DataFrame'>\n",
            "RangeIndex: 100 entries, 0 to 99\n",
            "Data columns (total 3 columns):\n",
            " #   Column    Non-Null Count  Dtype \n",
            "---  ------    --------------  ----- \n",
            " 0   text      100 non-null    object\n",
            " 1   label     100 non-null    object\n",
            " 2   prompt_n  100 non-null    int64 \n",
            "dtypes: int64(1), object(2)\n",
            "memory usage: 2.5+ KB\n",
            "None\n",
            "ChatCompletion(id='chatcmpl-9QhshDP5uwiY21970SOL7ix6HAzxU', choices=[Choice(finish_reason='stop', index=0, logprobs=None, message=ChatCompletionMessage(content=\"1. The company's quarterly earnings aligned with analyst predictions, reflecting a consistent performance in a variable market environment.\\n2. Quarterly results showed revenue stability, though future growth may hinge on evolving market dynamics.\\n3. Despite meeting earnings expectations, the firm remains vigilant about potential market volatility impacting future projections.\\n4. Quarterly performance indicators were on target, suggesting a maintained operational equilibrium as market conditions evolve.\\n5. The latest earnings report underscores operational consistency, albeit with cautious anticipation of potential market shifts.\\n6. Revenue figures this quarter were in line with forecasts, hinting at steady performance amidst broader economic uncertainties.\\n7. The firm's quarterly earnings met anticipated levels, pointing to a balanced approach in navigating current market trends.\\n8. This quarter’s financial results were as projected, indicating a stable operational environment with cautious outlooks for future growth.\\n9. Earnings data reflects anticipated performance, suggesting the company remains on a steady course despite macroeconomic challenges.\\n10. The earnings report highlights consistent revenue streams, with management closely monitoring market developments for strategic adjustments.\\n11. Quarterly performance matched expectations, with future prospects hinging on evolving economic conditions.\\n12. Revenue and earnings were stable this quarter, aligning with forecasts and suggesting a cautiously optimistic outlook.\\n13. The company's financials this quarter met analyst expectations, indicating operational steadiness in uncertain times.\\n14. Quarterly results showed steady revenue, aligning with predictions and hinting at cautious optimism for future quarters.\\n15. Earnings aligned with projections this quarter, reflecting operational stability amidst external economic pressures.\\n16. The firm reported consistent quarterly earnings, maintaining a balanced stance in an unpredictable market landscape.\\n17. This quarter’s financial results met expectations, highlighting stable performance amidst fluctuating market conditions.\\n18. Revenue figures were consistent with forecasts, suggesting steady operations and a cautiously optimistic outlook.\\n19. Quarterly earnings matched projections, indicating a maintained balance in navigating current economic conditions.\\n20. Financial results this quarter were as expected, pointing to operational consistency amid broader market uncertainties.\\n21. The firm's earnings report aligns with analyst forecasts, suggesting a steady course amidst evolving economic trends.\\n22. This quarter’s earnings reflect anticipated results, signifying stable performance within an uncertain market environment.\\n23. Revenue and earnings figures met expectations this quarter, implying balanced operations and cautious market outlooks.\\n24. Quarterly financial performance was on target, reflecting steady operations amid fluctuating economic conditions.\\n25. The company's latest earnings report shows stable revenue streams, hinting at a cautiously optimistic future outlook.\\n26. Earnings this quarter aligned with predictions, suggesting operational steadiness in the face of market variability.\\n27. Financial results met expectations this quarter, indicating maintained stability amid uncertain economic conditions.\\n28. Revenue figures were on par with forecasts this quarter, reflecting consistent operations within a dynamic market environment.\\n29. The firm's quarterly earnings matched projections, pointing to balanced performance amidst broader economic fluctuations.\\n30. This quarter’s financial results align with analyst expectations, hinting at operational stability amid uncertain times.\\n31. Earnings were consistent with projections this quarter, indicating steady operations despite external economic pressures.\\n32. Quarterly revenue figures met expectations, suggesting maintained performance within an evolving market landscape.\\n33. Financial results for the quarter reflect anticipated outcomes, highlighting stable operations amid broader economic uncertainties.\\n34. The company's latest earnings report aligns with forecasts, suggesting steady performance amidst fluctuating market conditions.\\n35. This quarter’s revenue and earnings matched projections, pointing to operational consistency in an uncertain environment.\\n36. Quarterly financial performance was as expected, indicating maintained stability amid broader market variability.\\n37. Revenue figures aligned with forecasts this quarter, reflecting steady operations and cautious optimism for future prospects.\\n38. Earnings data met expectations this quarter, implying balanced performance amidst evolving economic trends.\\n39. Financial results for the quarter were consistent with projections, highlighting stable operations in an unpredictable market landscape.\\n40. The firm’s quarterly earnings matched analyst predictions, suggesting maintained stability amidst broader economic pressures.\\n41. This quarter’s financial outcomes aligned with forecasts, indicating operational steadiness within fluctuating market conditions.\\n42. Revenue and earnings met expectations this quarter, reflecting consistent performance amidst broader economic uncertainties.\\n43. Quarterly financial results were on target, pointing to stable operations despite external economic pressures.\\n44. Earnings figures aligned with projections this quarter, suggesting maintained balance in navigating current market trends.\\n45. Financial outcomes for the quarter met expectations, highlighting operational consistency within an uncertain economic landscape.\\n46. The company's latest earnings report shows stable revenue streams in line with forecasts amidst broader market fluctuations.\\n47. This quarter’s financial results matched projections, indicating steady operations despite evolving economic conditions.\\n48. Revenue figures were consistent with expectations this quarter, pointing to balanced performance amidst broader uncertainties.\\n49. Quarterly earnings aligned with forecasts, reflecting operational steadiness within a variable market environment.\\n50. Financial results for the quarter met analyst predictions, suggesting maintained stability amidst broader economic trends and potential shifts.\\n\\n\", role='assistant', function_call=None, tool_calls=None))], created=1716152235, model='gpt-4o-2024-05-13', object='chat.completion', system_fingerprint='fp_729ea513f7', usage=CompletionUsage(completion_tokens=967, prompt_tokens=297, total_tokens=1264))\n",
            "<class 'pandas.core.frame.DataFrame'>\n",
            "RangeIndex: 150 entries, 0 to 149\n",
            "Data columns (total 3 columns):\n",
            " #   Column    Non-Null Count  Dtype \n",
            "---  ------    --------------  ----- \n",
            " 0   text      150 non-null    object\n",
            " 1   label     150 non-null    object\n",
            " 2   prompt_n  150 non-null    int64 \n",
            "dtypes: int64(1), object(2)\n",
            "memory usage: 3.6+ KB\n",
            "None\n",
            "ChatCompletion(id='chatcmpl-9QhsvgC1DOncde9KygKCIzlEEaxgX', choices=[Choice(finish_reason='stop', index=0, logprobs=None, message=ChatCompletionMessage(content=\"1. Quarterly earnings aligned closely with analysts' forecasts, reflecting a stable operational environment amid mixed market signals.\\n2. Revenue growth remained in line with projections, suggesting the company is maintaining its strategic course despite broader economic uncertainties.\\n3. The latest earnings report indicates consistent performance, with management cautiously optimistic about navigating upcoming market volatility.\\n4. The firm's earnings maintained a steady trajectory, signaling balanced operations as it adapts to evolving market conditions.\\n5. Quarterly results were on par with expectations, hinting at potential stability in the company's financial health.\\n6. Earnings performance was consistent with prior quarters, indicating a steady operational approach amidst market changes.\\n7. The company's revenue figures matched projections, pointing to a stable but cautious growth outlook.\\n8. The latest financial results show steady earnings, with the company remaining vigilant of external economic factors.\\n9. Quarterly earnings met the anticipated benchmarks, reflecting the firm's resilience in a fluctuating market.\\n10. Earnings results suggest the company is maintaining equilibrium, though future performance will depend on macroeconomic developments.\\n11. Revenue in the latest quarter aligned with forecasts, indicating a stable operational environment amid market dynamics.\\n12. The firm's quarterly earnings were in line with analyst expectations, suggesting a balanced outlook moving forward.\\n13. Earnings performance was stable this quarter, with management emphasizing careful monitoring of market trends.\\n14. The company's revenue growth met projections, pointing to sustained performance amid economic uncertainties.\\n15. Quarterly results reflect consistent earnings, with the firm poised to navigate potential market challenges.\\n16. Revenue figures matched expectations this quarter, indicating a steady operational stance amid external factors.\\n17. Earnings remained stable and aligned with forecasts, hinting at cautious optimism in future performance.\\n18. The firm's quarterly earnings were consistent with projections, reflecting balanced operational efficiency.\\n19. Latest financials indicate steady revenue growth, suggesting the company is managing well within current market conditions.\\n20. Earnings were on target this quarter, reflecting a stable yet vigilant approach to market fluctuations.\\n21. Revenue figures met expectations, signaling consistent performance and cautious strategic planning.\\n22. Quarterly earnings aligned with forecasts, indicating steady operations amidst broader economic challenges.\\n23. The company's latest financials show stable earnings, with management remaining cautiously optimistic about future prospects.\\n24. Revenue growth was in line with expectations this quarter, suggesting a balanced operational strategy.\\n25. Earnings performance met anticipated levels, hinting at steady financial health despite market volatility.\\n26. Financial results indicate consistent revenue growth, reflecting careful management of operational efficiencies.\\n27. Quarterly earnings were as expected, signaling stability in the company's financial outlook amidst uncertain times.\\n28. Revenue figures matched analyst projections, suggesting a steady but cautious approach to future growth.\\n29. The company's earnings were consistent this quarter, indicating a balanced strategy amidst evolving market conditions.\\n30. Latest earnings results met expectations, reflecting stable operations and vigilant market monitoring.\\n31. Revenue growth aligned with forecasts this quarter, suggesting the company is maintaining its strategic focus amidst economic changes.\\n32. Quarterly financials indicate steady earnings performance, hinting at cautious optimism for future quarters.\\n33. Earnings results were on par with projections, signaling consistent operational efficiency and strategic planning.\\n34. Revenue figures were as expected this quarter, reflecting stable performance amidst market fluctuations.\\n35. The firm's latest earnings report shows stable financial health, with management focusing on navigating potential challenges ahead.\\n36. Quarterly results indicate consistent revenue growth and operational stability amidst uncertain economic conditions.\\n37. Earnings performance met analysts' expectations this quarter, suggesting a balanced approach to managing market risks.\\n38. Financial results reflect steady revenue figures, indicating the company is maintaining its strategic course amid external pressures.\\n39. Quarterly earnings aligned closely with projections, signaling stability and cautious optimism moving forward.\\n40. Revenue growth was consistent with forecasts this quarter, reflecting balanced operational performance amidst broader economic trends.\\n41. Latest financials show steady earnings and revenue figures in line with expectations, suggesting careful strategic planning by management.\\n42. The company's quarterly results indicate stable financial health and a measured approach to future market conditions.\\n43. Earnings were on target this quarter, signaling consistent performance and cautious optimism for upcoming periods.\\n44. Revenue figures matched projections this quarter, reflecting balanced operations and strategic focus amidst evolving market dynamics.\\n45. Financial results indicate steady earnings performance and cautious optimism about future prospects amid uncertain times.\\n46. Quarterly revenue growth was as expected, hinting at stable operations and vigilant strategic planning by management.\\n47. Earnings aligned closely with forecasts this quarter, suggesting balanced operational efficiency and careful market navigation strategies.\\n48. Financials show consistent revenue growth and stable earnings performance amidst broader economic uncertainties this quarter.\\n49. Quarterly results reflect steady financial health and strategic focus by management amid evolving market conditions and challenges ahead.\\n50. Earnings figures matched analyst expectations this quarter, indicating stable operations and cautious optimism for future quarters amidst broader economic trends.\\n\\n\", role='assistant', function_call=None, tool_calls=None))], created=1716152249, model='gpt-4o-2024-05-13', object='chat.completion', system_fingerprint='fp_729ea513f7', usage=CompletionUsage(completion_tokens=960, prompt_tokens=297, total_tokens=1257))\n",
            "<class 'pandas.core.frame.DataFrame'>\n",
            "RangeIndex: 200 entries, 0 to 199\n",
            "Data columns (total 3 columns):\n",
            " #   Column    Non-Null Count  Dtype \n",
            "---  ------    --------------  ----- \n",
            " 0   text      200 non-null    object\n",
            " 1   label     200 non-null    object\n",
            " 2   prompt_n  200 non-null    int64 \n",
            "dtypes: int64(1), object(2)\n",
            "memory usage: 4.8+ KB\n",
            "None\n"
          ]
        }
      ]
    },
    {
      "cell_type": "code",
      "source": [
        "user_prompt = (\n",
        "    \"Develop 50 unique financial news statements about a company’s quarterly performance, each formulated to be neutral but potentially viewed negatively at first glance. \"\n",
        "    \"Refrain from using any definitive positive or negative terms, focusing on neutral, unbiased descriptions. \"\n",
        "    \"Generate only 50 numbered statements, and do not provide any explanations. \"\n",
        "    \"Limit each statement to under 50 words, with a focus on the equivocal nature of the financial outcomes. Here are some examples: \\n\"\n",
        "    \"1.\tThe company's R&D investment has increased, suggesting future product innovations that may or may not align with market demands. \\n\"\n",
        "    \"2.\tThis quarter, the company experienced slight disruptions in supply chain operations, which were managed without major financial repercussions. \\n\"\n",
        "    \"3.\tRevenue streams remained consistent this quarter, with no significant downturns or growth, keeping the company's financial position stable. \\n\"\n",
        "    \"Ensure diversity in topics such as revenue, earnings, operational efficiency, strategy, market performance, and future outlook.\"\n",
        ")\n",
        "label = \"neutral\"\n",
        "max_tokens = 4000\n",
        "model = \"gpt-4o\"\n",
        "df = pd.concat([df , generate_financial_statements(user_prompt, label, max_tokens, 27, model)], ignore_index=True)\n",
        "print(df.info())"
      ],
      "metadata": {
        "id": "I9Qai_fBQooi",
        "colab": {
          "base_uri": "https://localhost:8080/"
        },
        "outputId": "ce4da203-c6a0-40a4-ae5a-571e71bf3e12"
      },
      "execution_count": null,
      "outputs": [
        {
          "output_type": "stream",
          "name": "stdout",
          "text": [
            "ChatCompletion(id='chatcmpl-9Qht8eh2V9O54lXvF0PDUX1b3N0DM', choices=[Choice(finish_reason='stop', index=0, logprobs=None, message=ChatCompletionMessage(content=\"1. The company's cash reserves remained stable, reflecting a cautious approach to capital expenditures.\\n2. Despite steady sales figures, profit margins were maintained without significant fluctuation.\\n3. Operating costs saw a minor uptick, aligning with industry trends and strategic investments.\\n4. Market share held constant, indicating neither significant gains nor losses in competitive positioning.\\n5. Quarterly earnings met expectations, showing no marked deviations from previous forecasts.\\n6. Inventory levels remained unchanged, suggesting balanced demand and supply dynamics.\\n7. The company maintained its dividend payout ratio, reflecting consistent shareholder returns.\\n8. No major changes were observed in the debt-to-equity ratio, indicating stable leverage management.\\n9. Advertising expenses were consistent with prior periods, reflecting ongoing brand investment.\\n10. Product launch schedules remained on track, with no delays impacting market timelines.\\n11. Customer acquisition costs remained flat, indicating steady marketing efficiency.\\n12. The workforce size was maintained, reflecting stable operational requirements.\\n13. Gross profit margins showed minimal variation, aligning with overall market conditions.\\n14. The company’s overseas revenue contributions remained steady, reflecting consistent international market performance.\\n15. Cash flow from operations was consistent with previous quarters, maintaining liquidity levels.\\n16. Capital expenditure plans were adhered to without major adjustments or deviations.\\n17. The company’s strategic initiatives progressed as planned, without significant accelerations or delays.\\n18. No major changes were observed in the company’s product portfolio mix.\\n19. Research and development expenses were consistent with historical spending patterns.\\n20. The company’s tax rate remained within expected ranges, reflecting stable fiscal management.\\n21. Financial leverage ratios showed no significant change from prior periods.\\n22. The company’s cost of goods sold remained aligned with historical averages.\\n23. Accounts receivable turnover ratios were stable, indicating consistent credit management practices.\\n24. The company’s stock buyback program continued at a steady pace without acceleration.\\n25. Sales growth rates were in line with industry averages, showing no significant deviations.\\n26. The company’s dividend yield remained stable, providing consistent returns to shareholders.\\n27. Return on equity metrics showed minimal change from previous quarters.\\n28. Operating income levels remained within forecasted ranges, maintaining financial stability.\\n29. The company’s market capitalization showed no significant fluctuations during the quarter.\\n30. Product return rates were consistent with historical patterns, indicating steady quality control measures.\\n31. The company’s net income margins remained aligned with industry benchmarks.\\n32. Interest expenses were stable, reflecting consistent debt servicing costs.\\n33. Revenue per employee ratios showed minimal variation from prior periods.\\n34. The company’s asset turnover ratios remained within expected ranges, indicating efficient asset utilization.\\n35. No major changes were observed in the company’s capital structure during the quarter.\\n36. Working capital levels were maintained without significant fluctuations or adjustments required.\\n37. Earnings before interest and taxes (EBIT) showed no marked deviations from forecasts.\\n38. The company's free cash flow generation was consistent with previous quarters’ performance.\\n39. Revenue growth in emerging markets was stable, reflecting ongoing expansion efforts without major breakthroughs.\\n40. Customer satisfaction scores remained steady, indicating consistent service levels and product quality perceptions.\\n41. The company's long-term debt levels showed no significant changes from prior periods’ balances.\\n42. Inventory turnover ratios were maintained within historical norms, suggesting balanced inventory management practices.\\n43. The company's effective tax rate was stable, aligning with prior financial planning assumptions.\\n44. Net profit margins showed minimal variation from previous quarters’ performance metrics.\\n45. Return on assets metrics remained consistent with historical averages and industry standards.\\n46. Operating cash flow levels were stable compared to prior periods’ financial results.\\n47. Equity financing activities showed no significant changes during the quarter under review.\\n48. Sales revenue diversification across product lines remained unchanged from prior periods’ distributions.\\n49. Shareholder equity levels were maintained without notable increases or decreases during the quarter.\\n50. Earnings per share (EPS) figures aligned closely with analyst estimates and historical performance trends.\\n\\n\", role='assistant', function_call=None, tool_calls=None))], created=1716152262, model='gpt-4o-2024-05-13', object='chat.completion', system_fingerprint='fp_729ea513f7', usage=CompletionUsage(completion_tokens=791, prompt_tokens=290, total_tokens=1081))\n",
            "<class 'pandas.core.frame.DataFrame'>\n",
            "RangeIndex: 250 entries, 0 to 249\n",
            "Data columns (total 3 columns):\n",
            " #   Column    Non-Null Count  Dtype \n",
            "---  ------    --------------  ----- \n",
            " 0   text      250 non-null    object\n",
            " 1   label     250 non-null    object\n",
            " 2   prompt_n  250 non-null    int64 \n",
            "dtypes: int64(1), object(2)\n",
            "memory usage: 6.0+ KB\n",
            "None\n"
          ]
        }
      ]
    },
    {
      "cell_type": "code",
      "source": [
        "df = pd.concat([df , generate_financial_statements(user_prompt, label, max_tokens, 27, model)], ignore_index=True)\n",
        "print(df.info())\n",
        "df = pd.concat([df , generate_financial_statements(user_prompt, label, max_tokens, 27, model)], ignore_index=True)\n",
        "print(df.info())\n",
        "df = pd.concat([df , generate_financial_statements(user_prompt, label, max_tokens, 27, model)], ignore_index=True)\n",
        "print(df.info())"
      ],
      "metadata": {
        "colab": {
          "base_uri": "https://localhost:8080/"
        },
        "id": "MGh89tnCVQn_",
        "outputId": "154e73de-0220-437c-8c9c-9f4d210543f6"
      },
      "execution_count": null,
      "outputs": [
        {
          "output_type": "stream",
          "name": "stdout",
          "text": [
            "ChatCompletion(id='chatcmpl-9QhtLXoIHqQkyfbhJIiwoF4btKh7q', choices=[Choice(finish_reason='stop', index=0, logprobs=None, message=ChatCompletionMessage(content=\"1. The company reported steady sales figures, indicating neither significant growth nor decline in market demand.\\n2. Operating expenses were controlled this quarter, reflecting stability in cost management without notable reductions.\\n3. Customer acquisition rates remained unchanged, suggesting consistent market presence without expansion.\\n4. Product launches proceeded as scheduled, meeting timelines but not exceeding market expectations.\\n5. Inventory levels were maintained, avoiding overstocking or shortages that could impact operations.\\n6. Profit margins held steady despite fluctuations in raw material costs, demonstrating resilience in pricing strategies.\\n7. The company maintained its workforce size, indicating no major hiring or layoffs affecting operational capacity.\\n8. Marketing expenditures were on par with previous quarters, reflecting a steady approach to brand promotion.\\n9. Cash flow remained consistent, neither significantly improving nor declining from prior periods.\\n10. The company’s debt levels were unchanged, maintaining a stable leverage ratio without reduction or increase.\\n11. Shareholder dividends were issued as planned, with no changes in payout amounts from previous periods.\\n12. The company’s market share remained constant, indicating stable competitive positioning without gains.\\n13. Capital expenditures matched budget forecasts, showing adherence to planned investments without excess spending.\\n14. The company’s geographic expansion plans are progressing as anticipated, with no acceleration or delays reported.\\n15. Earnings per share stayed level with last quarter's results, reflecting stable profitability without growth.\\n16. The company’s strategic initiatives are unfolding as projected, with no significant deviations from outlined goals.\\n17. Research and development spending was consistent with historical trends, ensuring ongoing innovation efforts.\\n18. The company’s digital transformation journey continues at a steady pace, aligning with industry standards.\\n19. Supplier relationships remained strong, ensuring smooth procurement processes without notable disruptions.\\n20. The company’s risk management practices proved effective this quarter, mitigating potential financial impacts.\\n21. No significant changes in regulatory compliance were noted, maintaining adherence to industry standards.\\n22. Customer satisfaction scores held steady, indicating consistent service quality without improvement or decline.\\n23. The company’s product portfolio remains diversified, avoiding overreliance on any single revenue stream.\\n24. Employee retention rates were stable, suggesting a balanced approach to workforce management.\\n25. The company's technological infrastructure continues to support operations effectively without major upgrades needed.\\n26. Market analysts’ projections aligned closely with reported financial outcomes, showing accurate forecasting.\\n27. The company’s sustainability initiatives are progressing as planned, aligning with long-term environmental goals.\\n28. Competitive pressures remained constant this quarter, posing no new challenges to the company's market position.\\n29. The company’s liquidity ratios indicate a balanced financial standing without significant fluctuations.\\n30. Strategic partnerships are being maintained effectively, supporting collaborative growth opportunities without expansion.\\n31. Foreign exchange impacts were neutral this quarter, neither benefiting nor harming financial results significantly.\\n32. Distribution channels operated smoothly, ensuring product availability without notable logistical issues.\\n33. The company’s brand reputation remains intact without any major positive or negative shifts in public perception.\\n34. There was no significant change in the pricing strategy, maintaining current market competitiveness.\\n35. The adoption rate of new technologies within the company is on track with industry norms without acceleration or delay.\\n36. Asset utilization rates remained optimal this quarter, reflecting efficient use of resources without overextension.\\n37. The company's strategic focus areas continue to align with industry trends without deviation from planned objectives.\\n38. Financial reserves were utilized as anticipated, supporting operational needs without depleting cash reserves significantly.\\n39. The company's governance practices remain robust, adhering to corporate standards without notable changes needed.\\n40. There was no significant change in legal proceedings affecting the company's financial standing this quarter.\\n41. Investor relations activities proceeded as usual, maintaining consistent communication without increased engagement efforts.\\n42. The company's innovation pipeline is progressing steadily, ensuring future product developments remain on schedule.\\n43. Financial projections for the next quarter remain unchanged, reflecting a stable outlook for upcoming performance periods.\\n44. There were no major shifts in consumer behavior affecting demand for the company's products or services this quarter.\\n45. Long-term strategic goals remain unchanged, supporting sustained growth objectives without immediate adjustments needed.\\n46. The company's competitive advantages continue to provide stable market positioning without significant enhancements required.\\n47. There were no substantial changes in the regulatory environment impacting the company's operations this quarter.\\n48. Investment in employee training programs remains consistent with prior periods, supporting workforce development initiatives steadily.\\n49. The company's intellectual property portfolio remains robust without notable additions or losses impacting competitive edge.\\n50. Corporate social responsibility efforts are being maintained as planned, aligning with community and stakeholder expectations consistently.\\n\\n\", role='assistant', function_call=None, tool_calls=None))], created=1716152275, model='gpt-4o-2024-05-13', object='chat.completion', system_fingerprint='fp_729ea513f7', usage=CompletionUsage(completion_tokens=907, prompt_tokens=290, total_tokens=1197))\n",
            "<class 'pandas.core.frame.DataFrame'>\n",
            "RangeIndex: 300 entries, 0 to 299\n",
            "Data columns (total 3 columns):\n",
            " #   Column    Non-Null Count  Dtype \n",
            "---  ------    --------------  ----- \n",
            " 0   text      300 non-null    object\n",
            " 1   label     300 non-null    object\n",
            " 2   prompt_n  300 non-null    int64 \n",
            "dtypes: int64(1), object(2)\n",
            "memory usage: 7.2+ KB\n",
            "None\n",
            "ChatCompletion(id='chatcmpl-9QhtYuZkMyzSro26JI00Xgz8lfoIG', choices=[Choice(finish_reason='stop', index=0, logprobs=None, message=ChatCompletionMessage(content=\"1. Quarterly earnings were stable, with minimal fluctuation in profit margins, indicating consistent operational performance.\\n2. The company reported flat revenue growth, maintaining a steady financial trajectory without significant deviations.\\n3. Operating expenses remained unchanged, reflecting a consistent cost management approach.\\n4. Market share held steady this quarter, without notable gains or losses.\\n5. The company maintained its current debt levels, with no significant changes in financial leverage.\\n6. Sales volumes remained consistent, neither increasing nor decreasing substantially.\\n7. Profitability metrics showed little variation from the previous quarter, indicating a stable financial status.\\n8. Cash flow from operations was flat, suggesting steady liquidity management.\\n9. The company retained its workforce size, without notable hiring or layoffs.\\n10. Inventory levels were maintained, with no significant build-up or reduction.\\n11. Capital expenditures were consistent with previous periods, reflecting steady investment in growth.\\n12. Dividend payouts remained unchanged, reflecting a stable return to shareholders.\\n13. Gross margins showed minimal change, indicating steady cost control and pricing strategies.\\n14. The company’s market position remained unaltered, with no significant competitive shifts.\\n15. Product launch timelines were adhered to without acceleration or delay.\\n16. The company's geographical revenue distribution remained stable across regions.\\n17. Customer acquisition rates were consistent with historical trends.\\n18. The company’s strategic initiatives progressed as planned without major deviations.\\n19. Research and development spending was in line with previous quarters.\\n20. Marketing expenses held steady, ensuring ongoing brand visibility without additional outlay.\\n21. The company's digital transformation efforts continued at a steady pace.\\n22. Financial ratios such as ROI and ROE showed minimal change from prior periods.\\n23. The company’s risk management strategies were consistently applied without new exposures.\\n24. Compliance and regulatory costs remained stable, ensuring ongoing adherence to industry standards.\\n25. Employee productivity metrics showed no significant changes this quarter.\\n26. The company’s technological infrastructure investments continued at a measured pace.\\n27. Partnerships and alliances remained intact without new additions or terminations.\\n28. Customer retention rates stayed consistent with previous reports.\\n29. The company's share buyback program continued as scheduled without acceleration or deceleration.\\n30. Foreign exchange impacts on revenue were minimal and consistent with prior periods.\\n31. Innovation pipeline developments progressed steadily without major breakthroughs or setbacks.\\n32. Environmental and sustainability initiatives were maintained at current levels of investment and activity.\\n33. Market analyst ratings for the company's stock remained largely unchanged this quarter.\\n34. Risk-adjusted returns showed no material variation from historical performance metrics.\\n35. Regulatory filings indicated no significant changes in company disclosures or compliance activities.\\n36. Sector-specific headwinds had a neutral impact on the company's overall performance this quarter.\\n37. Pricing strategies for products and services remained consistent with market expectations.\\n38. The company’s equity issuance and repurchase activities showed no net change in outstanding shares.\\n39. Management's forward guidance was reiterated without significant adjustments to projections.\\n40. Credit rating assessments of the company remained stable from major rating agencies.\\n41. Sales channel performance was uniform across all distribution networks without notable variances.\\n42. Customer feedback scores remained consistent, indicating steady satisfaction levels without major shifts in perception.\\n43. Financial hedging activities produced results in line with expectations, minimizing volatility impacts.\\n44. Strategic acquisitions and divestitures proceeded as planned with no major surprises reported.\\n45. Cost of goods sold (COGS) metrics showed minimal variation from prior periods, maintaining gross profit stability.\\n46. Shareholder meeting outcomes indicated alignment with previously communicated strategic priorities without unexpected resolutions passed or rejected.\\n47. Investment returns from the company’s portfolio assets were stable and aligned with benchmark indices performance this quarter.\\n48. Legal expenses related to ongoing litigations were managed within expected budgetary allocations without unforeseen costs incurred this quarter.\\n49. Corporate governance practices adhered to established protocols, ensuring continuity in oversight and decision-making processes without notable changes in board composition or executive leadership structures this quarter.\\n\\n50. Overall market conditions had a neutral effect on the company's financial performance this quarter, aligning closely with broader industry trends and benchmarks.\\n\\n\", role='assistant', function_call=None, tool_calls=None))], created=1716152288, model='gpt-4o-2024-05-13', object='chat.completion', system_fingerprint='fp_729ea513f7', usage=CompletionUsage(completion_tokens=814, prompt_tokens=290, total_tokens=1104))\n",
            "<class 'pandas.core.frame.DataFrame'>\n",
            "RangeIndex: 350 entries, 0 to 349\n",
            "Data columns (total 3 columns):\n",
            " #   Column    Non-Null Count  Dtype \n",
            "---  ------    --------------  ----- \n",
            " 0   text      350 non-null    object\n",
            " 1   label     350 non-null    object\n",
            " 2   prompt_n  350 non-null    int64 \n",
            "dtypes: int64(1), object(2)\n",
            "memory usage: 8.3+ KB\n",
            "None\n",
            "ChatCompletion(id='chatcmpl-9QhtkE2RGJGJvflUW7fTqDBUyqAWJ', choices=[Choice(finish_reason='stop', index=0, logprobs=None, message=ChatCompletionMessage(content=\"1. This quarter, the company maintained its market share, reflecting steady operational performance without notable growth.\\n2. The firm reported a consistent profit margin, indicating stable cost management amidst fluctuating market conditions.\\n3. Inventory levels remained unchanged, suggesting balanced supply and demand dynamics throughout the quarter.\\n4. Marketing expenses were constant, potentially impacting future customer acquisition strategies.\\n5. The company's debt levels stayed stable, reflecting unchanged leverage strategies in a volatile market.\\n6. Cash flow from operations was consistent, indicating neither improvement nor deterioration in liquidity.\\n7. Production output matched previous quarters, suggesting no immediate changes in manufacturing efficiency.\\n8. The firm’s global sales figures remained flat, indicating steady international market presence without expansion.\\n9. Customer retention rates held steady, showing consistent satisfaction levels without significant improvements.\\n10. The company’s capital expenditure was on par with historical averages, hinting at cautious investment strategies.\\n11. Employee headcount remained stable, reflecting no significant hiring or layoffs during the period.\\n12. Research and development costs were unchanged, suggesting ongoing but unaccelerated innovation efforts.\\n13. Distribution channels operated smoothly, with no major enhancements or disruptions reported.\\n14. The firm's gross margin was consistent with previous periods, indicating stable production costs and pricing strategies.\\n15. Operating income showed minimal variation from last quarter, reflecting steady core business performance.\\n16. Shareholder returns were in line with historical trends, indicating consistent but unremarkable financial returns.\\n17. The company’s market capitalization remained stable, reflecting investor confidence without speculative growth.\\n18. Administrative expenses were flat, hinting at controlled overhead costs but no efficiency gains.\\n19. Sales growth was negligible this quarter, maintaining the status quo in revenue generation.\\n20. Earnings per share were consistent with forecasts, showing no unexpected financial outcomes.\\n21. The firm’s strategic initiatives progressed as planned, without accelerating or stalling significantly.\\n22. Operating cash flow aligned with expectations, providing predictability in financial operations.\\n23. The firm's geographic expansion plans were on hold, neither advancing nor retracting market presence.\\n24. Customer acquisition costs were steady, reflecting unchanged marketing efficiency and effectiveness.\\n25. Dividend payouts matched previous quarters, maintaining shareholder income without increase or reduction.\\n26. Capital structure remained unchanged, indicating a steady approach to debt and equity financing.\\n27. The company's competitive position was maintained without significant shifts in market dynamics.\\n28. Asset turnover ratios held constant, suggesting stable asset utilization efficiency across operations.\\n29. The firm’s technological advancements were on track but did not outpace industry developments significantly.\\n30. Financial leverage ratios remained stable, indicating a consistent approach to managing financial risk.\\n31. The company’s product portfolio showed no major changes, maintaining a steady range of offerings.\\n32. Return on equity was consistent with historical performance, reflecting steady profitability relative to shareholder investment.\\n33. Market sentiment towards the company held steady without significant positive or negative shifts in perception.\\n34. Supplier relationships remained robust without notable improvements or deteriorations reported this quarter.\\n35. Regulatory compliance remained unchanged, with the company adhering to existing standards without new challenges or advantages.\\n36. Distribution costs were stable, suggesting no significant changes in logistics efficiency or cost structure.\\n37. The firm’s strategic partnerships continued as planned without notable enhancements or dissolutions this quarter.\\n38. Revenue diversification strategies showed no significant progress or setbacks during the period.\\n39. Product development timelines were on schedule but did not accelerate beyond initial projections.\\n40. Free cash flow was consistent with prior periods, reflecting stable operational efficiency and liquidity management.\\n41. Market penetration rates held steady without significant advances into new customer segments this quarter.\\n42. Foreign exchange impacts were neutral this quarter, having neither a positive nor negative effect on financial performance.\\n43. Brand equity remained strong but showed no significant gains in market perception or value this period.\\n44. The firm's innovation pipeline was active but did not produce breakthrough advancements this quarter.\\n45. Investment in human capital remained steady without notable increases in training or development initiatives reported this period.\\n46. The company's environmental impact metrics remained unchanged, maintaining current sustainability practices without enhancement or decline.\\n47. Net profit margins were stable compared to previous quarters, reflecting steady cost management and revenue generation practices.\\n48. Strategic realignments proceeded as planned without accelerating or stalling significantly this quarter.\\n49. Customer feedback was consistent with prior periods, indicating steady satisfaction levels without notable improvement or decline.\\n50. Earnings before interest and taxes (EBIT) remained aligned with forecasts, showing predictable operational profitability.\\n\\n\", role='assistant', function_call=None, tool_calls=None))], created=1716152300, model='gpt-4o-2024-05-13', object='chat.completion', system_fingerprint='fp_729ea513f7', usage=CompletionUsage(completion_tokens=895, prompt_tokens=290, total_tokens=1185))\n",
            "<class 'pandas.core.frame.DataFrame'>\n",
            "RangeIndex: 400 entries, 0 to 399\n",
            "Data columns (total 3 columns):\n",
            " #   Column    Non-Null Count  Dtype \n",
            "---  ------    --------------  ----- \n",
            " 0   text      400 non-null    object\n",
            " 1   label     400 non-null    object\n",
            " 2   prompt_n  400 non-null    int64 \n",
            "dtypes: int64(1), object(2)\n",
            "memory usage: 9.5+ KB\n",
            "None\n"
          ]
        }
      ]
    },
    {
      "cell_type": "code",
      "source": [
        "user_prompt = (\n",
        "    \"Develop 50 financial communications regarding a company’s quarterly financial performance. Each statemnt should be formulated to be positive but potentially viewed as neutral or negative at first glance. \"\n",
        "    \"Avoid explicit positive words. Keep each statement concise, no more than 50 words, integrating critical financial analysis terms. \"\n",
        "    \"Generate only 50 numbered statements, and do not provide any explanations. \"\n",
        "    \"Use financial metrics, operational improvements, market position, and strategic initiatives to imply positive outcomes. Here are a few examples: \\n\"\n",
        "    \"1.\tThere was a significant reduction in operational downtimes this quarter, potentially leading to higher productivity and earnings. \\n\"\n",
        "    \"2.\tImproved cost management practices have resulted in better-than-expected margins, suggesting potential for future profitability. \\n\"\n",
        "    \"3.\tStrategic investments in technology are expected to enhance operational efficiency in upcoming quarters. \\n\"\n",
        "    \"Ensure diversity in topics such as revenue, earnings, operational efficiency, strategy, market performance, and future outlook.\"\n",
        ")\n",
        "label = \"positive\"\n",
        "max_tokens = 4000\n",
        "model = \"gpt-4o\"\n",
        "df = pd.concat([df , generate_financial_statements(user_prompt, label, max_tokens, 28, model)], ignore_index=True)\n",
        "print(df.info())"
      ],
      "metadata": {
        "colab": {
          "base_uri": "https://localhost:8080/"
        },
        "id": "JzexiAI2Xp-M",
        "outputId": "7b52d7e5-a72b-48d5-e99e-be7f967c3f08"
      },
      "execution_count": null,
      "outputs": [
        {
          "output_type": "stream",
          "name": "stdout",
          "text": [
            "ChatCompletion(id='chatcmpl-9Qhtz27RAyS8mAkDBjXtQxjtVdIuv', choices=[Choice(finish_reason='stop', index=0, logprobs=None, message=ChatCompletionMessage(content='1. Revenue growth deceleration observed, but market share expansion continues in key segments.\\n2. Marginal decrease in net income, yet gross margins remain robust due to cost control measures.\\n3. Capital expenditure increased, positioning the company for long-term infrastructure benefits.\\n4. Slight dip in quarterly sales, offset by significant improvement in customer retention rates.\\n5. Earnings per share fell short of analyst expectations, though forecast revisions suggest stronger future performance.\\n6. Decline in international revenue, compensated by substantial domestic market gains.\\n7. Minor reduction in operating income, while strategic partnerships are expected to drive future growth.\\n8. Short-term liquidity pressures noted, but long-term debt reduction initiatives are on track.\\n9. Revenue from core products plateaued, with emerging markets showing promising traction.\\n10. Lower-than-expected quarterly profit, attributed to one-time restructuring costs aimed at future efficiency.\\n11. Gross profit margin compression observed, alongside notable advancements in product innovation.\\n12. Temporary inventory buildup reported, aligning with anticipated demand surge next quarter.\\n13. Reduced advertising expenses have impacted brand visibility but improved cash flow.\\n14. Decline in service revenue, overshadowed by substantial gains in subscription models.\\n15. Margins impacted by rising input costs; strategic sourcing initiatives underway to mitigate effects.\\n16. Earnings growth slowed; however, new market entries are expected to drive future revenues.\\n17. Increased R&D expenditure this quarter aligns with long-term product pipeline enhancements.\\n18. Slight contraction in EBITDA margins, as the company invests heavily in digital transformation.\\n19. Operating cash flow remains stable despite a drop in net profit due to strategic investments.\\n20. Sales growth appears muted; however, customer satisfaction scores have reached an all-time high.\\n21. Temporary rise in accounts receivable balances suggests stronger sales pipeline ahead.\\n22. Decline in net earnings observed; however, significant improvements in operational efficiency noted.\\n23. Foreign exchange fluctuations impacted revenue negatively; hedging strategies are expected to stabilize future earnings.\\n24. Sales figures fell short but were offset by reduced operating expenses leading to stable EBITA margins.\\n25. Temporary supply chain disruptions noted; however, contingency plans are expected to restore normalcy swiftly.\\n26. Despite a drop in quarterly profits, strategic acquisitions are anticipated to enhance market position significantly.\\n27. Revenue from traditional segments has declined; new product lines show strong early adoption rates.\\n28. One-time expense related to legal settlement affected profitability; core business remains strong and growing.\\n29. A slight increase in debt levels observed; capital structure improvements expected through refinancing efforts.\\n30. Profit margins compressed due to higher SG&A expenses; streamlining initiatives are underway for future periods.\\n31. Revenue mix shift towards lower-margin products seen; new pricing strategies anticipated to improve profitability.\\n32. Sales growth was modest; however, the introduction of efficiency programs is expected to yield significant savings.\\n33. Profitability impacted by increased compliance costs; operational risk mitigation efforts are proving effective.\\n34. Decrease in free cash flow due to investment in capacity expansion projects aimed at meeting future demand growth.\\n35. Quarterly revenue decline noted; however, significant progress made towards strategic goals and market positioning.\\n36. Lower net income reported; nonetheless, customer acquisition costs have decreased substantially indicating higher future profitability potential.\\n37. Temporary increase in bad debt expense recorded; overall credit quality improvements anticipated moving forward.\\n38. Flattening of sales trajectory observed; product diversification strategy shows promising early results.\\n39. Reduction in dividend payout ratio announced; retained earnings reinvested into high-growth opportunities.\\n40. Quarterly earnings impacted by currency headwinds; underlying business performance remains solid and expanding internationally.\\n41. Short-term revenue decline linked to seasonal factors; long-term outlook remains favorable with strong order book visibility.\\n42. Decrease in gross profit margin primarily due to raw material price volatility; forward contracts expected to stabilize costs ahead.\\n43. Adjusted earnings below consensus estimates as the company accelerates its digital transformation agenda for future gains.\\n44. Revenue contraction observed amid challenging market conditions; cost optimization measures delivering tangible benefits already.\\n45. Earnings volatility noted due to macroeconomic factors; strategic focus on core competencies delivering steady operational improvements.\\n46. Profit margins under pressure from competitive pricing dynamics; differentiation strategy yielding positive customer feedback and loyalty increases.\\n47. Decrease in quarterly sales volume reported; investments in automation expected to drive significant efficiencies and cost reductions soon.\\n48. Temporary dip in net revenue seen due to project delays; backlog remains strong indicating robust forward-looking demand trends.\\n49. Lower-than-expected financial performance this quarter attributed to transitional challenges; strategic roadmap points towards sustainable long-term growth trajectory\\n50 .Decline in operating profit margins noted following major capital investments aimed at enhancing production capabilities and innovation capacity', role='assistant', function_call=None, tool_calls=None))], created=1716152315, model='gpt-4o-2024-05-13', object='chat.completion', system_fingerprint='fp_729ea513f7', usage=CompletionUsage(completion_tokens=941, prompt_tokens=291, total_tokens=1232))\n",
            "<class 'pandas.core.frame.DataFrame'>\n",
            "RangeIndex: 449 entries, 0 to 448\n",
            "Data columns (total 3 columns):\n",
            " #   Column    Non-Null Count  Dtype \n",
            "---  ------    --------------  ----- \n",
            " 0   text      449 non-null    object\n",
            " 1   label     449 non-null    object\n",
            " 2   prompt_n  449 non-null    int64 \n",
            "dtypes: int64(1), object(2)\n",
            "memory usage: 10.6+ KB\n",
            "None\n"
          ]
        }
      ]
    },
    {
      "cell_type": "code",
      "source": [
        "df = pd.concat([df , generate_financial_statements(user_prompt, label, max_tokens, 28, model)], ignore_index=True)\n",
        "print(df.info())\n",
        "df = pd.concat([df , generate_financial_statements(user_prompt, label, max_tokens, 28, model)], ignore_index=True)\n",
        "print(df.info())"
      ],
      "metadata": {
        "colab": {
          "base_uri": "https://localhost:8080/"
        },
        "id": "cJOR4PiiYQoP",
        "outputId": "11b952a8-ac76-45e1-dfde-9a3d264e732a"
      },
      "execution_count": null,
      "outputs": [
        {
          "output_type": "stream",
          "name": "stdout",
          "text": [
            "ChatCompletion(id='chatcmpl-9QhuGrJQvRVYTgzmz63XbPgEC6bJJ', choices=[Choice(finish_reason='stop', index=0, logprobs=None, message=ChatCompletionMessage(content=\"1. The company reported a marginal increase in revenue, indicating improved market penetration.\\n2. Reduced capital expenditures this quarter suggest optimized resource allocation.\\n3. Inventory levels have been effectively managed, hinting at robust demand forecasting.\\n4. Debt-to-equity ratio has stabilized, reflecting prudent financial management.\\n5. The company experienced modest growth in international markets, suggesting a successful expansion strategy.\\n6. A slight decline in SG&A expenses indicates enhanced cost controls.\\n7. The balance sheet remains strong with a consistent cash flow from operations.\\n8. New product launches have shown promising initial sales figures.\\n9. Market share has remained stable amidst competitive pressures, indicating brand resilience.\\n10. The company has maintained its dividend payout ratio, reflecting steady financial health.\\n11. A slight uptick in R&D spending points to ongoing innovation initiatives.\\n12. Improved working capital management has resulted in better liquidity ratios.\\n13. Customer acquisition costs have decreased slightly, indicating more efficient marketing strategies.\\n14. Gross profit margins have held steady despite market volatility.\\n15. The company has successfully refinanced its debt, leading to lower interest expenses.\\n16. There has been a minor increase in net income, suggesting operational improvements.\\n17. Strategic partnerships have been formed, potentially expanding the company's market reach.\\n18. The average order value has increased slightly, indicating higher customer spending.\\n19. Production levels have been optimized to meet demand without excess inventory buildup.\\n20. The company has maintained its workforce size while increasing productivity per employee.\\n21. Free cash flow has shown a slight improvement, indicating better cash management practices.\\n22. The company’s credit rating remains stable, reflecting solid financial standing.\\n23. An uptick in online sales suggests successful digital transformation efforts.\\n24. The company has maintained its market capitalization despite broader market fluctuations.\\n25. Shareholder equity has increased marginally, reflecting long-term value creation.\\n26. There has been a slight improvement in EBITDA margins, indicating better operational efficiency.\\n27. The company’s strategic divestments have streamlined its focus on core operations.\\n28. Sustainable practices have been integrated into operations, potentially reducing future costs.\\n29. Earnings per share have remained stable amidst economic uncertainty.\\n30. Capital investment in new facilities indicates preparation for future growth opportunities.\\n31. The customer retention rate remains high, suggesting strong brand loyalty.\\n32. The effective tax rate has decreased slightly due to optimized tax strategies.\\n33. Improved supply chain logistics have resulted in shorter lead times and cost savings.\\n34. The company’s market positioning remains strong despite increased competition.\\n35. Management’s forward guidance remains cautiously optimistic given current economic conditions.\\n36. There has been a slight increase in the return on assets, indicating better asset utilization.\\n37. Strategic cost-cutting measures have led to improved net profit margins.\\n38. The company’s portfolio diversification has mitigated risks associated with market fluctuations.\\n39. There has been a modest increase in sales volume, suggesting effective demand generation strategies.\\n40. Long-term contracts secured this quarter provide revenue visibility for upcoming periods.\\n41. Enhanced data analytics capabilities are expected to drive better decision-making processes.\\n42. A minor increase in the book value per share indicates growing intrinsic value for shareholders.\\n43. The company’s operating income shows signs of stabilization amidst challenging market conditions.\\n44. Strategic acquisitions this quarter are anticipated to strengthen the company’s competitive edge.\\n45. Improved regulatory compliance has minimized potential legal risks and associated costs.\\n46. The liquidity position remains robust with adequate reserves for future investments and contingencies.\\n47. A slight reduction in days sales outstanding indicates more efficient receivables management.\\n48. Revenue diversification across various segments reduces dependency on any single market area.\\n49. Enhanced cybersecurity measures protect against potential threats and safeguard business continuity.\\n50. Collaborative ventures with industry leaders are expected to open new avenues for growth and innovation.\\n\\n\", role='assistant', function_call=None, tool_calls=None))], created=1716152332, model='gpt-4o-2024-05-13', object='chat.completion', system_fingerprint='fp_729ea513f7', usage=CompletionUsage(completion_tokens=763, prompt_tokens=291, total_tokens=1054))\n",
            "<class 'pandas.core.frame.DataFrame'>\n",
            "RangeIndex: 499 entries, 0 to 498\n",
            "Data columns (total 3 columns):\n",
            " #   Column    Non-Null Count  Dtype \n",
            "---  ------    --------------  ----- \n",
            " 0   text      499 non-null    object\n",
            " 1   label     499 non-null    object\n",
            " 2   prompt_n  499 non-null    int64 \n",
            "dtypes: int64(1), object(2)\n",
            "memory usage: 11.8+ KB\n",
            "None\n",
            "ChatCompletion(id='chatcmpl-9QhuT3SXgLzsp02of6CIT7gUhCcPe', choices=[Choice(finish_reason='stop', index=0, logprobs=None, message=ChatCompletionMessage(content=\"1. Revenue growth was modest, but cost-saving measures have positioned the company for stronger margins.\\n2. Depreciation expenses remained stable, indicating consistent asset utilization efficiency.\\n3. Marketing expenditures were reallocated, potentially increasing brand awareness and market penetration.\\n4. A slight dip in sales was offset by improved inventory management, enhancing cash flow.\\n5. Capital expenditures were streamlined, potentially leading to more focused growth initiatives.\\n6. Customer acquisition costs have decreased, suggesting enhanced sales efficiency.\\n7. Debt levels were managed effectively, maintaining a strong balance sheet.\\n8. Gross profit margins remained steady amid fluctuating raw material costs.\\n9. Workforce optimization initiatives have begun to yield operational efficiencies.\\n10. The company maintained its market share despite intense competitive pressures.\\n11. Cash reserves remained robust, supporting future strategic investments.\\n12. SG&A expenses were controlled better than anticipated, improving operational leverage.\\n13. Revenue from new product lines showed resilience against market volatility.\\n14. Share repurchase activities indicate confidence in long-term value creation.\\n15. The effective tax rate was lower than forecasted, enhancing net income.\\n16. Inventory turnover improved, reflecting stronger demand forecasting accuracy.\\n17. The company expanded its footprint in emerging markets, diversifying revenue streams.\\n18. Interest expenses were minimized through proactive debt restructuring efforts.\\n19. Strategic divestitures have streamlined the company’s focus on core competencies.\\n20. Free cash flow generation remained strong, supporting future dividend payouts.\\n21. The company’s hedging strategies mitigated adverse currency fluctuations.\\n22. R&D investments were maintained at healthy levels, ensuring innovation continuity.\\n23. Accounts receivable turnover improved, reflecting enhanced credit management practices.\\n24. The effective use of working capital has bolstered liquidity positions.\\n25. The company’s supply chain resilience was tested and proved effective during disruptions.\\n26. Long-term contracts secured stable revenue streams amid market uncertainties.\\n27. Operational leverage has increased due to scalable business models implemented this quarter.\\n28. The company’s digital transformation initiatives are beginning to show productivity gains.\\n29. Strategic partnerships have been formed to enhance market positioning and distribution channels.\\n30. Increased deferred revenue indicates strong future sales commitments from customers.\\n31. The company has maintained a disciplined approach to capital allocation amidst economic headwinds.\\n32. Improved utilization rates of manufacturing facilities suggest operational efficiency gains.\\n33. The company’s ESG initiatives are gaining traction, potentially attracting socially responsible investors.\\n34. Enhanced cybersecurity measures have fortified the company’s IT infrastructure against potential threats.\\n35. The firm’s customer retention rate has remained high despite industry challenges.\\n36. A reduction in administrative expenses reflects improved back-office efficiencies.\\n37. Foreign exchange gains contributed positively to the financial results this quarter.\\n38. The launch of new services has diversified the company’s revenue base and mitigated risks associated with single-product dependency.\\n39. Strategic hiring in key areas is expected to drive future growth initiatives effectively.\\n40. The firm’s proactive approach to regulatory compliance has mitigated potential legal risks and fines.\\n41. Market share in key segments was preserved despite aggressive competition tactics by peers.\\n42. Operational synergies from recent acquisitions are beginning to materialize as projected during due diligence phases.\\n43. Strategic pricing adjustments have helped maintain revenue stability amidst fluctuating demand scenarios.\\n44. Despite a challenging macroeconomic environment, the company has upheld its dividend policy, reflecting financial stability and shareholder commitment.\\n45. Enhanced data analytics capabilities are providing deeper insights into consumer behavior trends, aiding strategic decision-making processes moving forward.\\n\\n46.The company's commitment to sustainability initiatives is attracting attention from environmentally-conscious investors.\\n\\n47.The firm has successfully navigated supply chain disruptions with minimal impact on production schedules.\\n\\n48.Customer feedback on recent product launches has been positive, suggesting potential for increased market adoption.\\n\\n49.The company's strategic focus on high-margin segments is expected to enhance profitability over the long term.\\n\\n50.The implementation of advanced automation technologies is anticipated to reduce operational costs and improve efficiency in future quarters.\\n\\n\", role='assistant', function_call=None, tool_calls=None))], created=1716152345, model='gpt-4o-2024-05-13', object='chat.completion', system_fingerprint='fp_729ea513f7', usage=CompletionUsage(completion_tokens=785, prompt_tokens=291, total_tokens=1076))\n",
            "<class 'pandas.core.frame.DataFrame'>\n",
            "RangeIndex: 544 entries, 0 to 543\n",
            "Data columns (total 3 columns):\n",
            " #   Column    Non-Null Count  Dtype \n",
            "---  ------    --------------  ----- \n",
            " 0   text      544 non-null    object\n",
            " 1   label     544 non-null    object\n",
            " 2   prompt_n  544 non-null    int64 \n",
            "dtypes: int64(1), object(2)\n",
            "memory usage: 12.9+ KB\n",
            "None\n"
          ]
        }
      ]
    },
    {
      "cell_type": "code",
      "source": [
        "user_prompt = (\n",
        "    \"Generate 50 financial communications regarding a company’s quarterly financial performance. Each should subtly suggest negative sentiment, using terms that imply rather than directly state issues or potential problems. \"\n",
        "    \"The language should be sophisticated, suitable for financial reporting, and maintain a professional tone. Avoid explicit negative words. Each statement should be concise, no more than 50 words, integrating critical financial analysis terms and subtly indicating potential risks or unfavorable outcomes. \"\n",
        "    \"Here are a few examples:\\n\"\n",
        "    \"1. Despite a strong market presence, the company's revenue growth has shown signs of plateauing, suggesting potential challenges ahead.\\n\"\n",
        "    \"2. The recent strategic investments have not yet yielded the anticipated returns, raising questions about their long-term impact. \\n\"\n",
        "    \"Ensure diversity in topics such as revenue, earnings, operational efficiency, strategy, market performance, and future outlook.\"\n",
        "\n",
        ")\n",
        "label = \"negative\"\n",
        "max_tokens = 4000\n",
        "model = \"gpt-4o\"\n",
        "df = pd.concat([df , generate_financial_statements(user_prompt, label, max_tokens, 29, model)], ignore_index=True)\n",
        "print(df.info())"
      ],
      "metadata": {
        "colab": {
          "base_uri": "https://localhost:8080/"
        },
        "id": "v6tjKr_Uf0Hu",
        "outputId": "cba68a34-3eba-4fba-fe49-4cdfbb44016c"
      },
      "execution_count": null,
      "outputs": [
        {
          "output_type": "stream",
          "name": "stdout",
          "text": [
            "ChatCompletion(id='chatcmpl-9Qhug7Weyeq54soUk3VlvgxkUTjsO', choices=[Choice(finish_reason='stop', index=0, logprobs=None, message=ChatCompletionMessage(content=\"1. The company's latest earnings report reveals a deceleration in revenue momentum, which may indicate underlying inefficiencies.\\n2. While operational costs remain stable, the anticipated margin expansion has yet to materialize, hinting at potential structural issues.\\n3. Recent market performance, though steady, lacks the anticipated acceleration, pointing to possible market saturation.\\n4. The projected growth rate has been revised downward, suggesting that previous estimates may have been overly optimistic.\\n5. Despite robust sales figures, net income has not kept pace, implying potential cost management challenges.\\n6. The company's strategic pivots have not delivered expected synergies, raising concerns about execution capabilities.\\n7. Cash flow from operations shows signs of strain, potentially limiting future capital expenditure flexibility.\\n8. The latest product line has received mixed market feedback, suggesting that consumer adoption may be slower than anticipated.\\n9. Inventory levels have increased unexpectedly, which could indicate demand forecasting inaccuracies.\\n10. Despite favorable market conditions, the company’s market share has remained static, suggesting competitive pressures.\\n11. While international expansion continues, the expected revenue uplift from these regions remains elusive.\\n12. The firm’s debt-to-equity ratio has inched higher, which might raise questions about its balance sheet robustness.\\n13. Customer acquisition costs have risen more than anticipated, potentially impacting future profitability margins.\\n14. Earnings per share growth has lagged behind industry peers, hinting at possible internal inefficiencies.\\n15. The R&D expenditure has not yet translated into significant product innovation, raising concerns about future growth drivers.\\n16. Despite an uptick in gross revenue, operating expenses have outpaced growth, indicating potential cost management issues.\\n17. The anticipated benefits from recent mergers and acquisitions have been slower to materialize than initially projected.\\n18. Market analysts have revised their earnings forecasts downward, reflecting potential headwinds in core business units.\\n19. The company's forward guidance appears conservative, possibly reflecting management's cautious outlook on near-term growth.\\n20. Despite an increase in total assets, return on assets has declined, suggesting potential inefficiencies in asset utilization.\\n21. Sales pipeline conversion rates have not met expectations, indicating possible challenges in closing deals.\\n22. The company's dividend payout ratio has increased beyond historical norms, potentially signaling constrained reinvestment capacity.\\n23. Despite a diversified portfolio, the revenue contribution from key segments shows limited growth acceleration.\\n24. Market sentiment toward the company remains tepid amidst concerns over its long-term strategic direction.\\n25. The company’s stock buyback program has not significantly buoyed share prices as expected, raising questions about capital allocation efficacy.\\n26. Despite a favorable economic environment, the firm's revenue per employee metric shows little improvement.\\n27. The pace of technological adoption within the company appears slower than industry standards, potentially impacting future competitiveness.\\n28. Analysts note that recent financial disclosures reveal a higher-than-expected attrition rate among key personnel.\\n29. Despite aggressive marketing campaigns, brand recall metrics suggest only modest improvements in consumer engagement.\\n30. The firm's leverage ratio has increased marginally, which could imply higher financial risk exposure in volatile markets.\\n31. Market analysts have expressed concerns over the company’s ability to maintain its current dividend yield amidst fluctuating earnings.\\n32. The company's capital expenditure plans appear subdued compared to previous years, hinting at potential caution in future investments.\\n33. Despite a favorable interest rate environment, interest coverage ratios have shown minimal improvement.\\n34. Recent financial results indicate that the firm’s cost of goods sold remains elevated relative to industry benchmarks.\\n35. Although top-line growth is evident, it is accompanied by an erosion in operating margin percentage points.\\n36. The company's working capital cycle appears elongated this quarter, which might signal liquidity management issues.\\n37. Despite favorable currency exchange rates, international profit contributions remain flat year-over-year.\\n38. Analysts note that recent regulatory changes may pose compliance challenges for the company's operational framework.\\n39. The firm’s strategic initiatives have yet to produce significant shifts in revenue diversification metrics.\\n40. Market share analysis reveals stagnation in key segments where competitive activity is intensifying.\\n41. Despite a robust digital transformation agenda, the pace of digital sales growth remains moderate compared to peers.\\n42. Financial analysts highlight that recent debt issuances are at higher interest rates than previous tranches.\\n43. The company’s equity value shows limited appreciation despite broader market uptrends, suggesting investor apprehension.\\n44. Customer satisfaction scores have shown marginal declines this quarter despite enhanced service initiatives.\\n45. Although there is an uptick in new customer acquisition numbers, repeat purchase rates remain unchanged year-over-year.\\n46. Analysts observe that the firm’s return on invested capital (ROIC) has plateaued despite significant capital inflows into new projects.\\n47. Recent financial metrics reveal that administrative expenses are growing faster than revenue generation activities.\\n48. While shareholder returns remain positive, they are increasingly driven by non-operational factors such as tax benefits and asset sales.\\n49. Market experts caution that the firm’s earnings quality may be impacted by rising non-recurring income components this quarter.\\n\\n50. Despite an increase in advertising spend, brand equity scores show only nominal improvement across key demographics.\\n\\n\", role='assistant', function_call=None, tool_calls=None))], created=1716152358, model='gpt-4o-2024-05-13', object='chat.completion', system_fingerprint='fp_729ea513f7', usage=CompletionUsage(completion_tokens=1024, prompt_tokens=262, total_tokens=1286))\n",
            "<class 'pandas.core.frame.DataFrame'>\n",
            "RangeIndex: 594 entries, 0 to 593\n",
            "Data columns (total 3 columns):\n",
            " #   Column    Non-Null Count  Dtype \n",
            "---  ------    --------------  ----- \n",
            " 0   text      594 non-null    object\n",
            " 1   label     594 non-null    object\n",
            " 2   prompt_n  594 non-null    int64 \n",
            "dtypes: int64(1), object(2)\n",
            "memory usage: 14.0+ KB\n",
            "None\n"
          ]
        }
      ]
    },
    {
      "cell_type": "code",
      "source": [
        "df = pd.concat([df , generate_financial_statements(user_prompt, label, max_tokens, 29, model)], ignore_index=True)\n",
        "print(df.info())\n",
        "df = pd.concat([df , generate_financial_statements(user_prompt, label, max_tokens, 29, model)], ignore_index=True)\n",
        "print(df.info())"
      ],
      "metadata": {
        "colab": {
          "base_uri": "https://localhost:8080/"
        },
        "id": "pn3zNz07p4N-",
        "outputId": "d6e27aea-3bcc-443c-a1f7-39d93f44ed6b"
      },
      "execution_count": null,
      "outputs": [
        {
          "output_type": "stream",
          "name": "stdout",
          "text": [
            "ChatCompletion(id='chatcmpl-9QhwwTvAwF5rE7ktV2DOp3xuNOeia', choices=[Choice(finish_reason='stop', index=0, logprobs=None, message=ChatCompletionMessage(content=\"1. The company's latest earnings report reveals a deceleration in revenue momentum, indicating potential headwinds in sustaining its growth trajectory.\\n2. Operational inefficiencies have led to a marginal decline in profit margins, which may signal underlying structural challenges.\\n3. Despite robust sales figures, the net income has experienced a slight contraction, hinting at increasing cost pressures.\\n4. The anticipated benefits of recent acquisitions have yet to materialize, casting doubt on the efficacy of the integration strategy.\\n5. A modest uptick in operating expenses has overshadowed revenue gains, suggesting potential strain on profitability.\\n6. The company's gross margin has experienced compression, pointing to possible pricing pressures within its core markets.\\n7. Market share gains appear to be tapering off, raising concerns about the company's competitive position moving forward.\\n8. Cash flow from operations has shown a subtle decline, potentially indicating liquidity management issues.\\n9. Inventory levels have risen more than expected, which may imply challenges in demand forecasting and supply chain efficiency.\\n10. The growth rate in international markets has softened, implying potential difficulties in global expansion efforts.\\n11. Earnings per share have exhibited minimal growth, suggesting that shareholder value creation may be under pressure.\\n12. The cost of goods sold has increased incrementally, which could reflect inefficiencies in production processes.\\n13. Recent financial disclosures indicate a slight uptick in debt levels, potentially impacting the company's leverage ratios.\\n14. The return on equity has plateaued, raising questions about the effectiveness of capital deployment strategies.\\n15. There is a noticeable slowdown in new customer acquisitions, which could affect future revenue streams.\\n16. Deferred revenue figures suggest that future earnings may not meet previously set expectations.\\n17. A marginal dip in operating income highlights potential vulnerabilities in the company's core business operations.\\n18. The effective tax rate has increased slightly, which may impact net profitability moving forward.\\n19. A subtle rise in accounts receivable days points to potential issues with credit management and collections.\\n20. The company's capital expenditure appears elevated without commensurate returns, suggesting inefficiencies in investment allocation.\\n21. Despite a stable top line, bottom-line growth has been lackluster, raising concerns about cost containment efforts.\\n22. The company's return on assets has seen a slight decline, indicating potential inefficiencies in asset utilization.\\n23. Free cash flow generation has been less robust than anticipated, which could constrain future strategic initiatives.\\n24. The company's market capitalization has remained relatively flat despite broader market gains, hinting at investor skepticism.\\n25. Sales growth in key product segments appears to be losing momentum, potentially impacting overall revenue diversification.\\n26. Operating cash flow margin has contracted modestly, suggesting challenges in converting sales into cash efficiently.\\n27. There is an emerging trend of longer sales cycles, which could impact near-term revenue recognition and cash flow timing.\\n28. The company's dividend yield remains unchanged despite increased earnings, potentially signaling cautious capital management policies.\\n29. Employee productivity metrics have shown minimal improvement, raising questions about operational efficiency enhancements.\\n30. Customer retention rates have exhibited slight declines, potentially indicating competitive pressures or satisfaction issues.\\n31. Investment returns from recent R&D initiatives have been underwhelming, casting doubt on innovation strategy effectiveness.\\n32. The company's P/E ratio has compressed slightly relative to peers, suggesting potential reevaluation by investors regarding future growth prospects.\\n33. A minor increase in interest expense could signal rising borrowing costs impacting financial flexibility.\\n34. The latest balance sheet reveals incremental increases in liabilities relative to assets, hinting at potential leverage concerns.\\n35. While marketing expenditures have risen, corresponding sales growth has not kept pace, raising questions about campaign effectiveness.\\n36. Net profit margins have remained stagnant despite revenue growth, which could indicate underlying cost management challenges.\\n37. There is a subtle rise in warranty claims and returns, potentially reflecting quality control issues that need addressing.\\n38. The company's working capital turnover ratio has declined slightly, suggesting potential inefficiencies in managing short-term assets and liabilities.\\n39. Analyst revisions of earnings estimates indicate cautious optimism but reflect tempered expectations for future performance improvements.\\n40. Recent strategic partnerships have yet to translate into significant financial benefits, raising concerns about their long-term viability and impact.\\n41. A marginal downturn in operating leverage suggests that fixed costs are not being absorbed efficiently as revenues grow.\\n42. Revenue per employee metrics have shown minimal improvement year-over-year, hinting at potential productivity challenges within the workforce.\\n43. The net asset value per share has seen only modest increases despite substantial asset additions, implying possible valuation concerns or asset quality issues.\\n44. Despite achieving key performance targets, there is limited evidence of significant value creation for shareholders over the reporting period.\\n45. Fluctuations in foreign exchange rates have had a more pronounced impact on earnings than anticipated, indicating potential currency risk exposure management issues.\\n46. Capital return programs have not accelerated as expected despite strong cash reserves, suggesting a conservative approach to shareholder distributions amid uncertain times ahead.\\n47. The company’s EBITDA margin experienced minor erosion this quarter compared to last year’s corresponding period due to unanticipated operational challenges within certain business units.\\n48. Share buyback activities were less aggressive this quarter compared to historical trends despite favorable market conditions; this could imply cautionary stance by management regarding near-term outlooks or capital allocation priorities shifting elsewhere temporarily\\n49. Quarterly guidance revisions reflect a more conservative stance than previous forecasts had indicated; this adjustment could be interpreted as management tempering expectations amidst evolving market dynamics or operational uncertainties developing internally\\n50 .Despite consistent top-line performance across major segments during this reporting period ,there was no notable expansion observed within gross profit margins ;this outcome could suggest persistent cost containment issues not yet fully addressed by current operational strategies\", role='assistant', function_call=None, tool_calls=None))], created=1716152498, model='gpt-4o-2024-05-13', object='chat.completion', system_fingerprint='fp_729ea513f7', usage=CompletionUsage(completion_tokens=1131, prompt_tokens=262, total_tokens=1393))\n",
            "<class 'pandas.core.frame.DataFrame'>\n",
            "RangeIndex: 643 entries, 0 to 642\n",
            "Data columns (total 3 columns):\n",
            " #   Column    Non-Null Count  Dtype \n",
            "---  ------    --------------  ----- \n",
            " 0   text      643 non-null    object\n",
            " 1   label     643 non-null    object\n",
            " 2   prompt_n  643 non-null    int64 \n",
            "dtypes: int64(1), object(2)\n",
            "memory usage: 15.2+ KB\n",
            "None\n",
            "ChatCompletion(id='chatcmpl-9QhxBXfbF5NooDbfBcSasJ60rLE7i', choices=[Choice(finish_reason='stop', index=0, logprobs=None, message=ChatCompletionMessage(content=\"1. The company’s recent earnings report reveals a deceleration in profit margins, potentially indicating inefficiencies in cost management.\\n2. While top-line growth remains stable, a closer examination reveals stagnation in core business segments, which could pose future hurdles.\\n3. The quarterly results highlight a modest increase in revenue, yet operating expenses have risen disproportionately, raising sustainability concerns.\\n4. Although the firm reports steady sales figures, the declining operating income suggests potential underlying operational challenges.\\n5. The latest financial disclosures show an uptick in debt levels, which might pressure future cash flows and liquidity positions.\\n6. Despite expanding its market footprint, the company’s return on equity has shown minimal improvement, hinting at possible capital allocation issues.\\n7. Recent results indicate that inventory turnover has slowed, potentially reflecting inefficiencies in supply chain management.\\n8. While the firm has maintained steady revenue streams, the growth rate appears to be losing momentum, warranting closer scrutiny.\\n9. The company’s latest financials reflect a slight dip in gross profit margins, signaling potential issues with pricing power or cost control.\\n10. Although net income remains positive, the decline in free cash flow suggests potential future liquidity challenges.\\n11. The firm’s recent strategic pivot has yet to manifest in improved financial metrics, raising questions about its efficacy.\\n12. Despite robust sales figures, net profit growth appears tepid, possibly indicating rising operational costs or competitive pressures.\\n13. The company’s balance sheet reveals an increase in short-term liabilities, which might affect its working capital management.\\n14. Although revenue from new product lines shows promise, overall profitability has not seen a commensurate rise.\\n15. The latest earnings report shows a rise in administrative expenses, which could potentially erode future profitability margins.\\n16. Despite a nominal increase in earnings per share, the firm’s price-to-earnings ratio suggests overvaluation concerns among investors.\\n17. While the company continues to innovate, the R&D expenses have surged without a corresponding increase in revenue streams.\\n18. The recent quarterly performance indicates subdued growth in international markets, which might impact long-term expansion plans.\\n19. Although customer acquisition remains strong, retention rates have shown signs of weakening, which could pressure future revenue streams.\\n20. The firm's financial health appears stable; however, the slowing growth rate of net income raises potential red flags for investors.\\n21. Despite expanding its product portfolio, the company’s gross margins have remained flat, suggesting potential pricing or cost issues.\\n22. The latest performance review points to increased capital expenditures with limited short-term returns visible on the balance sheet.\\n23. While the firm reports consistent dividend payouts, the coverage ratio suggests potential strain on future distributions.\\n24. Recent acquisitions have not yet translated into significant revenue synergies, raising questions about their strategic fit and valuation.\\n25. Although market share remains robust, competitive pressures appear to be impacting pricing strategies and profitability margins.\\n26. The company's forward guidance indicates cautious optimism; however, historical performance suggests conservative estimates may be prudent.\\n27. Despite solid top-line growth, net income has been adversely affected by rising interest expenses due to increased leverage.\\n28. While expansion efforts are ongoing, the incremental cost structure raises concerns about achieving sustainable margin improvements.\\n29. The latest quarterly figures reveal a contraction in working capital efficiency ratios, potentially impacting operational liquidity.\\n30. Although revenue diversification efforts are underway, core segment performance remains lackluster compared to historical trends.\\n31. Recent financial statements indicate a rise in accounts receivable days outstanding, potentially affecting cash conversion cycles.\\n32. Despite achieving revenue targets, the increase in production costs signals potential pressures on future gross profit margins.\\n33. While strategic partnerships are being formed, their immediate impact on financial performance remains uncertain and unquantified.\\n34. The company's asset utilization ratios have shown minimal improvement year-over-year, suggesting potential inefficiencies in resource deployment.\\n35. Although sales volumes are up, the slowing growth rate of net profits indicates potential competitive or operational challenges ahead.\\n36. Recent earnings calls have highlighted ambitious expansion plans; however, execution risks and integration costs remain key concerns.\\n37. Despite favorable macroeconomic conditions, the firm’s revenue growth has been modestly below industry benchmarks.\\n38. The company's leverage ratios have increased slightly this quarter, raising questions about future interest coverage capabilities.\\n39. Although innovation remains a key focus area, R&D expenditure increases have not yet led to proportional revenue enhancements.\\n40. Recent quarterly results show an uptick in marketing expenses without a corresponding rise in sales figures, questioning ROI effectiveness.\\n41. While customer base expansion is evident, average revenue per user (ARPU) growth has shown signs of plateauing this quarter.\\n42. Despite maintaining a strong brand presence, EBITDA margins have remained stagnant over recent reporting periods.\\n43. The firm's capital structure adjustments have led to higher interest burdens without immediate visible gains in financial performance metrics.\\n44. Although operational efficiency programs are underway, their impact on reducing SG&A expenses remains to be fully realized.\\n45. The company’s payout ratio has increased slightly this quarter, which might signal potential constraints on future dividend growth capacity.\\n46. Recent strategic divestitures have streamlined operations; however, they have also led to short-term revenue contractions that need addressing.\\n47. Although digital transformation initiatives are progressing well, their contribution to overall profitability remains marginal at this stage.\\n48. Despite achieving milestone targets for new projects, overall investor sentiment reflects cautious optimism based on historical performance trends.\\n49. While management's outlook remains positive for upcoming quarters, past performance indicates that achieving set targets may require significant effort and resources.\\n50. Recent financial guidance revisions suggest tempered expectations for near-term growth amidst evolving competitive dynamics and market conditions.\\n\\n\", role='assistant', function_call=None, tool_calls=None))], created=1716152513, model='gpt-4o-2024-05-13', object='chat.completion', system_fingerprint='fp_729ea513f7', usage=CompletionUsage(completion_tokens=1132, prompt_tokens=262, total_tokens=1394))\n",
            "<class 'pandas.core.frame.DataFrame'>\n",
            "RangeIndex: 693 entries, 0 to 692\n",
            "Data columns (total 3 columns):\n",
            " #   Column    Non-Null Count  Dtype \n",
            "---  ------    --------------  ----- \n",
            " 0   text      693 non-null    object\n",
            " 1   label     693 non-null    object\n",
            " 2   prompt_n  693 non-null    int64 \n",
            "dtypes: int64(1), object(2)\n",
            "memory usage: 16.4+ KB\n",
            "None\n"
          ]
        }
      ]
    },
    {
      "cell_type": "code",
      "source": [
        "from google.colab import drive\n",
        "drive.mount('/content/gdrive')"
      ],
      "metadata": {
        "colab": {
          "base_uri": "https://localhost:8080/"
        },
        "id": "P9E0LaSgbVJ1",
        "outputId": "85ba2307-b18f-421c-a84d-07adddbf273b"
      },
      "execution_count": null,
      "outputs": [
        {
          "output_type": "stream",
          "name": "stdout",
          "text": [
            "Mounted at /content/gdrive\n"
          ]
        }
      ]
    },
    {
      "cell_type": "code",
      "source": [
        "df.to_csv('/content/gdrive/MyDrive/GPT4o_extract_1905.csv', index=False)"
      ],
      "metadata": {
        "id": "PYEI-eXynnYA"
      },
      "execution_count": null,
      "outputs": []
    },
    {
      "cell_type": "code",
      "source": [],
      "metadata": {
        "id": "xQ6PsPqIr4vg"
      },
      "execution_count": null,
      "outputs": []
    }
  ]
}