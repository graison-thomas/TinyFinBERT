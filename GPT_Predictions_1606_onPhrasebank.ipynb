{
  "nbformat": 4,
  "nbformat_minor": 0,
  "metadata": {
    "colab": {
      "provenance": []
    },
    "kernelspec": {
      "name": "python3",
      "display_name": "Python 3"
    },
    "language_info": {
      "name": "python"
    }
  },
  "cells": [
    {
      "cell_type": "code",
      "execution_count": null,
      "metadata": {
        "colab": {
          "base_uri": "https://localhost:8080/"
        },
        "id": "g1turjCYe4js",
        "outputId": "ae67acf6-6c8a-46e8-a273-d4349c7e0177"
      },
      "outputs": [
        {
          "output_type": "stream",
          "name": "stdout",
          "text": [
            "Mounted at /content/gdrive\n"
          ]
        }
      ],
      "source": [
        "from google.colab import drive\n",
        "drive.mount('/content/gdrive')"
      ]
    },
    {
      "cell_type": "code",
      "execution_count": null,
      "metadata": {
        "id": "V0sMk3N5RR_p"
      },
      "outputs": [],
      "source": [
        "import pandas as pd\n",
        "from sklearn.model_selection import train_test_split\n",
        "import os"
      ]
    },
    {
      "cell_type": "code",
      "source": [
        "!unzip \"/content/gdrive/MyDrive/FinancialPhraseBank-v1.0.zip\""
      ],
      "metadata": {
        "colab": {
          "base_uri": "https://localhost:8080/"
        },
        "id": "TPVYPCgJDvd1",
        "outputId": "0a2f46ed-1c8d-4963-e028-b323f9955108"
      },
      "execution_count": null,
      "outputs": [
        {
          "output_type": "stream",
          "name": "stdout",
          "text": [
            "Archive:  /content/gdrive/MyDrive/FinancialPhraseBank-v1.0.zip\n",
            "   creating: FinancialPhraseBank-v1.0/\n",
            "  inflating: FinancialPhraseBank-v1.0/License.txt  \n",
            "   creating: __MACOSX/\n",
            "   creating: __MACOSX/FinancialPhraseBank-v1.0/\n",
            "  inflating: __MACOSX/FinancialPhraseBank-v1.0/._License.txt  \n",
            "  inflating: FinancialPhraseBank-v1.0/README.txt  \n",
            "  inflating: __MACOSX/FinancialPhraseBank-v1.0/._README.txt  \n",
            "  inflating: FinancialPhraseBank-v1.0/Sentences_50Agree.txt  \n",
            "  inflating: FinancialPhraseBank-v1.0/Sentences_66Agree.txt  \n",
            "  inflating: FinancialPhraseBank-v1.0/Sentences_75Agree.txt  \n",
            "  inflating: FinancialPhraseBank-v1.0/Sentences_AllAgree.txt  \n"
          ]
        }
      ]
    },
    {
      "cell_type": "code",
      "source": [
        "data = pd.read_csv('/content/FinancialPhraseBank-v1.0/Sentences_50Agree.txt', sep='@', names=['text','label'], engine='python', encoding='latin1')"
      ],
      "metadata": {
        "id": "8Pwz_sx2Dx3W"
      },
      "execution_count": null,
      "outputs": []
    },
    {
      "cell_type": "code",
      "source": [
        "data.info()"
      ],
      "metadata": {
        "colab": {
          "base_uri": "https://localhost:8080/"
        },
        "id": "OLSEdFfND9Jz",
        "outputId": "21b41fda-4e40-4cb5-8bdb-7adb709f74c6"
      },
      "execution_count": null,
      "outputs": [
        {
          "output_type": "stream",
          "name": "stdout",
          "text": [
            "<class 'pandas.core.frame.DataFrame'>\n",
            "RangeIndex: 4846 entries, 0 to 4845\n",
            "Data columns (total 2 columns):\n",
            " #   Column  Non-Null Count  Dtype \n",
            "---  ------  --------------  ----- \n",
            " 0   text    4846 non-null   object\n",
            " 1   label   4846 non-null   object\n",
            "dtypes: object(2)\n",
            "memory usage: 75.8+ KB\n"
          ]
        }
      ]
    },
    {
      "cell_type": "code",
      "source": [
        "df_unique = data.drop_duplicates(subset=['text'])\n",
        "print(df_unique.info())"
      ],
      "metadata": {
        "colab": {
          "base_uri": "https://localhost:8080/"
        },
        "id": "n_SpMiQ5EFW1",
        "outputId": "f5141ac5-2cd4-4aeb-a5d5-3b41ec6ff119"
      },
      "execution_count": null,
      "outputs": [
        {
          "output_type": "stream",
          "name": "stdout",
          "text": [
            "<class 'pandas.core.frame.DataFrame'>\n",
            "Index: 4838 entries, 0 to 4845\n",
            "Data columns (total 2 columns):\n",
            " #   Column  Non-Null Count  Dtype \n",
            "---  ------  --------------  ----- \n",
            " 0   text    4838 non-null   object\n",
            " 1   label   4838 non-null   object\n",
            "dtypes: object(2)\n",
            "memory usage: 113.4+ KB\n",
            "None\n"
          ]
        }
      ]
    },
    {
      "cell_type": "code",
      "source": [
        "train, test = train_test_split(df_unique, test_size=0.2, random_state=0)\n",
        "test = test.reset_index(drop=True)"
      ],
      "metadata": {
        "id": "nDqAtjN-D-cU"
      },
      "execution_count": null,
      "outputs": []
    },
    {
      "cell_type": "code",
      "source": [
        "test.info()"
      ],
      "metadata": {
        "colab": {
          "base_uri": "https://localhost:8080/"
        },
        "id": "a1QMtbunRqTT",
        "outputId": "47bc6b44-0240-49b3-e32a-df95f31aac5a"
      },
      "execution_count": null,
      "outputs": [
        {
          "output_type": "stream",
          "name": "stdout",
          "text": [
            "<class 'pandas.core.frame.DataFrame'>\n",
            "RangeIndex: 968 entries, 0 to 967\n",
            "Data columns (total 2 columns):\n",
            " #   Column  Non-Null Count  Dtype \n",
            "---  ------  --------------  ----- \n",
            " 0   text    968 non-null    object\n",
            " 1   label   968 non-null    object\n",
            "dtypes: object(2)\n",
            "memory usage: 15.2+ KB\n"
          ]
        }
      ]
    },
    {
      "cell_type": "code",
      "source": [
        "test.label.value_counts()"
      ],
      "metadata": {
        "colab": {
          "base_uri": "https://localhost:8080/"
        },
        "id": "aFDzvpebgVni",
        "outputId": "63b5f591-ba77-4f1c-d19f-e9e34f03ff8b"
      },
      "execution_count": null,
      "outputs": [
        {
          "output_type": "execute_result",
          "data": {
            "text/plain": [
              "label\n",
              "neutral     592\n",
              "positive    267\n",
              "negative    109\n",
              "Name: count, dtype: int64"
            ]
          },
          "metadata": {},
          "execution_count": 9
        }
      ]
    },
    {
      "cell_type": "code",
      "source": [
        "test.head()"
      ],
      "metadata": {
        "colab": {
          "base_uri": "https://localhost:8080/",
          "height": 206
        },
        "id": "odSN1OARIU7l",
        "outputId": "9c532cac-fb19-496c-a0eb-3a5c34c31b43"
      },
      "execution_count": null,
      "outputs": [
        {
          "output_type": "execute_result",
          "data": {
            "text/plain": [
              "                                                text     label\n",
              "0  Raute , headquartered in Nastola , Finland , i...   neutral\n",
              "1  And earlier this month , the company signed a ...  positive\n",
              "2  The divested activities had net sales of EUR 1...   neutral\n",
              "3  `` We can say that the number of deals has bec...  negative\n",
              "4  The manager is critical of politicians ' failu...   neutral"
            ],
            "text/html": [
              "\n",
              "  <div id=\"df-f44f3139-1fb8-45b7-8f52-94963d32de0b\" class=\"colab-df-container\">\n",
              "    <div>\n",
              "<style scoped>\n",
              "    .dataframe tbody tr th:only-of-type {\n",
              "        vertical-align: middle;\n",
              "    }\n",
              "\n",
              "    .dataframe tbody tr th {\n",
              "        vertical-align: top;\n",
              "    }\n",
              "\n",
              "    .dataframe thead th {\n",
              "        text-align: right;\n",
              "    }\n",
              "</style>\n",
              "<table border=\"1\" class=\"dataframe\">\n",
              "  <thead>\n",
              "    <tr style=\"text-align: right;\">\n",
              "      <th></th>\n",
              "      <th>text</th>\n",
              "      <th>label</th>\n",
              "    </tr>\n",
              "  </thead>\n",
              "  <tbody>\n",
              "    <tr>\n",
              "      <th>0</th>\n",
              "      <td>Raute , headquartered in Nastola , Finland , i...</td>\n",
              "      <td>neutral</td>\n",
              "    </tr>\n",
              "    <tr>\n",
              "      <th>1</th>\n",
              "      <td>And earlier this month , the company signed a ...</td>\n",
              "      <td>positive</td>\n",
              "    </tr>\n",
              "    <tr>\n",
              "      <th>2</th>\n",
              "      <td>The divested activities had net sales of EUR 1...</td>\n",
              "      <td>neutral</td>\n",
              "    </tr>\n",
              "    <tr>\n",
              "      <th>3</th>\n",
              "      <td>`` We can say that the number of deals has bec...</td>\n",
              "      <td>negative</td>\n",
              "    </tr>\n",
              "    <tr>\n",
              "      <th>4</th>\n",
              "      <td>The manager is critical of politicians ' failu...</td>\n",
              "      <td>neutral</td>\n",
              "    </tr>\n",
              "  </tbody>\n",
              "</table>\n",
              "</div>\n",
              "    <div class=\"colab-df-buttons\">\n",
              "\n",
              "  <div class=\"colab-df-container\">\n",
              "    <button class=\"colab-df-convert\" onclick=\"convertToInteractive('df-f44f3139-1fb8-45b7-8f52-94963d32de0b')\"\n",
              "            title=\"Convert this dataframe to an interactive table.\"\n",
              "            style=\"display:none;\">\n",
              "\n",
              "  <svg xmlns=\"http://www.w3.org/2000/svg\" height=\"24px\" viewBox=\"0 -960 960 960\">\n",
              "    <path d=\"M120-120v-720h720v720H120Zm60-500h600v-160H180v160Zm220 220h160v-160H400v160Zm0 220h160v-160H400v160ZM180-400h160v-160H180v160Zm440 0h160v-160H620v160ZM180-180h160v-160H180v160Zm440 0h160v-160H620v160Z\"/>\n",
              "  </svg>\n",
              "    </button>\n",
              "\n",
              "  <style>\n",
              "    .colab-df-container {\n",
              "      display:flex;\n",
              "      gap: 12px;\n",
              "    }\n",
              "\n",
              "    .colab-df-convert {\n",
              "      background-color: #E8F0FE;\n",
              "      border: none;\n",
              "      border-radius: 50%;\n",
              "      cursor: pointer;\n",
              "      display: none;\n",
              "      fill: #1967D2;\n",
              "      height: 32px;\n",
              "      padding: 0 0 0 0;\n",
              "      width: 32px;\n",
              "    }\n",
              "\n",
              "    .colab-df-convert:hover {\n",
              "      background-color: #E2EBFA;\n",
              "      box-shadow: 0px 1px 2px rgba(60, 64, 67, 0.3), 0px 1px 3px 1px rgba(60, 64, 67, 0.15);\n",
              "      fill: #174EA6;\n",
              "    }\n",
              "\n",
              "    .colab-df-buttons div {\n",
              "      margin-bottom: 4px;\n",
              "    }\n",
              "\n",
              "    [theme=dark] .colab-df-convert {\n",
              "      background-color: #3B4455;\n",
              "      fill: #D2E3FC;\n",
              "    }\n",
              "\n",
              "    [theme=dark] .colab-df-convert:hover {\n",
              "      background-color: #434B5C;\n",
              "      box-shadow: 0px 1px 3px 1px rgba(0, 0, 0, 0.15);\n",
              "      filter: drop-shadow(0px 1px 2px rgba(0, 0, 0, 0.3));\n",
              "      fill: #FFFFFF;\n",
              "    }\n",
              "  </style>\n",
              "\n",
              "    <script>\n",
              "      const buttonEl =\n",
              "        document.querySelector('#df-f44f3139-1fb8-45b7-8f52-94963d32de0b button.colab-df-convert');\n",
              "      buttonEl.style.display =\n",
              "        google.colab.kernel.accessAllowed ? 'block' : 'none';\n",
              "\n",
              "      async function convertToInteractive(key) {\n",
              "        const element = document.querySelector('#df-f44f3139-1fb8-45b7-8f52-94963d32de0b');\n",
              "        const dataTable =\n",
              "          await google.colab.kernel.invokeFunction('convertToInteractive',\n",
              "                                                    [key], {});\n",
              "        if (!dataTable) return;\n",
              "\n",
              "        const docLinkHtml = 'Like what you see? Visit the ' +\n",
              "          '<a target=\"_blank\" href=https://colab.research.google.com/notebooks/data_table.ipynb>data table notebook</a>'\n",
              "          + ' to learn more about interactive tables.';\n",
              "        element.innerHTML = '';\n",
              "        dataTable['output_type'] = 'display_data';\n",
              "        await google.colab.output.renderOutput(dataTable, element);\n",
              "        const docLink = document.createElement('div');\n",
              "        docLink.innerHTML = docLinkHtml;\n",
              "        element.appendChild(docLink);\n",
              "      }\n",
              "    </script>\n",
              "  </div>\n",
              "\n",
              "\n",
              "<div id=\"df-01e7f54b-f1e4-41d8-ac13-3ac24aaecd37\">\n",
              "  <button class=\"colab-df-quickchart\" onclick=\"quickchart('df-01e7f54b-f1e4-41d8-ac13-3ac24aaecd37')\"\n",
              "            title=\"Suggest charts\"\n",
              "            style=\"display:none;\">\n",
              "\n",
              "<svg xmlns=\"http://www.w3.org/2000/svg\" height=\"24px\"viewBox=\"0 0 24 24\"\n",
              "     width=\"24px\">\n",
              "    <g>\n",
              "        <path d=\"M19 3H5c-1.1 0-2 .9-2 2v14c0 1.1.9 2 2 2h14c1.1 0 2-.9 2-2V5c0-1.1-.9-2-2-2zM9 17H7v-7h2v7zm4 0h-2V7h2v10zm4 0h-2v-4h2v4z\"/>\n",
              "    </g>\n",
              "</svg>\n",
              "  </button>\n",
              "\n",
              "<style>\n",
              "  .colab-df-quickchart {\n",
              "      --bg-color: #E8F0FE;\n",
              "      --fill-color: #1967D2;\n",
              "      --hover-bg-color: #E2EBFA;\n",
              "      --hover-fill-color: #174EA6;\n",
              "      --disabled-fill-color: #AAA;\n",
              "      --disabled-bg-color: #DDD;\n",
              "  }\n",
              "\n",
              "  [theme=dark] .colab-df-quickchart {\n",
              "      --bg-color: #3B4455;\n",
              "      --fill-color: #D2E3FC;\n",
              "      --hover-bg-color: #434B5C;\n",
              "      --hover-fill-color: #FFFFFF;\n",
              "      --disabled-bg-color: #3B4455;\n",
              "      --disabled-fill-color: #666;\n",
              "  }\n",
              "\n",
              "  .colab-df-quickchart {\n",
              "    background-color: var(--bg-color);\n",
              "    border: none;\n",
              "    border-radius: 50%;\n",
              "    cursor: pointer;\n",
              "    display: none;\n",
              "    fill: var(--fill-color);\n",
              "    height: 32px;\n",
              "    padding: 0;\n",
              "    width: 32px;\n",
              "  }\n",
              "\n",
              "  .colab-df-quickchart:hover {\n",
              "    background-color: var(--hover-bg-color);\n",
              "    box-shadow: 0 1px 2px rgba(60, 64, 67, 0.3), 0 1px 3px 1px rgba(60, 64, 67, 0.15);\n",
              "    fill: var(--button-hover-fill-color);\n",
              "  }\n",
              "\n",
              "  .colab-df-quickchart-complete:disabled,\n",
              "  .colab-df-quickchart-complete:disabled:hover {\n",
              "    background-color: var(--disabled-bg-color);\n",
              "    fill: var(--disabled-fill-color);\n",
              "    box-shadow: none;\n",
              "  }\n",
              "\n",
              "  .colab-df-spinner {\n",
              "    border: 2px solid var(--fill-color);\n",
              "    border-color: transparent;\n",
              "    border-bottom-color: var(--fill-color);\n",
              "    animation:\n",
              "      spin 1s steps(1) infinite;\n",
              "  }\n",
              "\n",
              "  @keyframes spin {\n",
              "    0% {\n",
              "      border-color: transparent;\n",
              "      border-bottom-color: var(--fill-color);\n",
              "      border-left-color: var(--fill-color);\n",
              "    }\n",
              "    20% {\n",
              "      border-color: transparent;\n",
              "      border-left-color: var(--fill-color);\n",
              "      border-top-color: var(--fill-color);\n",
              "    }\n",
              "    30% {\n",
              "      border-color: transparent;\n",
              "      border-left-color: var(--fill-color);\n",
              "      border-top-color: var(--fill-color);\n",
              "      border-right-color: var(--fill-color);\n",
              "    }\n",
              "    40% {\n",
              "      border-color: transparent;\n",
              "      border-right-color: var(--fill-color);\n",
              "      border-top-color: var(--fill-color);\n",
              "    }\n",
              "    60% {\n",
              "      border-color: transparent;\n",
              "      border-right-color: var(--fill-color);\n",
              "    }\n",
              "    80% {\n",
              "      border-color: transparent;\n",
              "      border-right-color: var(--fill-color);\n",
              "      border-bottom-color: var(--fill-color);\n",
              "    }\n",
              "    90% {\n",
              "      border-color: transparent;\n",
              "      border-bottom-color: var(--fill-color);\n",
              "    }\n",
              "  }\n",
              "</style>\n",
              "\n",
              "  <script>\n",
              "    async function quickchart(key) {\n",
              "      const quickchartButtonEl =\n",
              "        document.querySelector('#' + key + ' button');\n",
              "      quickchartButtonEl.disabled = true;  // To prevent multiple clicks.\n",
              "      quickchartButtonEl.classList.add('colab-df-spinner');\n",
              "      try {\n",
              "        const charts = await google.colab.kernel.invokeFunction(\n",
              "            'suggestCharts', [key], {});\n",
              "      } catch (error) {\n",
              "        console.error('Error during call to suggestCharts:', error);\n",
              "      }\n",
              "      quickchartButtonEl.classList.remove('colab-df-spinner');\n",
              "      quickchartButtonEl.classList.add('colab-df-quickchart-complete');\n",
              "    }\n",
              "    (() => {\n",
              "      let quickchartButtonEl =\n",
              "        document.querySelector('#df-01e7f54b-f1e4-41d8-ac13-3ac24aaecd37 button');\n",
              "      quickchartButtonEl.style.display =\n",
              "        google.colab.kernel.accessAllowed ? 'block' : 'none';\n",
              "    })();\n",
              "  </script>\n",
              "</div>\n",
              "\n",
              "    </div>\n",
              "  </div>\n"
            ],
            "application/vnd.google.colaboratory.intrinsic+json": {
              "type": "dataframe",
              "variable_name": "test",
              "summary": "{\n  \"name\": \"test\",\n  \"rows\": 968,\n  \"fields\": [\n    {\n      \"column\": \"text\",\n      \"properties\": {\n        \"dtype\": \"string\",\n        \"num_unique_values\": 968,\n        \"samples\": [\n          \"Performance in the second half of 2009 exceeded expectations .\",\n          \"The company 's net profit rose 11.4 % on the year to 82.2 million euros in 2005 on sales of 686.5 million euros , 13.8 % up on the year , the company said earlier .\",\n          \"Originally posted to the PCMag.com security blog , Security Watch .\"\n        ],\n        \"semantic_type\": \"\",\n        \"description\": \"\"\n      }\n    },\n    {\n      \"column\": \"label\",\n      \"properties\": {\n        \"dtype\": \"category\",\n        \"num_unique_values\": 3,\n        \"samples\": [\n          \"neutral\",\n          \"positive\",\n          \"negative\"\n        ],\n        \"semantic_type\": \"\",\n        \"description\": \"\"\n      }\n    }\n  ]\n}"
            }
          },
          "metadata": {},
          "execution_count": 10
        }
      ]
    },
    {
      "cell_type": "markdown",
      "source": [
        "# GPT-4 labelling"
      ],
      "metadata": {
        "id": "hnrDxBQlkCE4"
      }
    },
    {
      "cell_type": "code",
      "source": [
        "!pip install openai\n",
        "from openai import OpenAI\n",
        "client = OpenAI(api_key='sk-proj-hEv32vgqXTnk8oxTyhhpT3BlbkFJSBixmeuoz6s5mkpOg9NU',)\n",
        "import pandas as pd\n",
        "import re  # Import the regex module"
      ],
      "metadata": {
        "colab": {
          "base_uri": "https://localhost:8080/"
        },
        "id": "qvUVVefvkOGJ",
        "outputId": "bb65950e-b7d4-445f-a4d8-98fdd74b6c67"
      },
      "execution_count": null,
      "outputs": [
        {
          "output_type": "stream",
          "name": "stdout",
          "text": [
            "Collecting openai\n",
            "  Downloading openai-1.34.0-py3-none-any.whl (325 kB)\n",
            "\u001b[2K     \u001b[90m━━━━━━━━━━━━━━━━━━━━━━━━━━━━━━━━━━━━━━━━\u001b[0m \u001b[32m325.5/325.5 kB\u001b[0m \u001b[31m5.3 MB/s\u001b[0m eta \u001b[36m0:00:00\u001b[0m\n",
            "\u001b[?25hRequirement already satisfied: anyio<5,>=3.5.0 in /usr/local/lib/python3.10/dist-packages (from openai) (3.7.1)\n",
            "Requirement already satisfied: distro<2,>=1.7.0 in /usr/lib/python3/dist-packages (from openai) (1.7.0)\n",
            "Collecting httpx<1,>=0.23.0 (from openai)\n",
            "  Downloading httpx-0.27.0-py3-none-any.whl (75 kB)\n",
            "\u001b[2K     \u001b[90m━━━━━━━━━━━━━━━━━━━━━━━━━━━━━━━━━━━━━━━━\u001b[0m \u001b[32m75.6/75.6 kB\u001b[0m \u001b[31m9.8 MB/s\u001b[0m eta \u001b[36m0:00:00\u001b[0m\n",
            "\u001b[?25hRequirement already satisfied: pydantic<3,>=1.9.0 in /usr/local/lib/python3.10/dist-packages (from openai) (2.7.3)\n",
            "Requirement already satisfied: sniffio in /usr/local/lib/python3.10/dist-packages (from openai) (1.3.1)\n",
            "Requirement already satisfied: tqdm>4 in /usr/local/lib/python3.10/dist-packages (from openai) (4.66.4)\n",
            "Requirement already satisfied: typing-extensions<5,>=4.7 in /usr/local/lib/python3.10/dist-packages (from openai) (4.12.2)\n",
            "Requirement already satisfied: idna>=2.8 in /usr/local/lib/python3.10/dist-packages (from anyio<5,>=3.5.0->openai) (3.7)\n",
            "Requirement already satisfied: exceptiongroup in /usr/local/lib/python3.10/dist-packages (from anyio<5,>=3.5.0->openai) (1.2.1)\n",
            "Requirement already satisfied: certifi in /usr/local/lib/python3.10/dist-packages (from httpx<1,>=0.23.0->openai) (2024.6.2)\n",
            "Collecting httpcore==1.* (from httpx<1,>=0.23.0->openai)\n",
            "  Downloading httpcore-1.0.5-py3-none-any.whl (77 kB)\n",
            "\u001b[2K     \u001b[90m━━━━━━━━━━━━━━━━━━━━━━━━━━━━━━━━━━━━━━━━\u001b[0m \u001b[32m77.9/77.9 kB\u001b[0m \u001b[31m8.8 MB/s\u001b[0m eta \u001b[36m0:00:00\u001b[0m\n",
            "\u001b[?25hCollecting h11<0.15,>=0.13 (from httpcore==1.*->httpx<1,>=0.23.0->openai)\n",
            "  Downloading h11-0.14.0-py3-none-any.whl (58 kB)\n",
            "\u001b[2K     \u001b[90m━━━━━━━━━━━━━━━━━━━━━━━━━━━━━━━━━━━━━━━━\u001b[0m \u001b[32m58.3/58.3 kB\u001b[0m \u001b[31m5.7 MB/s\u001b[0m eta \u001b[36m0:00:00\u001b[0m\n",
            "\u001b[?25hRequirement already satisfied: annotated-types>=0.4.0 in /usr/local/lib/python3.10/dist-packages (from pydantic<3,>=1.9.0->openai) (0.7.0)\n",
            "Requirement already satisfied: pydantic-core==2.18.4 in /usr/local/lib/python3.10/dist-packages (from pydantic<3,>=1.9.0->openai) (2.18.4)\n",
            "Installing collected packages: h11, httpcore, httpx, openai\n",
            "Successfully installed h11-0.14.0 httpcore-1.0.5 httpx-0.27.0 openai-1.34.0\n"
          ]
        }
      ]
    },
    {
      "cell_type": "code",
      "source": [
        "def create_merged_texts(gpt4):\n",
        "  data = gpt4['text'].tolist()  # Convert the DataFrame column to a list for easier manipulation\n",
        "\n",
        "  merged_texts = []  # This will store all merged text blocks\n",
        "\n",
        "  # Process each block of 100 statements\n",
        "  for i in range(0, len(data), 100):\n",
        "      # Extract the slice for the current block\n",
        "      block = data[i:i+100]\n",
        "      # Merge the statements with numbering and new lines\n",
        "      merged_text = '\\n'.join(f\"{j+1}. {s}\" for j, s in enumerate(block))\n",
        "      # Store the merged text in the list\n",
        "      merged_texts.append(merged_text)\n",
        "\n",
        "  return merged_texts"
      ],
      "metadata": {
        "id": "Vf8zYhIajxGQ"
      },
      "execution_count": null,
      "outputs": []
    },
    {
      "cell_type": "code",
      "source": [
        "def predict_financial_sentiment(user_prompt, max_tokens, model):\n",
        "    response = client.chat.completions.create(\n",
        "        model=model,\n",
        "        messages=[\n",
        "            {\n",
        "                \"role\": \"system\",\n",
        "                \"content\": \"As a financial expert, analyze the potential immediate impact of financial news statements on the stock prices of the relevant companies. Assess whether each statement suggests a positive, negative, or neutral effect on the company’s stock price. Ensure that your analysis of each statement is conducted independently to avoid bias from other statements.\"\n",
        "            },\n",
        "            {\n",
        "                \"role\": \"user\",\n",
        "                \"content\": user_prompt\n",
        "            }\n",
        "        ],\n",
        "        temperature=0.0, # Setting temperature to 0 for more deterministic outputs\n",
        "        max_tokens=max_tokens,\n",
        "        top_p=1,\n",
        "        frequency_penalty=0,\n",
        "        presence_penalty=0\n",
        "    )\n",
        "\n",
        "    print(response)\n",
        "\n",
        "    text_response = response.choices[0].message.content\n",
        "    sentences = re.split(r'\\d+\\.\\s', text_response)\n",
        "    if sentences and sentences[0] == '':\n",
        "        sentences = sentences[1:]\n",
        "\n",
        "    # Strip leading and trailing whitespace and newline characters from each sentence\n",
        "    sentences = [sentence.strip() for sentence in sentences]\n",
        "\n",
        "    dataset = pd.DataFrame({\n",
        "        'gpt_label': sentences\n",
        "    })\n",
        "\n",
        "    return dataset"
      ],
      "metadata": {
        "id": "1_g6Ba8AkKHI"
      },
      "execution_count": null,
      "outputs": []
    },
    {
      "cell_type": "code",
      "source": [
        "# Initialize an empty list to store DataFrames\n",
        "def create_label(merged_texts, model):\n",
        "  results = []\n",
        "\n",
        "  for statement in merged_texts:\n",
        "      user_prompt = f\"Acting as a financial expert, analyze the following 100 numbered independent financial news statements, each pertaining to a different company. Assess the potential immediate impact on the stock price of the relevant company independently of any other statements. Determine whether the statement suggests a positive, negative, or neutral immediate effect on the company’s stock price. Consider factors such as tone, relevance of information, and market context in your evaluation. Please only provide potential immediate impacts (positive, negative, or neutral) for each of the statements in a numbered format, with each prediction corresponding to the order of the statements provided.\\n{statement}\"\n",
        "      try:\n",
        "          # Append the result of each prediction to the results list\n",
        "          results.append(predict_financial_sentiment(user_prompt, 600, model=model))\n",
        "      except Exception as e:\n",
        "          print(f\"Error processing statement: {statement}\\nError: {e}\")\n",
        "\n",
        "  return results\n"
      ],
      "metadata": {
        "id": "iVS3pAMnkUnf"
      },
      "execution_count": null,
      "outputs": []
    },
    {
      "cell_type": "code",
      "source": [
        "merged_texts = create_merged_texts(test)\n",
        "results = create_label(merged_texts,\"gpt-3.5-turbo\")\n",
        "df = pd.concat(results, ignore_index=True)\n",
        "df.loc[:, 'gpt_label'] = df['gpt_label'].str.lower()\n",
        "df = df.rename(columns={'gpt_label': 'gpt35_label'})\n",
        "# Combine the original data with the predictions\n",
        "test_labelled = pd.concat([test,df.reset_index(drop=True)], axis=1)\n",
        "print(test.isna().any().any())"
      ],
      "metadata": {
        "colab": {
          "base_uri": "https://localhost:8080/"
        },
        "id": "vpEnHjCtg6AE",
        "outputId": "da9110f4-cce6-4ca6-b39b-173334168e35"
      },
      "execution_count": null,
      "outputs": [
        {
          "output_type": "stream",
          "name": "stdout",
          "text": [
            "ChatCompletion(id='chatcmpl-9ao8JxRcXNDz9R5oOO8l9CCNybDzA', choices=[Choice(finish_reason='stop', index=0, logprobs=None, message=ChatCompletionMessage(content='1. Neutral\\n2. Positive\\n3. Positive\\n4. Neutral\\n5. Neutral\\n6. Neutral\\n7. Positive\\n8. Negative\\n9. Neutral\\n10. Neutral\\n11. Negative\\n12. Neutral\\n13. Neutral\\n14. Neutral\\n15. Neutral\\n16. Neutral\\n17. Neutral\\n18. Negative\\n19. Positive\\n20. Neutral\\n21. Neutral\\n22. Neutral\\n23. Neutral\\n24. Neutral\\n25. Positive\\n26. Positive\\n27. Positive\\n28. Neutral\\n29. Neutral\\n30. Negative\\n31. Neutral\\n32. Neutral\\n33. Neutral\\n34. Neutral\\n35. Neutral\\n36. Negative\\n37. Negative\\n38. Neutral\\n39. Negative\\n40. Neutral\\n41. Positive\\n42. Neutral\\n43. Neutral\\n44. Neutral\\n45. Neutral\\n46. Neutral\\n47. Neutral\\n48. Neutral\\n49. Positive\\n50. Neutral\\n51. Neutral\\n52. Positive\\n53. Positive\\n54. Negative\\n55. Neutral\\n56. Negative\\n57. Neutral\\n58. Neutral\\n59. Neutral\\n60. Neutral\\n61. Neutral\\n62. Negative\\n63. Positive\\n64. Neutral\\n65. Neutral\\n66. Neutral\\n67. Neutral\\n68. Neutral\\n69. Neutral\\n70. Neutral\\n71. Positive\\n72. Neutral\\n73. Positive\\n74. Neutral\\n75. Neutral\\n76. Neutral\\n77. Negative\\n78. Neutral\\n79. Positive\\n80. Neutral\\n81. Neutral\\n82. Neutral\\n83. Positive\\n84. Neutral\\n85. Negative\\n86. Neutral\\n87. Neutral\\n88. Positive\\n89. Positive\\n90. Negative\\n91. Negative\\n92. Neutral\\n93. Neutral\\n94. Neutral\\n95. Neutral\\n96. Neutral\\n97. Neutral\\n98. Neutral\\n99. Neutral\\n100. Neutral', role='assistant', function_call=None, tool_calls=None))], created=1718559547, model='gpt-3.5-turbo-0125', object='chat.completion', system_fingerprint=None, usage=CompletionUsage(completion_tokens=399, prompt_tokens=3201, total_tokens=3600))\n",
            "ChatCompletion(id='chatcmpl-9ao8Pduzp5YkVycGDRKr4vKU2RAey', choices=[Choice(finish_reason='stop', index=0, logprobs=None, message=ChatCompletionMessage(content='1. Neutral\\n2. Neutral\\n3. Neutral\\n4. Neutral\\n5. Positive\\n6. Positive\\n7. Neutral\\n8. Positive\\n9. Neutral\\n10. Neutral\\n11. Positive\\n12. Positive\\n13. Neutral\\n14. Neutral\\n15. Positive\\n16. Positive\\n17. Neutral\\n18. Neutral\\n19. Positive\\n20. Positive\\n21. Positive\\n22. Neutral\\n23. Neutral\\n24. Neutral\\n25. Neutral\\n26. Positive\\n27. Positive\\n28. Neutral\\n29. Negative\\n30. Positive\\n31. Neutral\\n32. Positive\\n33. Neutral\\n34. Neutral\\n35. Positive\\n36. Neutral\\n37. Negative\\n38. Positive\\n39. Neutral\\n40. Neutral\\n41. Neutral\\n42. Negative\\n43. Neutral\\n44. Positive\\n45. Neutral\\n46. Positive\\n47. Negative\\n48. Neutral\\n49. Positive\\n50. Neutral\\n51. Positive\\n52. Neutral\\n53. Positive\\n54. Neutral\\n55. Positive\\n56. Negative\\n57. Positive\\n58. Positive\\n59. Positive\\n60. Neutral\\n61. Neutral\\n62. Neutral\\n63. Positive\\n64. Positive\\n65. Negative\\n66. Negative\\n67. Neutral\\n68. Neutral\\n69. Neutral\\n70. Neutral\\n71. Positive\\n72. Neutral\\n73. Positive\\n74. Positive\\n75. Neutral\\n76. Neutral\\n77. Neutral\\n78. Neutral\\n79. Neutral\\n80. Negative\\n81. Neutral\\n82. Positive\\n83. Neutral\\n84. Positive\\n85. Neutral\\n86. Neutral\\n87. Positive\\n88. Positive\\n89. Positive\\n90. Positive\\n91. Neutral\\n92. Neutral\\n93. Neutral\\n94. Neutral\\n95. Neutral\\n96. Neutral\\n97. Neutral\\n98. Neutral\\n99. Neutral\\n100. Neutral', role='assistant', function_call=None, tool_calls=None))], created=1718559553, model='gpt-3.5-turbo-0125', object='chat.completion', system_fingerprint=None, usage=CompletionUsage(completion_tokens=399, prompt_tokens=3510, total_tokens=3909))\n",
            "ChatCompletion(id='chatcmpl-9ao8Uvkfhud9FsUi0f4r7eACHaORu', choices=[Choice(finish_reason='stop', index=0, logprobs=None, message=ChatCompletionMessage(content='1. Positive\\n2. Positive\\n3. Negative\\n4. Positive\\n5. Neutral\\n6. Negative\\n7. Positive\\n8. Neutral\\n9. Positive\\n10. Neutral\\n11. Positive\\n12. Neutral\\n13. Positive\\n14. Neutral\\n15. Negative\\n16. Negative\\n17. Positive\\n18. Positive\\n19. Neutral\\n20. Neutral\\n21. Negative\\n22. Positive\\n23. Positive\\n24. Positive\\n25. Neutral\\n26. Positive\\n27. Positive\\n28. Positive\\n29. Positive\\n30. Positive\\n31. Neutral\\n32. Neutral\\n33. Positive\\n34. Positive\\n35. Neutral\\n36. Positive\\n37. Positive\\n38. Positive\\n39. Neutral\\n40. Positive\\n41. Neutral\\n42. Positive\\n43. Positive\\n44. Positive\\n45. Neutral\\n46. Negative\\n47. Negative\\n48. Positive\\n49. Neutral\\n50. Negative\\n51. Neutral\\n52. Positive\\n53. Negative\\n54. Neutral\\n55. Positive\\n56. Neutral\\n57. Neutral\\n58. Negative\\n59. Neutral\\n60. Positive\\n61. Positive\\n62. Neutral\\n63. Positive\\n64. Positive\\n65. Positive\\n66. Neutral\\n67. Positive\\n68. Neutral\\n69. Positive\\n70. Positive\\n71. Positive\\n72. Positive\\n73. Positive\\n74. Neutral\\n75. Neutral\\n76. Positive\\n77. Positive\\n78. Positive\\n79. Negative\\n80. Positive\\n81. Positive\\n82. Positive\\n83. Neutral\\n84. Positive\\n85. Positive\\n86. Neutral\\n87. Neutral\\n88. Positive\\n89. Positive\\n90. Neutral\\n91. Negative\\n92. Negative\\n93. Neutral\\n94. Neutral\\n95. Neutral\\n96. Positive\\n97. Positive\\n98. Neutral\\n99. Neutral\\n100. Neutral', role='assistant', function_call=None, tool_calls=None))], created=1718559558, model='gpt-3.5-turbo-0125', object='chat.completion', system_fingerprint=None, usage=CompletionUsage(completion_tokens=399, prompt_tokens=3078, total_tokens=3477))\n",
            "ChatCompletion(id='chatcmpl-9ao8Zd9COcRA8obsTai6yhXi8tUxj', choices=[Choice(finish_reason='stop', index=0, logprobs=None, message=ChatCompletionMessage(content='1. Neutral\\n2. Positive\\n3. Positive\\n4. Positive\\n5. Positive\\n6. Neutral\\n7. Positive\\n8. Neutral\\n9. Positive\\n10. Neutral\\n11. Positive\\n12. Positive\\n13. Neutral\\n14. Neutral\\n15. Negative\\n16. Positive\\n17. Neutral\\n18. Positive\\n19. Positive\\n20. Positive\\n21. Negative\\n22. Neutral\\n23. Negative\\n24. Positive\\n25. Positive\\n26. Neutral\\n27. Neutral\\n28. Negative\\n29. Positive\\n30. Positive\\n31. Positive\\n32. Positive\\n33. Positive\\n34. Neutral\\n35. Neutral\\n36. Negative\\n37. Positive\\n38. Positive\\n39. Negative\\n40. Neutral\\n41. Positive\\n42. Positive\\n43. Neutral\\n44. Negative\\n45. Neutral\\n46. Neutral\\n47. Neutral\\n48. Neutral\\n49. Positive\\n50. Positive\\n51. Neutral\\n52. Negative\\n53. Neutral\\n54. Neutral\\n55. Positive\\n56. Positive\\n57. Neutral\\n58. Positive\\n59. Positive\\n60. Neutral\\n61. Neutral\\n62. Neutral\\n63. Neutral\\n64. Positive\\n65. Negative\\n66. Neutral\\n67. Neutral\\n68. Positive\\n69. Neutral\\n70. Neutral\\n71. Positive\\n72. Neutral\\n73. Positive\\n74. Positive\\n75. Positive\\n76. Positive\\n77. Positive\\n78. Positive\\n79. Positive\\n80. Neutral\\n81. Neutral\\n82. Neutral\\n83. Neutral\\n84. Positive\\n85. Neutral\\n86. Negative\\n87. Positive\\n88. Negative\\n89. Neutral\\n90. Positive\\n91. Neutral\\n92. Positive\\n93. Neutral\\n94. Negative\\n95. Neutral\\n96. Positive\\n97. Neutral\\n98. Negative\\n99. Negative\\n100. Neutral', role='assistant', function_call=None, tool_calls=None))], created=1718559563, model='gpt-3.5-turbo-0125', object='chat.completion', system_fingerprint=None, usage=CompletionUsage(completion_tokens=399, prompt_tokens=3311, total_tokens=3710))\n",
            "ChatCompletion(id='chatcmpl-9ao8eZQf8UBrzQFKFgZVgCa1U9ODD', choices=[Choice(finish_reason='stop', index=0, logprobs=None, message=ChatCompletionMessage(content='1. Neutral\\n2. Neutral\\n3. Neutral\\n4. Negative\\n5. Positive\\n6. Neutral\\n7. Neutral\\n8. Neutral\\n9. Negative\\n10. Neutral\\n11. Neutral\\n12. Positive\\n13. Neutral\\n14. Neutral\\n15. Positive\\n16. Neutral\\n17. Positive\\n18. Neutral\\n19. Neutral\\n20. Positive\\n21. Positive\\n22. Positive\\n23. Negative\\n24. Neutral\\n25. Neutral\\n26. Neutral\\n27. Neutral\\n28. Positive\\n29. Neutral\\n30. Neutral\\n31. Neutral\\n32. Positive\\n33. Neutral\\n34. Neutral\\n35. Negative\\n36. Positive\\n37. Positive\\n38. Neutral\\n39. Neutral\\n40. Positive\\n41. Positive\\n42. Neutral\\n43. Negative\\n44. Neutral\\n45. Neutral\\n46. Neutral\\n47. Positive\\n48. Neutral\\n49. Negative\\n50. Neutral\\n51. Positive\\n52. Positive\\n53. Neutral\\n54. Neutral\\n55. Neutral\\n56. Negative\\n57. Neutral\\n58. Neutral\\n59. Neutral\\n60. Neutral\\n61. Neutral\\n62. Neutral\\n63. Positive\\n64. Positive\\n65. Neutral\\n66. Neutral\\n67. Neutral\\n68. Neutral\\n69. Neutral\\n70. Neutral\\n71. Neutral\\n72. Neutral\\n73. Neutral\\n74. Neutral\\n75. Neutral\\n76. Neutral\\n77. Neutral\\n78. Neutral\\n79. Positive\\n80. Positive\\n81. Positive\\n82. Negative\\n83. Positive\\n84. Neutral\\n85. Positive\\n86. Negative\\n87. Neutral\\n88. Positive\\n89. Negative\\n90. Neutral\\n91. Negative\\n92. Neutral\\n93. Negative\\n94. Neutral\\n95. Neutral\\n96. Neutral\\n97. Neutral\\n98. Negative\\n99. Neutral\\n100. Neutral', role='assistant', function_call=None, tool_calls=None))], created=1718559568, model='gpt-3.5-turbo-0125', object='chat.completion', system_fingerprint=None, usage=CompletionUsage(completion_tokens=399, prompt_tokens=3179, total_tokens=3578))\n",
            "ChatCompletion(id='chatcmpl-9ao8k1r7gcz23OooArhceiuzA645C', choices=[Choice(finish_reason='stop', index=0, logprobs=None, message=ChatCompletionMessage(content='1. Positive\\n2. Neutral\\n3. Negative\\n4. Neutral\\n5. Positive\\n6. Neutral\\n7. Neutral\\n8. Neutral\\n9. Neutral\\n10. Positive\\n11. Neutral\\n12. Neutral\\n13. Positive\\n14. Positive\\n15. Positive\\n16. Positive\\n17. Neutral\\n18. Neutral\\n19. Neutral\\n20. Positive\\n21. Positive\\n22. Positive\\n23. Neutral\\n24. Neutral\\n25. Neutral\\n26. Negative\\n27. Neutral\\n28. Positive\\n29. Neutral\\n30. Neutral\\n31. Positive\\n32. Neutral\\n33. Neutral\\n34. Positive\\n35. Neutral\\n36. Neutral\\n37. Neutral\\n38. Positive\\n39. Positive\\n40. Neutral\\n41. Neutral\\n42. Neutral\\n43. Neutral\\n44. Neutral\\n45. Neutral\\n46. Neutral\\n47. Positive\\n48. Neutral\\n49. Positive\\n50. Positive\\n51. Positive\\n52. Positive\\n53. Positive\\n54. Neutral\\n55. Neutral\\n56. Positive\\n57. Negative\\n58. Positive\\n59. Neutral\\n60. Neutral\\n61. Negative\\n62. Neutral\\n63. Positive\\n64. Neutral\\n65. Neutral\\n66. Positive\\n67. Neutral\\n68. Neutral\\n69. Positive\\n70. Positive\\n71. Neutral\\n72. Neutral\\n73. Neutral\\n74. Positive\\n75. Neutral\\n76. Positive\\n77. Neutral\\n78. Positive\\n79. Neutral\\n80. Neutral\\n81. Neutral\\n82. Neutral\\n83. Neutral\\n84. Positive\\n85. Neutral\\n86. Neutral\\n87. Positive\\n88. Neutral\\n89. Neutral\\n90. Neutral\\n91. Neutral\\n92. Neutral\\n93. Negative\\n94. Neutral\\n95. Neutral\\n96. Neutral\\n97. Positive\\n98. Negative\\n99. Negative\\n100. Neutral', role='assistant', function_call=None, tool_calls=None))], created=1718559574, model='gpt-3.5-turbo-0125', object='chat.completion', system_fingerprint=None, usage=CompletionUsage(completion_tokens=399, prompt_tokens=3107, total_tokens=3506))\n",
            "ChatCompletion(id='chatcmpl-9ao8rwAgiRyUlM5KkwbjL5FjX3Tnw', choices=[Choice(finish_reason='stop', index=0, logprobs=None, message=ChatCompletionMessage(content='1. Neutral\\n2. Positive\\n3. Neutral\\n4. Positive\\n5. Neutral\\n6. Positive\\n7. Neutral\\n8. Positive\\n9. Neutral\\n10. Neutral\\n11. Positive\\n12. Neutral\\n13. Positive\\n14. Neutral\\n15. Neutral\\n16. Neutral\\n17. Neutral\\n18. Negative\\n19. Neutral\\n20. Negative\\n21. Positive\\n22. Negative\\n23. Neutral\\n24. Neutral\\n25. Neutral\\n26. Positive\\n27. Positive\\n28. Neutral\\n29. Neutral\\n30. Neutral\\n31. Neutral\\n32. Neutral\\n33. Neutral\\n34. Neutral\\n35. Positive\\n36. Positive\\n37. Neutral\\n38. Negative\\n39. Neutral\\n40. Neutral\\n41. Neutral\\n42. Neutral\\n43. Positive\\n44. Neutral\\n45. Neutral\\n46. Neutral\\n47. Neutral\\n48. Neutral\\n49. Positive\\n50. Neutral\\n51. Neutral\\n52. Positive\\n53. Positive\\n54. Neutral\\n55. Positive\\n56. Neutral\\n57. Negative\\n58. Neutral\\n59. Positive\\n60. Negative\\n61. Positive\\n62. Positive\\n63. Positive\\n64. Neutral\\n65. Neutral\\n66. Neutral\\n67. Positive\\n68. Neutral\\n69. Neutral\\n70. Neutral\\n71. Positive\\n72. Neutral\\n73. Neutral\\n74. Neutral\\n75. Neutral\\n76. Neutral\\n77. Neutral\\n78. Neutral\\n79. Neutral\\n80. Neutral\\n81. Neutral\\n82. Neutral\\n83. Neutral\\n84. Positive\\n85. Positive\\n86. Neutral\\n87. Neutral\\n88. Neutral\\n89. Neutral\\n90. Neutral\\n91. Negative\\n92. Neutral\\n93. Neutral\\n94. Neutral\\n95. Neutral\\n96. Positive\\n97. Neutral\\n98. Positive\\n99. Neutral\\n100. Positive', role='assistant', function_call=None, tool_calls=None))], created=1718559581, model='gpt-3.5-turbo-0125', object='chat.completion', system_fingerprint=None, usage=CompletionUsage(completion_tokens=399, prompt_tokens=3296, total_tokens=3695))\n",
            "ChatCompletion(id='chatcmpl-9ao8ye7Xi57n25rrqjGXHfJfdEn6O', choices=[Choice(finish_reason='stop', index=0, logprobs=None, message=ChatCompletionMessage(content='1. Neutral\\n2. Positive\\n3. Positive\\n4. Neutral\\n5. Positive\\n6. Neutral\\n7. Negative\\n8. Positive\\n9. Positive\\n10. Positive\\n11. Negative\\n12. Neutral\\n13. Positive\\n14. Positive\\n15. Positive\\n16. Positive\\n17. Neutral\\n18. Neutral\\n19. Positive\\n20. Neutral\\n21. Positive\\n22. Positive\\n23. Positive\\n24. Positive\\n25. Positive\\n26. Positive\\n27. Negative\\n28. Positive\\n29. Positive\\n30. Neutral\\n31. Positive\\n32. Neutral\\n33. Positive\\n34. Positive\\n35. Neutral\\n36. Positive\\n37. Positive\\n38. Neutral\\n39. Positive\\n40. Positive\\n41. Neutral\\n42. Positive\\n43. Positive\\n44. Positive\\n45. Positive\\n46. Neutral\\n47. Neutral\\n48. Negative\\n49. Positive\\n50. Positive\\n51. Positive\\n52. Positive\\n53. Positive\\n54. Positive\\n55. Positive\\n56. Positive\\n57. Neutral\\n58. Neutral\\n59. Neutral\\n60. Positive\\n61. Neutral\\n62. Neutral\\n63. Positive\\n64. Neutral\\n65. Negative\\n66. Positive\\n67. Positive\\n68. Neutral\\n69. Positive\\n70. Positive\\n71. Positive\\n72. Negative\\n73. Positive\\n74. Negative\\n75. Neutral\\n76. Positive\\n77. Positive\\n78. Negative\\n79. Positive\\n80. Negative\\n81. Positive\\n82. Neutral\\n83. Positive\\n84. Neutral\\n85. Positive\\n86. Positive\\n87. Positive\\n88. Positive\\n89. Positive\\n90. Neutral\\n91. Neutral\\n92. Neutral\\n93. Positive\\n94. Positive\\n95. Positive\\n96. Neutral\\n97. Negative\\n98. Neutral\\n99. Positive\\n100. Positive', role='assistant', function_call=None, tool_calls=None))], created=1718559588, model='gpt-3.5-turbo-0125', object='chat.completion', system_fingerprint=None, usage=CompletionUsage(completion_tokens=399, prompt_tokens=3119, total_tokens=3518))\n",
            "ChatCompletion(id='chatcmpl-9ao92Eck0yEYw0Cx43McQuKg65SCu', choices=[Choice(finish_reason='stop', index=0, logprobs=None, message=ChatCompletionMessage(content='1. Neutral\\n2. Negative\\n3. Neutral\\n4. Neutral\\n5. Positive\\n6. Positive\\n7. Neutral\\n8. Positive\\n9. Negative\\n10. Neutral\\n11. Positive\\n12. Positive\\n13. Positive\\n14. Positive\\n15. Negative\\n16. Neutral\\n17. Positive\\n18. Neutral\\n19. Neutral\\n20. Neutral\\n21. Positive\\n22. Positive\\n23. Neutral\\n24. Negative\\n25. Positive\\n26. Neutral\\n27. Neutral\\n28. Neutral\\n29. Neutral\\n30. Positive\\n31. Negative\\n32. Neutral\\n33. Neutral\\n34. Negative\\n35. Neutral\\n36. Negative\\n37. Positive\\n38. Positive\\n39. Negative\\n40. Neutral\\n41. Positive\\n42. Neutral\\n43. Negative\\n44. Neutral\\n45. Positive\\n46. Neutral\\n47. Neutral\\n48. Negative\\n49. Negative\\n50. Positive\\n51. Neutral\\n52. Positive\\n53. Negative\\n54. Positive\\n55. Neutral\\n56. Neutral\\n57. Positive\\n58. Positive\\n59. Neutral\\n60. Positive\\n61. Negative\\n62. Positive\\n63. Positive\\n64. Positive\\n65. Positive\\n66. Neutral\\n67. Neutral\\n68. Neutral\\n69. Positive\\n70. Negative\\n71. Positive\\n72. Negative\\n73. Negative\\n74. Negative\\n75. Neutral\\n76. Neutral\\n77. Negative\\n78. Positive\\n79. Neutral\\n80. Neutral\\n81. Positive\\n82. Negative\\n83. Negative\\n84. Neutral\\n85. Neutral\\n86. Positive\\n87. Positive\\n88. Negative\\n89. Positive\\n90. Neutral\\n91. Positive\\n92. Positive\\n93. Negative\\n94. Positive\\n95. Neutral\\n96. Neutral\\n97. Neutral\\n98. Neutral\\n99. Positive\\n100. Positive', role='assistant', function_call=None, tool_calls=None))], created=1718559592, model='gpt-3.5-turbo-0125', object='chat.completion', system_fingerprint=None, usage=CompletionUsage(completion_tokens=399, prompt_tokens=3356, total_tokens=3755))\n",
            "ChatCompletion(id='chatcmpl-9ao98IkW0nkFx7Xm9L4YJ5oLGUoMY', choices=[Choice(finish_reason='stop', index=0, logprobs=None, message=ChatCompletionMessage(content='1. Positive\\n2. Negative\\n3. Neutral\\n4. Positive\\n5. Negative\\n6. Positive\\n7. Positive\\n8. Neutral\\n9. Neutral\\n10. Positive\\n11. Neutral\\n12. Positive\\n13. Neutral\\n14. Positive\\n15. Positive\\n16. Positive\\n17. Positive\\n18. Neutral\\n19. Negative\\n20. Positive\\n21. Positive\\n22. Neutral\\n23. Positive\\n24. Positive\\n25. Neutral\\n26. Positive\\n27. Neutral\\n28. Positive\\n29. Negative\\n30. Positive\\n31. Positive\\n32. Positive\\n33. Positive\\n34. Negative\\n35. Negative\\n36. Positive\\n37. Negative\\n38. Positive\\n39. Positive\\n40. Neutral\\n41. Neutral\\n42. Positive\\n43. Positive\\n44. Positive\\n45. Neutral\\n46. Neutral\\n47. Neutral\\n48. Negative\\n49. Positive\\n50. Negative\\n51. Positive\\n52. Neutral\\n53. Positive\\n54. Neutral\\n55. Positive\\n56. Positive\\n57. Positive\\n58. Neutral\\n59. Neutral\\n60. Neutral\\n61. Neutral\\n62. Positive\\n63. Neutral\\n64. Neutral\\n65. Positive\\n66. Positive\\n67. Neutral\\n68. Negative', role='assistant', function_call=None, tool_calls=None))], created=1718559598, model='gpt-3.5-turbo-0125', object='chat.completion', system_fingerprint=None, usage=CompletionUsage(completion_tokens=271, prompt_tokens=2239, total_tokens=2510))\n",
            "False\n"
          ]
        }
      ]
    },
    {
      "cell_type": "code",
      "source": [
        "test_labelled.info()"
      ],
      "metadata": {
        "colab": {
          "base_uri": "https://localhost:8080/"
        },
        "id": "mHabU7c459f3",
        "outputId": "6c5cb068-8fd8-4c4b-f9ec-b964030db01d"
      },
      "execution_count": null,
      "outputs": [
        {
          "output_type": "stream",
          "name": "stdout",
          "text": [
            "<class 'pandas.core.frame.DataFrame'>\n",
            "RangeIndex: 968 entries, 0 to 967\n",
            "Data columns (total 3 columns):\n",
            " #   Column       Non-Null Count  Dtype \n",
            "---  ------       --------------  ----- \n",
            " 0   text         968 non-null    object\n",
            " 1   label        968 non-null    object\n",
            " 2   gpt35_label  968 non-null    object\n",
            "dtypes: object(3)\n",
            "memory usage: 22.8+ KB\n"
          ]
        }
      ]
    },
    {
      "cell_type": "code",
      "source": [
        "test_labelled.head()"
      ],
      "metadata": {
        "colab": {
          "base_uri": "https://localhost:8080/",
          "height": 206
        },
        "id": "RtW0mvGc7uoR",
        "outputId": "13047853-40a4-4379-ce10-1fcd7bef1d48"
      },
      "execution_count": null,
      "outputs": [
        {
          "output_type": "execute_result",
          "data": {
            "text/plain": [
              "                                                text     label gpt35_label\n",
              "0  Raute , headquartered in Nastola , Finland , i...   neutral     neutral\n",
              "1  And earlier this month , the company signed a ...  positive    positive\n",
              "2  The divested activities had net sales of EUR 1...   neutral    positive\n",
              "3  `` We can say that the number of deals has bec...  negative     neutral\n",
              "4  The manager is critical of politicians ' failu...   neutral     neutral"
            ],
            "text/html": [
              "\n",
              "  <div id=\"df-93b705fd-1d20-4674-9501-65ef1d9b965e\" class=\"colab-df-container\">\n",
              "    <div>\n",
              "<style scoped>\n",
              "    .dataframe tbody tr th:only-of-type {\n",
              "        vertical-align: middle;\n",
              "    }\n",
              "\n",
              "    .dataframe tbody tr th {\n",
              "        vertical-align: top;\n",
              "    }\n",
              "\n",
              "    .dataframe thead th {\n",
              "        text-align: right;\n",
              "    }\n",
              "</style>\n",
              "<table border=\"1\" class=\"dataframe\">\n",
              "  <thead>\n",
              "    <tr style=\"text-align: right;\">\n",
              "      <th></th>\n",
              "      <th>text</th>\n",
              "      <th>label</th>\n",
              "      <th>gpt35_label</th>\n",
              "    </tr>\n",
              "  </thead>\n",
              "  <tbody>\n",
              "    <tr>\n",
              "      <th>0</th>\n",
              "      <td>Raute , headquartered in Nastola , Finland , i...</td>\n",
              "      <td>neutral</td>\n",
              "      <td>neutral</td>\n",
              "    </tr>\n",
              "    <tr>\n",
              "      <th>1</th>\n",
              "      <td>And earlier this month , the company signed a ...</td>\n",
              "      <td>positive</td>\n",
              "      <td>positive</td>\n",
              "    </tr>\n",
              "    <tr>\n",
              "      <th>2</th>\n",
              "      <td>The divested activities had net sales of EUR 1...</td>\n",
              "      <td>neutral</td>\n",
              "      <td>positive</td>\n",
              "    </tr>\n",
              "    <tr>\n",
              "      <th>3</th>\n",
              "      <td>`` We can say that the number of deals has bec...</td>\n",
              "      <td>negative</td>\n",
              "      <td>neutral</td>\n",
              "    </tr>\n",
              "    <tr>\n",
              "      <th>4</th>\n",
              "      <td>The manager is critical of politicians ' failu...</td>\n",
              "      <td>neutral</td>\n",
              "      <td>neutral</td>\n",
              "    </tr>\n",
              "  </tbody>\n",
              "</table>\n",
              "</div>\n",
              "    <div class=\"colab-df-buttons\">\n",
              "\n",
              "  <div class=\"colab-df-container\">\n",
              "    <button class=\"colab-df-convert\" onclick=\"convertToInteractive('df-93b705fd-1d20-4674-9501-65ef1d9b965e')\"\n",
              "            title=\"Convert this dataframe to an interactive table.\"\n",
              "            style=\"display:none;\">\n",
              "\n",
              "  <svg xmlns=\"http://www.w3.org/2000/svg\" height=\"24px\" viewBox=\"0 -960 960 960\">\n",
              "    <path d=\"M120-120v-720h720v720H120Zm60-500h600v-160H180v160Zm220 220h160v-160H400v160Zm0 220h160v-160H400v160ZM180-400h160v-160H180v160Zm440 0h160v-160H620v160ZM180-180h160v-160H180v160Zm440 0h160v-160H620v160Z\"/>\n",
              "  </svg>\n",
              "    </button>\n",
              "\n",
              "  <style>\n",
              "    .colab-df-container {\n",
              "      display:flex;\n",
              "      gap: 12px;\n",
              "    }\n",
              "\n",
              "    .colab-df-convert {\n",
              "      background-color: #E8F0FE;\n",
              "      border: none;\n",
              "      border-radius: 50%;\n",
              "      cursor: pointer;\n",
              "      display: none;\n",
              "      fill: #1967D2;\n",
              "      height: 32px;\n",
              "      padding: 0 0 0 0;\n",
              "      width: 32px;\n",
              "    }\n",
              "\n",
              "    .colab-df-convert:hover {\n",
              "      background-color: #E2EBFA;\n",
              "      box-shadow: 0px 1px 2px rgba(60, 64, 67, 0.3), 0px 1px 3px 1px rgba(60, 64, 67, 0.15);\n",
              "      fill: #174EA6;\n",
              "    }\n",
              "\n",
              "    .colab-df-buttons div {\n",
              "      margin-bottom: 4px;\n",
              "    }\n",
              "\n",
              "    [theme=dark] .colab-df-convert {\n",
              "      background-color: #3B4455;\n",
              "      fill: #D2E3FC;\n",
              "    }\n",
              "\n",
              "    [theme=dark] .colab-df-convert:hover {\n",
              "      background-color: #434B5C;\n",
              "      box-shadow: 0px 1px 3px 1px rgba(0, 0, 0, 0.15);\n",
              "      filter: drop-shadow(0px 1px 2px rgba(0, 0, 0, 0.3));\n",
              "      fill: #FFFFFF;\n",
              "    }\n",
              "  </style>\n",
              "\n",
              "    <script>\n",
              "      const buttonEl =\n",
              "        document.querySelector('#df-93b705fd-1d20-4674-9501-65ef1d9b965e button.colab-df-convert');\n",
              "      buttonEl.style.display =\n",
              "        google.colab.kernel.accessAllowed ? 'block' : 'none';\n",
              "\n",
              "      async function convertToInteractive(key) {\n",
              "        const element = document.querySelector('#df-93b705fd-1d20-4674-9501-65ef1d9b965e');\n",
              "        const dataTable =\n",
              "          await google.colab.kernel.invokeFunction('convertToInteractive',\n",
              "                                                    [key], {});\n",
              "        if (!dataTable) return;\n",
              "\n",
              "        const docLinkHtml = 'Like what you see? Visit the ' +\n",
              "          '<a target=\"_blank\" href=https://colab.research.google.com/notebooks/data_table.ipynb>data table notebook</a>'\n",
              "          + ' to learn more about interactive tables.';\n",
              "        element.innerHTML = '';\n",
              "        dataTable['output_type'] = 'display_data';\n",
              "        await google.colab.output.renderOutput(dataTable, element);\n",
              "        const docLink = document.createElement('div');\n",
              "        docLink.innerHTML = docLinkHtml;\n",
              "        element.appendChild(docLink);\n",
              "      }\n",
              "    </script>\n",
              "  </div>\n",
              "\n",
              "\n",
              "<div id=\"df-059f8c35-7746-4080-a030-2211e4237411\">\n",
              "  <button class=\"colab-df-quickchart\" onclick=\"quickchart('df-059f8c35-7746-4080-a030-2211e4237411')\"\n",
              "            title=\"Suggest charts\"\n",
              "            style=\"display:none;\">\n",
              "\n",
              "<svg xmlns=\"http://www.w3.org/2000/svg\" height=\"24px\"viewBox=\"0 0 24 24\"\n",
              "     width=\"24px\">\n",
              "    <g>\n",
              "        <path d=\"M19 3H5c-1.1 0-2 .9-2 2v14c0 1.1.9 2 2 2h14c1.1 0 2-.9 2-2V5c0-1.1-.9-2-2-2zM9 17H7v-7h2v7zm4 0h-2V7h2v10zm4 0h-2v-4h2v4z\"/>\n",
              "    </g>\n",
              "</svg>\n",
              "  </button>\n",
              "\n",
              "<style>\n",
              "  .colab-df-quickchart {\n",
              "      --bg-color: #E8F0FE;\n",
              "      --fill-color: #1967D2;\n",
              "      --hover-bg-color: #E2EBFA;\n",
              "      --hover-fill-color: #174EA6;\n",
              "      --disabled-fill-color: #AAA;\n",
              "      --disabled-bg-color: #DDD;\n",
              "  }\n",
              "\n",
              "  [theme=dark] .colab-df-quickchart {\n",
              "      --bg-color: #3B4455;\n",
              "      --fill-color: #D2E3FC;\n",
              "      --hover-bg-color: #434B5C;\n",
              "      --hover-fill-color: #FFFFFF;\n",
              "      --disabled-bg-color: #3B4455;\n",
              "      --disabled-fill-color: #666;\n",
              "  }\n",
              "\n",
              "  .colab-df-quickchart {\n",
              "    background-color: var(--bg-color);\n",
              "    border: none;\n",
              "    border-radius: 50%;\n",
              "    cursor: pointer;\n",
              "    display: none;\n",
              "    fill: var(--fill-color);\n",
              "    height: 32px;\n",
              "    padding: 0;\n",
              "    width: 32px;\n",
              "  }\n",
              "\n",
              "  .colab-df-quickchart:hover {\n",
              "    background-color: var(--hover-bg-color);\n",
              "    box-shadow: 0 1px 2px rgba(60, 64, 67, 0.3), 0 1px 3px 1px rgba(60, 64, 67, 0.15);\n",
              "    fill: var(--button-hover-fill-color);\n",
              "  }\n",
              "\n",
              "  .colab-df-quickchart-complete:disabled,\n",
              "  .colab-df-quickchart-complete:disabled:hover {\n",
              "    background-color: var(--disabled-bg-color);\n",
              "    fill: var(--disabled-fill-color);\n",
              "    box-shadow: none;\n",
              "  }\n",
              "\n",
              "  .colab-df-spinner {\n",
              "    border: 2px solid var(--fill-color);\n",
              "    border-color: transparent;\n",
              "    border-bottom-color: var(--fill-color);\n",
              "    animation:\n",
              "      spin 1s steps(1) infinite;\n",
              "  }\n",
              "\n",
              "  @keyframes spin {\n",
              "    0% {\n",
              "      border-color: transparent;\n",
              "      border-bottom-color: var(--fill-color);\n",
              "      border-left-color: var(--fill-color);\n",
              "    }\n",
              "    20% {\n",
              "      border-color: transparent;\n",
              "      border-left-color: var(--fill-color);\n",
              "      border-top-color: var(--fill-color);\n",
              "    }\n",
              "    30% {\n",
              "      border-color: transparent;\n",
              "      border-left-color: var(--fill-color);\n",
              "      border-top-color: var(--fill-color);\n",
              "      border-right-color: var(--fill-color);\n",
              "    }\n",
              "    40% {\n",
              "      border-color: transparent;\n",
              "      border-right-color: var(--fill-color);\n",
              "      border-top-color: var(--fill-color);\n",
              "    }\n",
              "    60% {\n",
              "      border-color: transparent;\n",
              "      border-right-color: var(--fill-color);\n",
              "    }\n",
              "    80% {\n",
              "      border-color: transparent;\n",
              "      border-right-color: var(--fill-color);\n",
              "      border-bottom-color: var(--fill-color);\n",
              "    }\n",
              "    90% {\n",
              "      border-color: transparent;\n",
              "      border-bottom-color: var(--fill-color);\n",
              "    }\n",
              "  }\n",
              "</style>\n",
              "\n",
              "  <script>\n",
              "    async function quickchart(key) {\n",
              "      const quickchartButtonEl =\n",
              "        document.querySelector('#' + key + ' button');\n",
              "      quickchartButtonEl.disabled = true;  // To prevent multiple clicks.\n",
              "      quickchartButtonEl.classList.add('colab-df-spinner');\n",
              "      try {\n",
              "        const charts = await google.colab.kernel.invokeFunction(\n",
              "            'suggestCharts', [key], {});\n",
              "      } catch (error) {\n",
              "        console.error('Error during call to suggestCharts:', error);\n",
              "      }\n",
              "      quickchartButtonEl.classList.remove('colab-df-spinner');\n",
              "      quickchartButtonEl.classList.add('colab-df-quickchart-complete');\n",
              "    }\n",
              "    (() => {\n",
              "      let quickchartButtonEl =\n",
              "        document.querySelector('#df-059f8c35-7746-4080-a030-2211e4237411 button');\n",
              "      quickchartButtonEl.style.display =\n",
              "        google.colab.kernel.accessAllowed ? 'block' : 'none';\n",
              "    })();\n",
              "  </script>\n",
              "</div>\n",
              "\n",
              "    </div>\n",
              "  </div>\n"
            ],
            "application/vnd.google.colaboratory.intrinsic+json": {
              "type": "dataframe",
              "variable_name": "test_labelled",
              "summary": "{\n  \"name\": \"test_labelled\",\n  \"rows\": 968,\n  \"fields\": [\n    {\n      \"column\": \"text\",\n      \"properties\": {\n        \"dtype\": \"string\",\n        \"num_unique_values\": 968,\n        \"samples\": [\n          \"Performance in the second half of 2009 exceeded expectations .\",\n          \"The company 's net profit rose 11.4 % on the year to 82.2 million euros in 2005 on sales of 686.5 million euros , 13.8 % up on the year , the company said earlier .\",\n          \"Originally posted to the PCMag.com security blog , Security Watch .\"\n        ],\n        \"semantic_type\": \"\",\n        \"description\": \"\"\n      }\n    },\n    {\n      \"column\": \"label\",\n      \"properties\": {\n        \"dtype\": \"category\",\n        \"num_unique_values\": 3,\n        \"samples\": [\n          \"neutral\",\n          \"positive\",\n          \"negative\"\n        ],\n        \"semantic_type\": \"\",\n        \"description\": \"\"\n      }\n    },\n    {\n      \"column\": \"gpt35_label\",\n      \"properties\": {\n        \"dtype\": \"category\",\n        \"num_unique_values\": 3,\n        \"samples\": [\n          \"neutral\",\n          \"positive\",\n          \"negative\"\n        ],\n        \"semantic_type\": \"\",\n        \"description\": \"\"\n      }\n    }\n  ]\n}"
            }
          },
          "metadata": {},
          "execution_count": 17
        }
      ]
    },
    {
      "cell_type": "code",
      "source": [
        "test_labelled.to_csv('/content/gdrive/MyDrive/GPT35predictionsonPhraseBankTest.csv', index=False)"
      ],
      "metadata": {
        "id": "9I40E2er74Tc"
      },
      "execution_count": null,
      "outputs": []
    },
    {
      "cell_type": "code",
      "source": [
        "from sklearn.metrics import accuracy_score, f1_score, precision_score, recall_score\n",
        "\n",
        "def evaluate_model_performance(df, actual_col, predicted_col):\n",
        "    \"\"\"\n",
        "    Evaluates the model performance based on provided DataFrame and column names.\n",
        "\n",
        "    Parameters:\n",
        "    - df (pd.DataFrame): The DataFrame containing the data.\n",
        "    - actual_col (str): The name of the column containing the actual labels.\n",
        "    - predicted_col (str): The name of the column containing the predicted labels.\n",
        "\n",
        "    Returns:\n",
        "    - dict: A dictionary containing the accuracy, F1 score, precision, and recall.\n",
        "    \"\"\"\n",
        "    # Check if the specified columns exist in the DataFrame\n",
        "    if actual_col not in df.columns or predicted_col not in df.columns:\n",
        "        raise ValueError(\"Specified columns are not in the DataFrame\")\n",
        "\n",
        "    # Extract actual and predicted labels from the DataFrame\n",
        "    actual_labels = df[actual_col]\n",
        "    predicted_labels = df[predicted_col]\n",
        "\n",
        "    # Calculate metrics\n",
        "    accuracy = accuracy_score(actual_labels, predicted_labels)\n",
        "    f1 = f1_score(actual_labels, predicted_labels, average='weighted')\n",
        "    precision = precision_score(actual_labels, predicted_labels, average='weighted')\n",
        "    recall = recall_score(actual_labels, predicted_labels, average='weighted')\n",
        "\n",
        "    # Return the results as a dictionary\n",
        "    results = {\n",
        "        'Accuracy': accuracy,\n",
        "        'F1 Score': f1,\n",
        "        'Precision': precision,\n",
        "        'Recall': recall\n",
        "    }\n",
        "    return results"
      ],
      "metadata": {
        "id": "O55-CWBT8y0Q"
      },
      "execution_count": null,
      "outputs": []
    },
    {
      "cell_type": "code",
      "source": [
        "results = evaluate_model_performance(test_labelled, 'label', 'gpt35_label')\n",
        "print(results)"
      ],
      "metadata": {
        "colab": {
          "base_uri": "https://localhost:8080/"
        },
        "id": "eGwPGTz184Dp",
        "outputId": "0c324870-6209-4597-e82c-015dbed38b6f"
      },
      "execution_count": null,
      "outputs": [
        {
          "output_type": "stream",
          "name": "stdout",
          "text": [
            "{'Accuracy': 0.731404958677686, 'F1 Score': 0.7366287890886019, 'Precision': 0.7613720325627471, 'Recall': 0.731404958677686}\n"
          ]
        }
      ]
    },
    {
      "cell_type": "code",
      "source": [
        "merged_texts = create_merged_texts(test_labelled)\n",
        "results = create_label(merged_texts,\"gpt-4o\")\n",
        "df = pd.concat(results, ignore_index=True)\n",
        "df.loc[:, 'gpt_label'] = df['gpt_label'].str.lower()\n",
        "df = df.rename(columns={'gpt_label': 'gpt4o_label'})\n",
        "# Combine the original data with the predictions\n",
        "test_labelled = pd.concat([test_labelled,df.reset_index(drop=True)], axis=1)\n",
        "print(test_labelled.isna().any().any())"
      ],
      "metadata": {
        "colab": {
          "base_uri": "https://localhost:8080/"
        },
        "id": "pMQa-AK89kM1",
        "outputId": "ce71fd57-5623-48cb-ba0c-c523f6469925"
      },
      "execution_count": null,
      "outputs": [
        {
          "output_type": "stream",
          "name": "stdout",
          "text": [
            "ChatCompletion(id='chatcmpl-9aoARRsaJnI7JoR2hDnswYe6mEIia', choices=[Choice(finish_reason='stop', index=0, logprobs=None, message=ChatCompletionMessage(content='1. Neutral\\n2. Positive\\n3. Positive\\n4. Negative\\n5. Neutral\\n6. Neutral\\n7. Positive\\n8. Negative\\n9. Neutral\\n10. Neutral\\n11. Negative\\n12. Negative\\n13. Positive\\n14. Neutral\\n15. Neutral\\n16. Neutral\\n17. Neutral\\n18. Negative\\n19. Positive\\n20. Neutral\\n21. Positive\\n22. Neutral\\n23. Neutral\\n24. Positive\\n25. Positive\\n26. Positive\\n27. Positive\\n28. Neutral\\n29. Neutral\\n30. Negative\\n31. Positive\\n32. Negative\\n33. Neutral\\n34. Positive\\n35. Neutral\\n36. Negative\\n37. Negative\\n38. Neutral\\n39. Negative\\n40. Neutral\\n41. Positive\\n42. Positive\\n43. Neutral\\n44. Positive\\n45. Positive\\n46. Positive\\n47. Neutral\\n48. Neutral\\n49. Positive\\n50. Negative\\n51. Neutral\\n52. Positive\\n53. Positive\\n54. Negative\\n55. Positive\\n56. Negative\\n57. Neutral\\n58. Neutral\\n59. Positive\\n60. Neutral\\n61. Positive\\n62. Negative\\n63. Positive\\n64. Positive\\n65. Neutral\\n66. Positive\\n67. Positive\\n68. Negative\\n69. Positive\\n70. Neutral\\n71. Positive\\n72. Neutral\\n73. Positive\\n74. Neutral\\n75. Positive\\n76. Negative\\n77. Negative\\n78. Neutral\\n79. Positive\\n80. Positive\\n81. Positive\\n82. Positive\\n83. Positive\\n84. Neutral\\n85. Negative\\n86. Neutral\\n87. Positive\\n88. Positive\\n89. Positive\\n90. Negative\\n91. Positive\\n92. Neutral\\n93. Positive\\n94. Positive\\n95. Neutral\\n96. Negative\\n97. Neutral\\n98. Positive\\n99. Neutral\\n100. Negative', role='assistant', function_call=None, tool_calls=None))], created=1718559679, model='gpt-4o-2024-05-13', object='chat.completion', system_fingerprint='fp_aa87380ac5', usage=CompletionUsage(completion_tokens=399, prompt_tokens=3155, total_tokens=3554))\n",
            "ChatCompletion(id='chatcmpl-9aoAXFYSLJZDJccOV0SSZVGfodYnB', choices=[Choice(finish_reason='stop', index=0, logprobs=None, message=ChatCompletionMessage(content='1. Neutral\\n2. Positive\\n3. Neutral\\n4. Neutral\\n5. Positive\\n6. Positive\\n7. Neutral\\n8. Positive\\n9. Neutral\\n10. Neutral\\n11. Neutral\\n12. Positive\\n13. Negative\\n14. Positive\\n15. Positive\\n16. Neutral\\n17. Negative\\n18. Neutral\\n19. Positive\\n20. Positive\\n21. Positive\\n22. Neutral\\n23. Neutral\\n24. Neutral\\n25. Neutral\\n26. Positive\\n27. Positive\\n28. Negative\\n29. Negative\\n30. Neutral\\n31. Neutral\\n32. Positive\\n33. Neutral\\n34. Neutral\\n35. Positive\\n36. Neutral\\n37. Negative\\n38. Positive\\n39. Negative\\n40. Neutral\\n41. Negative\\n42. Negative\\n43. Neutral\\n44. Positive\\n45. Neutral\\n46. Positive\\n47. Negative\\n48. Neutral\\n49. Positive\\n50. Neutral\\n51. Positive\\n52. Neutral\\n53. Positive\\n54. Neutral\\n55. Positive\\n56. Neutral\\n57. Positive\\n58. Positive\\n59. Positive\\n60. Neutral\\n61. Neutral\\n62. Positive\\n63. Positive\\n64. Neutral\\n65. Negative\\n66. Negative\\n67. Positive\\n68. Neutral\\n69. Negative\\n70. Positive\\n71. Positive\\n72. Neutral\\n73. Positive\\n74. Positive\\n75. Neutral\\n76. Neutral\\n77. Neutral\\n78. Positive\\n79. Neutral\\n80. Negative\\n81. Neutral\\n82. Positive\\n83. Neutral\\n84. Positive\\n85. Neutral\\n86. Positive\\n87. Neutral\\n88. Positive\\n89. Positive\\n90. Positive\\n91. Neutral\\n92. Neutral\\n93. Positive\\n94. Positive\\n95. Neutral\\n96. Neutral\\n97. Positive\\n98. Neutral\\n99. Positive\\n100. Neutral', role='assistant', function_call=None, tool_calls=None))], created=1718559685, model='gpt-4o-2024-05-13', object='chat.completion', system_fingerprint='fp_319be4768e', usage=CompletionUsage(completion_tokens=399, prompt_tokens=3452, total_tokens=3851))\n",
            "ChatCompletion(id='chatcmpl-9aoAdOwacMK6iG2Re9MoXnipsGBd8', choices=[Choice(finish_reason='stop', index=0, logprobs=None, message=ChatCompletionMessage(content='1. Positive\\n2. Neutral\\n3. Negative\\n4. Neutral\\n5. Neutral\\n6. Negative\\n7. Positive\\n8. Neutral\\n9. Positive\\n10. Neutral\\n11. Positive\\n12. Neutral\\n13. Positive\\n14. Positive\\n15. Negative\\n16. Negative\\n17. Positive\\n18. Positive\\n19. Neutral\\n20. Negative\\n21. Negative\\n22. Positive\\n23. Positive\\n24. Positive\\n25. Neutral\\n26. Positive\\n27. Positive\\n28. Neutral\\n29. Positive\\n30. Positive\\n31. Neutral\\n32. Negative\\n33. Positive\\n34. Positive\\n35. Neutral\\n36. Positive\\n37. Positive\\n38. Positive\\n39. Neutral\\n40. Positive\\n41. Neutral\\n42. Positive\\n43. Positive\\n44. Positive\\n45. Negative\\n46. Neutral\\n47. Negative\\n48. Positive\\n49. Positive\\n50. Negative\\n51. Neutral\\n52. Positive\\n53. Negative\\n54. Neutral\\n55. Positive\\n56. Neutral\\n57. Neutral\\n58. Negative\\n59. Neutral\\n60. Positive\\n61. Positive\\n62. Positive\\n63. Positive\\n64. Positive\\n65. Positive\\n66. Neutral\\n67. Positive\\n68. Neutral\\n69. Positive\\n70. Neutral\\n71. Positive\\n72. Positive\\n73. Positive\\n74. Neutral\\n75. Neutral\\n76. Positive\\n77. Positive\\n78. Positive\\n79. Negative\\n80. Positive\\n81. Positive\\n82. Positive\\n83. Neutral\\n84. Positive\\n85. Positive\\n86. Neutral\\n87. Neutral\\n88. Positive\\n89. Positive\\n90. Neutral\\n91. Negative\\n92. Negative\\n93. Neutral\\n94. Negative\\n95. Positive\\n96. Positive\\n97. Neutral\\n98. Neutral\\n99. Positive\\n100. Neutral', role='assistant', function_call=None, tool_calls=None))], created=1718559691, model='gpt-4o-2024-05-13', object='chat.completion', system_fingerprint='fp_319be4768e', usage=CompletionUsage(completion_tokens=399, prompt_tokens=3025, total_tokens=3424))\n",
            "ChatCompletion(id='chatcmpl-9aoAj2uGE9ARGPMDFmqsINGkZXOJN', choices=[Choice(finish_reason='stop', index=0, logprobs=None, message=ChatCompletionMessage(content='1. Neutral\\n2. Positive\\n3. Neutral\\n4. Positive\\n5. Neutral\\n6. Positive\\n7. Positive\\n8. Neutral\\n9. Positive\\n10. Neutral\\n11. Positive\\n12. Positive\\n13. Neutral\\n14. Neutral\\n15. Negative\\n16. Positive\\n17. Neutral\\n18. Positive\\n19. Positive\\n20. Positive\\n21. Negative\\n22. Negative\\n23. Negative\\n24. Positive\\n25. Positive\\n26. Neutral\\n27. Neutral\\n28. Negative\\n29. Positive\\n30. Positive\\n31. Neutral\\n32. Positive\\n33. Neutral\\n34. Neutral\\n35. Neutral\\n36. Negative\\n37. Positive\\n38. Positive\\n39. Negative\\n40. Neutral\\n41. Positive\\n42. Positive\\n43. Neutral\\n44. Negative\\n45. Negative\\n46. Neutral\\n47. Neutral\\n48. Negative\\n49. Positive\\n50. Neutral\\n51. Negative\\n52. Negative\\n53. Neutral\\n54. Neutral\\n55. Neutral\\n56. Positive\\n57. Neutral\\n58. Positive\\n59. Positive\\n60. Positive\\n61. Neutral\\n62. Positive\\n63. Positive\\n64. Neutral\\n65. Negative\\n66. Positive\\n67. Neutral\\n68. Neutral\\n69. Neutral\\n70. Neutral\\n71. Neutral\\n72. Positive\\n73. Positive\\n74. Positive\\n75. Positive\\n76. Neutral\\n77. Positive\\n78. Positive\\n79. Positive\\n80. Neutral\\n81. Neutral\\n82. Neutral\\n83. Positive\\n84. Positive\\n85. Neutral\\n86. Negative\\n87. Positive\\n88. Negative\\n89. Neutral\\n90. Positive\\n91. Neutral\\n92. Neutral\\n93. Neutral\\n94. Negative\\n95. Neutral\\n96. Positive\\n97. Negative\\n98. Negative\\n99. Negative\\n100. Neutral', role='assistant', function_call=None, tool_calls=None))], created=1718559697, model='gpt-4o-2024-05-13', object='chat.completion', system_fingerprint='fp_319be4768e', usage=CompletionUsage(completion_tokens=399, prompt_tokens=3266, total_tokens=3665))\n",
            "ChatCompletion(id='chatcmpl-9aoApTKsdSzGTvm6EFSoXRslLfXQq', choices=[Choice(finish_reason='stop', index=0, logprobs=None, message=ChatCompletionMessage(content='1. Neutral\\n2. Neutral\\n3. Neutral\\n4. Neutral\\n5. Positive\\n6. Negative\\n7. Neutral\\n8. Neutral\\n9. Negative\\n10. Positive\\n11. Positive\\n12. Positive\\n13. Neutral\\n14. Neutral\\n15. Neutral\\n16. Neutral\\n17. Positive\\n18. Neutral\\n19. Neutral\\n20. Neutral\\n21. Positive\\n22. Positive\\n23. Negative\\n24. Positive\\n25. Neutral\\n26. Neutral\\n27. Neutral\\n28. Positive\\n29. Neutral\\n30. Positive\\n31. Neutral\\n32. Positive\\n33. Neutral\\n34. Neutral\\n35. Negative\\n36. Neutral\\n37. Positive\\n38. Neutral\\n39. Positive\\n40. Positive\\n41. Positive\\n42. Neutral\\n43. Negative\\n44. Neutral\\n45. Neutral\\n46. Neutral\\n47. Positive\\n48. Neutral\\n49. Negative\\n50. Neutral\\n51. Positive\\n52. Positive\\n53. Neutral\\n54. Neutral\\n55. Neutral\\n56. Negative\\n57. Neutral\\n58. Neutral\\n59. Neutral\\n60. Neutral\\n61. Neutral\\n62. Positive\\n63. Neutral\\n64. Positive\\n65. Neutral\\n66. Neutral\\n67. Positive\\n68. Negative\\n69. Neutral\\n70. Positive\\n71. Positive\\n72. Positive\\n73. Neutral\\n74. Neutral\\n75. Neutral\\n76. Positive\\n77. Neutral\\n78. Neutral\\n79. Positive\\n80. Positive\\n81. Positive\\n82. Negative\\n83. Positive\\n84. Neutral\\n85. Positive\\n86. Negative\\n87. Neutral\\n88. Positive\\n89. Negative\\n90. Neutral\\n91. Negative\\n92. Neutral\\n93. Negative\\n94. Neutral\\n95. Positive\\n96. Positive\\n97. Positive\\n98. Negative\\n99. Neutral\\n100. Positive', role='assistant', function_call=None, tool_calls=None))], created=1718559703, model='gpt-4o-2024-05-13', object='chat.completion', system_fingerprint='fp_9cb5d38cf7', usage=CompletionUsage(completion_tokens=399, prompt_tokens=3130, total_tokens=3529))\n",
            "ChatCompletion(id='chatcmpl-9aoAvqWhtvMkbTsrGJHtf7nElW1af', choices=[Choice(finish_reason='stop', index=0, logprobs=None, message=ChatCompletionMessage(content='1. Neutral\\n2. Neutral\\n3. Negative\\n4. Neutral\\n5. Positive\\n6. Neutral\\n7. Neutral\\n8. Negative\\n9. Neutral\\n10. Positive\\n11. Neutral\\n12. Neutral\\n13. Positive\\n14. Positive\\n15. Neutral\\n16. Neutral\\n17. Positive\\n18. Neutral\\n19. Neutral\\n20. Positive\\n21. Neutral\\n22. Positive\\n23. Neutral\\n24. Neutral\\n25. Neutral\\n26. Negative\\n27. Neutral\\n28. Positive\\n29. Neutral\\n30. Neutral\\n31. Neutral\\n32. Neutral\\n33. Neutral\\n34. Positive\\n35. Neutral\\n36. Neutral\\n37. Neutral\\n38. Positive\\n39. Positive\\n40. Neutral\\n41. Neutral\\n42. Neutral\\n43. Neutral\\n44. Neutral\\n45. Negative\\n46. Neutral\\n47. Positive\\n48. Positive\\n49. Positive\\n50. Positive\\n51. Neutral\\n52. Positive\\n53. Positive\\n54. Neutral\\n55. Neutral\\n56. Neutral\\n57. Negative\\n58. Positive\\n59. Neutral\\n60. Neutral\\n61. Negative\\n62. Negative\\n63. Positive\\n64. Neutral\\n65. Neutral\\n66. Positive\\n67. Positive\\n68. Neutral\\n69. Positive\\n70. Positive\\n71. Neutral\\n72. Neutral\\n73. Neutral\\n74. Positive\\n75. Neutral\\n76. Positive\\n77. Neutral\\n78. Positive\\n79. Negative\\n80. Neutral\\n81. Neutral\\n82. Neutral\\n83. Neutral\\n84. Positive\\n85. Neutral\\n86. Negative\\n87. Positive\\n88. Neutral\\n89. Positive\\n90. Neutral\\n91. Positive\\n92. Neutral\\n93. Negative\\n94. Neutral\\n95. Neutral\\n96. Neutral\\n97. Positive\\n98. Negative\\n99. Negative\\n100. Positive', role='assistant', function_call=None, tool_calls=None))], created=1718559709, model='gpt-4o-2024-05-13', object='chat.completion', system_fingerprint='fp_9cb5d38cf7', usage=CompletionUsage(completion_tokens=399, prompt_tokens=3052, total_tokens=3451))\n",
            "ChatCompletion(id='chatcmpl-9aoB0nkBCMxSDpClAH3WwSoWkDjPH', choices=[Choice(finish_reason='stop', index=0, logprobs=None, message=ChatCompletionMessage(content='1. Neutral\\n2. Positive\\n3. Positive\\n4. Neutral\\n5. Negative\\n6. Positive\\n7. Neutral\\n8. Positive\\n9. Neutral\\n10. Neutral\\n11. Neutral\\n12. Neutral\\n13. Positive\\n14. Neutral\\n15. Neutral\\n16. Neutral\\n17. Positive\\n18. Negative\\n19. Neutral\\n20. Positive\\n21. Positive\\n22. Negative\\n23. Positive\\n24. Neutral\\n25. Neutral\\n26. Positive\\n27. Neutral\\n28. Neutral\\n29. Negative\\n30. Neutral\\n31. Neutral\\n32. Neutral\\n33. Neutral\\n34. Positive\\n35. Neutral\\n36. Positive\\n37. Neutral\\n38. Negative\\n39. Neutral\\n40. Positive\\n41. Positive\\n42. Neutral\\n43. Positive\\n44. Positive\\n45. Positive\\n46. Positive\\n47. Neutral\\n48. Neutral\\n49. Positive\\n50. Neutral\\n51. Neutral\\n52. Positive\\n53. Positive\\n54. Neutral\\n55. Positive\\n56. Neutral\\n57. Negative\\n58. Neutral\\n59. Positive\\n60. Negative\\n61. Positive\\n62. Positive\\n63. Positive\\n64. Positive\\n65. Neutral\\n66. Neutral\\n67. Positive\\n68. Positive\\n69. Neutral\\n70. Neutral\\n71. Positive\\n72. Neutral\\n73. Neutral\\n74. Neutral\\n75. Positive\\n76. Positive\\n77. Neutral\\n78. Positive\\n79. Neutral\\n80. Negative\\n81. Neutral\\n82. Positive\\n83. Neutral\\n84. Positive\\n85. Positive\\n86. Positive\\n87. Neutral\\n88. Neutral\\n89. Neutral\\n90. Neutral\\n91. Negative\\n92. Positive\\n93. Neutral\\n94. Positive\\n95. Positive\\n96. Positive\\n97. Positive\\n98. Positive\\n99. Neutral\\n100. Positive', role='assistant', function_call=None, tool_calls=None))], created=1718559714, model='gpt-4o-2024-05-13', object='chat.completion', system_fingerprint='fp_319be4768e', usage=CompletionUsage(completion_tokens=399, prompt_tokens=3248, total_tokens=3647))\n",
            "ChatCompletion(id='chatcmpl-9aoB641OMRmYFLYVwNlfnsvRDWAMl', choices=[Choice(finish_reason='stop', index=0, logprobs=None, message=ChatCompletionMessage(content='1. Neutral\\n2. Positive\\n3. Neutral\\n4. Neutral\\n5. Positive\\n6. Neutral\\n7. Negative\\n8. Positive\\n9. Positive\\n10. Neutral\\n11. Negative\\n12. Neutral\\n13. Neutral\\n14. Positive\\n15. Neutral\\n16. Neutral\\n17. Positive\\n18. Neutral\\n19. Neutral\\n20. Neutral\\n21. Positive\\n22. Positive\\n23. Positive\\n24. Positive\\n25. Neutral\\n26. Positive\\n27. Negative\\n28. Neutral\\n29. Positive\\n30. Neutral\\n31. Negative\\n32. Neutral\\n33. Positive\\n34. Neutral\\n35. Positive\\n36. Positive\\n37. Positive\\n38. Neutral\\n39. Positive\\n40. Positive\\n41. Neutral\\n42. Positive\\n43. Positive\\n44. Neutral\\n45. Positive\\n46. Negative\\n47. Neutral\\n48. Negative\\n49. Positive\\n50. Positive\\n51. Positive\\n52. Positive\\n53. Positive\\n54. Positive\\n55. Positive\\n56. Positive\\n57. Neutral\\n58. Negative\\n59. Neutral\\n60. Positive\\n61. Neutral\\n62. Neutral\\n63. Positive\\n64. Neutral\\n65. Negative\\n66. Positive\\n67. Neutral\\n68. Neutral\\n69. Positive\\n70. Positive\\n71. Positive\\n72. Negative\\n73. Positive\\n74. Negative\\n75. Positive\\n76. Positive\\n77. Positive\\n78. Negative\\n79. Positive\\n80. Negative\\n81. Positive\\n82. Neutral\\n83. Positive\\n84. Neutral\\n85. Positive\\n86. Positive\\n87. Positive\\n88. Positive\\n89. Positive\\n90. Neutral\\n91. Neutral\\n92. Neutral\\n93. Positive\\n94. Positive\\n95. Positive\\n96. Positive\\n97. Negative\\n98. Neutral\\n99. Positive\\n100. Positive', role='assistant', function_call=None, tool_calls=None))], created=1718559720, model='gpt-4o-2024-05-13', object='chat.completion', system_fingerprint='fp_319be4768e', usage=CompletionUsage(completion_tokens=399, prompt_tokens=3083, total_tokens=3482))\n",
            "ChatCompletion(id='chatcmpl-9aoBBouiXzDvi3owMIBnUZ7pb4ncu', choices=[Choice(finish_reason='stop', index=0, logprobs=None, message=ChatCompletionMessage(content='1. Neutral\\n2. Neutral\\n3. Neutral\\n4. Neutral\\n5. Neutral\\n6. Positive\\n7. Neutral\\n8. Positive\\n9. Negative\\n10. Neutral\\n11. Positive\\n12. Positive\\n13. Positive\\n14. Positive\\n15. Negative\\n16. Neutral\\n17. Positive\\n18. Positive\\n19. Positive\\n20. Neutral\\n21. Neutral\\n22. Neutral\\n23. Positive\\n24. Negative\\n25. Positive\\n26. Neutral\\n27. Neutral\\n28. Neutral\\n29. Neutral\\n30. Neutral\\n31. Negative\\n32. Neutral\\n33. Positive\\n34. Negative\\n35. Neutral\\n36. Negative\\n37. Positive\\n38. Neutral\\n39. Negative\\n40. Neutral\\n41. Positive\\n42. Neutral\\n43. Negative\\n44. Neutral\\n45. Positive\\n46. Neutral\\n47. Neutral\\n48. Negative\\n49. Negative\\n50. Neutral\\n51. Neutral\\n52. Neutral\\n53. Negative\\n54. Neutral\\n55. Negative\\n56. Positive\\n57. Positive\\n58. Positive\\n59. Neutral\\n60. Neutral\\n61. Neutral\\n62. Positive\\n63. Positive\\n64. Positive\\n65. Positive\\n66. Neutral\\n67. Positive\\n68. Positive\\n69. Positive\\n70. Negative\\n71. Neutral\\n72. Negative\\n73. Negative\\n74. Negative\\n75. Neutral\\n76. Neutral\\n77. Negative\\n78. Positive\\n79. Neutral\\n80. Neutral\\n81. Positive\\n82. Negative\\n83. Negative\\n84. Positive\\n85. Neutral\\n86. Positive\\n87. Positive\\n88. Negative\\n89. Positive\\n90. Neutral\\n91. Neutral\\n92. Neutral\\n93. Negative\\n94. Neutral\\n95. Positive\\n96. Negative\\n97. Neutral\\n98. Neutral\\n99. Positive\\n100. Positive', role='assistant', function_call=None, tool_calls=None))], created=1718559725, model='gpt-4o-2024-05-13', object='chat.completion', system_fingerprint='fp_319be4768e', usage=CompletionUsage(completion_tokens=399, prompt_tokens=3323, total_tokens=3722))\n",
            "ChatCompletion(id='chatcmpl-9aoBFrOciHCEetLD5HbD0OOvO1CWo', choices=[Choice(finish_reason='stop', index=0, logprobs=None, message=ChatCompletionMessage(content='1. Neutral\\n2. Negative\\n3. Neutral\\n4. Positive\\n5. Negative\\n6. Positive\\n7. Positive\\n8. Neutral\\n9. Neutral\\n10. Neutral\\n11. Neutral\\n12. Positive\\n13. Neutral\\n14. Positive\\n15. Positive\\n16. Positive\\n17. Positive\\n18. Neutral\\n19. Negative\\n20. Positive\\n21. Positive\\n22. Neutral\\n23. Positive\\n24. Positive\\n25. Positive\\n26. Positive\\n27. Neutral\\n28. Positive\\n29. Negative\\n30. Neutral\\n31. Positive\\n32. Negative\\n33. Positive\\n34. Negative\\n35. Negative\\n36. Positive\\n37. Negative\\n38. Positive\\n39. Positive\\n40. Neutral\\n41. Neutral\\n42. Positive\\n43. Neutral\\n44. Positive\\n45. Neutral\\n46. Neutral\\n47. Neutral\\n48. Negative\\n49. Positive\\n50. Negative\\n51. Neutral\\n52. Negative\\n53. Positive\\n54. Neutral\\n55. Positive\\n56. Neutral\\n57. Positive\\n58. Neutral\\n59. Neutral\\n60. Neutral\\n61. Positive\\n62. Positive\\n63. Negative\\n64. Positive\\n65. Positive\\n66. Positive\\n67. Negative\\n68. Negative', role='assistant', function_call=None, tool_calls=None))], created=1718559729, model='gpt-4o-2024-05-13', object='chat.completion', system_fingerprint='fp_319be4768e', usage=CompletionUsage(completion_tokens=271, prompt_tokens=2212, total_tokens=2483))\n",
            "False\n"
          ]
        }
      ]
    },
    {
      "cell_type": "code",
      "source": [
        "test_labelled.info()"
      ],
      "metadata": {
        "colab": {
          "base_uri": "https://localhost:8080/"
        },
        "id": "6BBfOYAJ9tML",
        "outputId": "76fe4903-c507-4bf2-fa1e-7833ba81e10c"
      },
      "execution_count": null,
      "outputs": [
        {
          "output_type": "stream",
          "name": "stdout",
          "text": [
            "<class 'pandas.core.frame.DataFrame'>\n",
            "RangeIndex: 968 entries, 0 to 967\n",
            "Data columns (total 4 columns):\n",
            " #   Column       Non-Null Count  Dtype \n",
            "---  ------       --------------  ----- \n",
            " 0   text         968 non-null    object\n",
            " 1   label        968 non-null    object\n",
            " 2   gpt35_label  968 non-null    object\n",
            " 3   gpt4o_label  968 non-null    object\n",
            "dtypes: object(4)\n",
            "memory usage: 30.4+ KB\n"
          ]
        }
      ]
    },
    {
      "cell_type": "code",
      "source": [
        "test_labelled.head()"
      ],
      "metadata": {
        "colab": {
          "base_uri": "https://localhost:8080/",
          "height": 206
        },
        "id": "KNz3ako--yGi",
        "outputId": "814e5362-454a-4934-9fd0-ead83f1b0dff"
      },
      "execution_count": null,
      "outputs": [
        {
          "output_type": "execute_result",
          "data": {
            "text/plain": [
              "                                                text     label gpt35_label  \\\n",
              "0  Raute , headquartered in Nastola , Finland , i...   neutral     neutral   \n",
              "1  And earlier this month , the company signed a ...  positive    positive   \n",
              "2  The divested activities had net sales of EUR 1...   neutral    positive   \n",
              "3  `` We can say that the number of deals has bec...  negative     neutral   \n",
              "4  The manager is critical of politicians ' failu...   neutral     neutral   \n",
              "\n",
              "  gpt4o_label  \n",
              "0     neutral  \n",
              "1    positive  \n",
              "2    positive  \n",
              "3    negative  \n",
              "4     neutral  "
            ],
            "text/html": [
              "\n",
              "  <div id=\"df-40c53dfd-b055-4064-ab9b-bfa083b89ee0\" class=\"colab-df-container\">\n",
              "    <div>\n",
              "<style scoped>\n",
              "    .dataframe tbody tr th:only-of-type {\n",
              "        vertical-align: middle;\n",
              "    }\n",
              "\n",
              "    .dataframe tbody tr th {\n",
              "        vertical-align: top;\n",
              "    }\n",
              "\n",
              "    .dataframe thead th {\n",
              "        text-align: right;\n",
              "    }\n",
              "</style>\n",
              "<table border=\"1\" class=\"dataframe\">\n",
              "  <thead>\n",
              "    <tr style=\"text-align: right;\">\n",
              "      <th></th>\n",
              "      <th>text</th>\n",
              "      <th>label</th>\n",
              "      <th>gpt35_label</th>\n",
              "      <th>gpt4o_label</th>\n",
              "    </tr>\n",
              "  </thead>\n",
              "  <tbody>\n",
              "    <tr>\n",
              "      <th>0</th>\n",
              "      <td>Raute , headquartered in Nastola , Finland , i...</td>\n",
              "      <td>neutral</td>\n",
              "      <td>neutral</td>\n",
              "      <td>neutral</td>\n",
              "    </tr>\n",
              "    <tr>\n",
              "      <th>1</th>\n",
              "      <td>And earlier this month , the company signed a ...</td>\n",
              "      <td>positive</td>\n",
              "      <td>positive</td>\n",
              "      <td>positive</td>\n",
              "    </tr>\n",
              "    <tr>\n",
              "      <th>2</th>\n",
              "      <td>The divested activities had net sales of EUR 1...</td>\n",
              "      <td>neutral</td>\n",
              "      <td>positive</td>\n",
              "      <td>positive</td>\n",
              "    </tr>\n",
              "    <tr>\n",
              "      <th>3</th>\n",
              "      <td>`` We can say that the number of deals has bec...</td>\n",
              "      <td>negative</td>\n",
              "      <td>neutral</td>\n",
              "      <td>negative</td>\n",
              "    </tr>\n",
              "    <tr>\n",
              "      <th>4</th>\n",
              "      <td>The manager is critical of politicians ' failu...</td>\n",
              "      <td>neutral</td>\n",
              "      <td>neutral</td>\n",
              "      <td>neutral</td>\n",
              "    </tr>\n",
              "  </tbody>\n",
              "</table>\n",
              "</div>\n",
              "    <div class=\"colab-df-buttons\">\n",
              "\n",
              "  <div class=\"colab-df-container\">\n",
              "    <button class=\"colab-df-convert\" onclick=\"convertToInteractive('df-40c53dfd-b055-4064-ab9b-bfa083b89ee0')\"\n",
              "            title=\"Convert this dataframe to an interactive table.\"\n",
              "            style=\"display:none;\">\n",
              "\n",
              "  <svg xmlns=\"http://www.w3.org/2000/svg\" height=\"24px\" viewBox=\"0 -960 960 960\">\n",
              "    <path d=\"M120-120v-720h720v720H120Zm60-500h600v-160H180v160Zm220 220h160v-160H400v160Zm0 220h160v-160H400v160ZM180-400h160v-160H180v160Zm440 0h160v-160H620v160ZM180-180h160v-160H180v160Zm440 0h160v-160H620v160Z\"/>\n",
              "  </svg>\n",
              "    </button>\n",
              "\n",
              "  <style>\n",
              "    .colab-df-container {\n",
              "      display:flex;\n",
              "      gap: 12px;\n",
              "    }\n",
              "\n",
              "    .colab-df-convert {\n",
              "      background-color: #E8F0FE;\n",
              "      border: none;\n",
              "      border-radius: 50%;\n",
              "      cursor: pointer;\n",
              "      display: none;\n",
              "      fill: #1967D2;\n",
              "      height: 32px;\n",
              "      padding: 0 0 0 0;\n",
              "      width: 32px;\n",
              "    }\n",
              "\n",
              "    .colab-df-convert:hover {\n",
              "      background-color: #E2EBFA;\n",
              "      box-shadow: 0px 1px 2px rgba(60, 64, 67, 0.3), 0px 1px 3px 1px rgba(60, 64, 67, 0.15);\n",
              "      fill: #174EA6;\n",
              "    }\n",
              "\n",
              "    .colab-df-buttons div {\n",
              "      margin-bottom: 4px;\n",
              "    }\n",
              "\n",
              "    [theme=dark] .colab-df-convert {\n",
              "      background-color: #3B4455;\n",
              "      fill: #D2E3FC;\n",
              "    }\n",
              "\n",
              "    [theme=dark] .colab-df-convert:hover {\n",
              "      background-color: #434B5C;\n",
              "      box-shadow: 0px 1px 3px 1px rgba(0, 0, 0, 0.15);\n",
              "      filter: drop-shadow(0px 1px 2px rgba(0, 0, 0, 0.3));\n",
              "      fill: #FFFFFF;\n",
              "    }\n",
              "  </style>\n",
              "\n",
              "    <script>\n",
              "      const buttonEl =\n",
              "        document.querySelector('#df-40c53dfd-b055-4064-ab9b-bfa083b89ee0 button.colab-df-convert');\n",
              "      buttonEl.style.display =\n",
              "        google.colab.kernel.accessAllowed ? 'block' : 'none';\n",
              "\n",
              "      async function convertToInteractive(key) {\n",
              "        const element = document.querySelector('#df-40c53dfd-b055-4064-ab9b-bfa083b89ee0');\n",
              "        const dataTable =\n",
              "          await google.colab.kernel.invokeFunction('convertToInteractive',\n",
              "                                                    [key], {});\n",
              "        if (!dataTable) return;\n",
              "\n",
              "        const docLinkHtml = 'Like what you see? Visit the ' +\n",
              "          '<a target=\"_blank\" href=https://colab.research.google.com/notebooks/data_table.ipynb>data table notebook</a>'\n",
              "          + ' to learn more about interactive tables.';\n",
              "        element.innerHTML = '';\n",
              "        dataTable['output_type'] = 'display_data';\n",
              "        await google.colab.output.renderOutput(dataTable, element);\n",
              "        const docLink = document.createElement('div');\n",
              "        docLink.innerHTML = docLinkHtml;\n",
              "        element.appendChild(docLink);\n",
              "      }\n",
              "    </script>\n",
              "  </div>\n",
              "\n",
              "\n",
              "<div id=\"df-34f55f88-38d2-4ed3-965a-500716366991\">\n",
              "  <button class=\"colab-df-quickchart\" onclick=\"quickchart('df-34f55f88-38d2-4ed3-965a-500716366991')\"\n",
              "            title=\"Suggest charts\"\n",
              "            style=\"display:none;\">\n",
              "\n",
              "<svg xmlns=\"http://www.w3.org/2000/svg\" height=\"24px\"viewBox=\"0 0 24 24\"\n",
              "     width=\"24px\">\n",
              "    <g>\n",
              "        <path d=\"M19 3H5c-1.1 0-2 .9-2 2v14c0 1.1.9 2 2 2h14c1.1 0 2-.9 2-2V5c0-1.1-.9-2-2-2zM9 17H7v-7h2v7zm4 0h-2V7h2v10zm4 0h-2v-4h2v4z\"/>\n",
              "    </g>\n",
              "</svg>\n",
              "  </button>\n",
              "\n",
              "<style>\n",
              "  .colab-df-quickchart {\n",
              "      --bg-color: #E8F0FE;\n",
              "      --fill-color: #1967D2;\n",
              "      --hover-bg-color: #E2EBFA;\n",
              "      --hover-fill-color: #174EA6;\n",
              "      --disabled-fill-color: #AAA;\n",
              "      --disabled-bg-color: #DDD;\n",
              "  }\n",
              "\n",
              "  [theme=dark] .colab-df-quickchart {\n",
              "      --bg-color: #3B4455;\n",
              "      --fill-color: #D2E3FC;\n",
              "      --hover-bg-color: #434B5C;\n",
              "      --hover-fill-color: #FFFFFF;\n",
              "      --disabled-bg-color: #3B4455;\n",
              "      --disabled-fill-color: #666;\n",
              "  }\n",
              "\n",
              "  .colab-df-quickchart {\n",
              "    background-color: var(--bg-color);\n",
              "    border: none;\n",
              "    border-radius: 50%;\n",
              "    cursor: pointer;\n",
              "    display: none;\n",
              "    fill: var(--fill-color);\n",
              "    height: 32px;\n",
              "    padding: 0;\n",
              "    width: 32px;\n",
              "  }\n",
              "\n",
              "  .colab-df-quickchart:hover {\n",
              "    background-color: var(--hover-bg-color);\n",
              "    box-shadow: 0 1px 2px rgba(60, 64, 67, 0.3), 0 1px 3px 1px rgba(60, 64, 67, 0.15);\n",
              "    fill: var(--button-hover-fill-color);\n",
              "  }\n",
              "\n",
              "  .colab-df-quickchart-complete:disabled,\n",
              "  .colab-df-quickchart-complete:disabled:hover {\n",
              "    background-color: var(--disabled-bg-color);\n",
              "    fill: var(--disabled-fill-color);\n",
              "    box-shadow: none;\n",
              "  }\n",
              "\n",
              "  .colab-df-spinner {\n",
              "    border: 2px solid var(--fill-color);\n",
              "    border-color: transparent;\n",
              "    border-bottom-color: var(--fill-color);\n",
              "    animation:\n",
              "      spin 1s steps(1) infinite;\n",
              "  }\n",
              "\n",
              "  @keyframes spin {\n",
              "    0% {\n",
              "      border-color: transparent;\n",
              "      border-bottom-color: var(--fill-color);\n",
              "      border-left-color: var(--fill-color);\n",
              "    }\n",
              "    20% {\n",
              "      border-color: transparent;\n",
              "      border-left-color: var(--fill-color);\n",
              "      border-top-color: var(--fill-color);\n",
              "    }\n",
              "    30% {\n",
              "      border-color: transparent;\n",
              "      border-left-color: var(--fill-color);\n",
              "      border-top-color: var(--fill-color);\n",
              "      border-right-color: var(--fill-color);\n",
              "    }\n",
              "    40% {\n",
              "      border-color: transparent;\n",
              "      border-right-color: var(--fill-color);\n",
              "      border-top-color: var(--fill-color);\n",
              "    }\n",
              "    60% {\n",
              "      border-color: transparent;\n",
              "      border-right-color: var(--fill-color);\n",
              "    }\n",
              "    80% {\n",
              "      border-color: transparent;\n",
              "      border-right-color: var(--fill-color);\n",
              "      border-bottom-color: var(--fill-color);\n",
              "    }\n",
              "    90% {\n",
              "      border-color: transparent;\n",
              "      border-bottom-color: var(--fill-color);\n",
              "    }\n",
              "  }\n",
              "</style>\n",
              "\n",
              "  <script>\n",
              "    async function quickchart(key) {\n",
              "      const quickchartButtonEl =\n",
              "        document.querySelector('#' + key + ' button');\n",
              "      quickchartButtonEl.disabled = true;  // To prevent multiple clicks.\n",
              "      quickchartButtonEl.classList.add('colab-df-spinner');\n",
              "      try {\n",
              "        const charts = await google.colab.kernel.invokeFunction(\n",
              "            'suggestCharts', [key], {});\n",
              "      } catch (error) {\n",
              "        console.error('Error during call to suggestCharts:', error);\n",
              "      }\n",
              "      quickchartButtonEl.classList.remove('colab-df-spinner');\n",
              "      quickchartButtonEl.classList.add('colab-df-quickchart-complete');\n",
              "    }\n",
              "    (() => {\n",
              "      let quickchartButtonEl =\n",
              "        document.querySelector('#df-34f55f88-38d2-4ed3-965a-500716366991 button');\n",
              "      quickchartButtonEl.style.display =\n",
              "        google.colab.kernel.accessAllowed ? 'block' : 'none';\n",
              "    })();\n",
              "  </script>\n",
              "</div>\n",
              "\n",
              "    </div>\n",
              "  </div>\n"
            ],
            "application/vnd.google.colaboratory.intrinsic+json": {
              "type": "dataframe",
              "variable_name": "test_labelled",
              "summary": "{\n  \"name\": \"test_labelled\",\n  \"rows\": 968,\n  \"fields\": [\n    {\n      \"column\": \"text\",\n      \"properties\": {\n        \"dtype\": \"string\",\n        \"num_unique_values\": 968,\n        \"samples\": [\n          \"Performance in the second half of 2009 exceeded expectations .\",\n          \"The company 's net profit rose 11.4 % on the year to 82.2 million euros in 2005 on sales of 686.5 million euros , 13.8 % up on the year , the company said earlier .\",\n          \"Originally posted to the PCMag.com security blog , Security Watch .\"\n        ],\n        \"semantic_type\": \"\",\n        \"description\": \"\"\n      }\n    },\n    {\n      \"column\": \"label\",\n      \"properties\": {\n        \"dtype\": \"category\",\n        \"num_unique_values\": 3,\n        \"samples\": [\n          \"neutral\",\n          \"positive\",\n          \"negative\"\n        ],\n        \"semantic_type\": \"\",\n        \"description\": \"\"\n      }\n    },\n    {\n      \"column\": \"gpt35_label\",\n      \"properties\": {\n        \"dtype\": \"category\",\n        \"num_unique_values\": 3,\n        \"samples\": [\n          \"neutral\",\n          \"positive\",\n          \"negative\"\n        ],\n        \"semantic_type\": \"\",\n        \"description\": \"\"\n      }\n    },\n    {\n      \"column\": \"gpt4o_label\",\n      \"properties\": {\n        \"dtype\": \"category\",\n        \"num_unique_values\": 3,\n        \"samples\": [\n          \"neutral\",\n          \"positive\",\n          \"negative\"\n        ],\n        \"semantic_type\": \"\",\n        \"description\": \"\"\n      }\n    }\n  ]\n}"
            }
          },
          "metadata": {},
          "execution_count": 22
        }
      ]
    },
    {
      "cell_type": "code",
      "source": [
        "results = evaluate_model_performance(test_labelled, 'label', 'gpt4o_label')\n",
        "print(results)"
      ],
      "metadata": {
        "colab": {
          "base_uri": "https://localhost:8080/"
        },
        "id": "N28JvB6d-z9H",
        "outputId": "484d0733-ab18-4f9f-8fd4-999dee626d56"
      },
      "execution_count": null,
      "outputs": [
        {
          "output_type": "stream",
          "name": "stdout",
          "text": [
            "{'Accuracy': 0.743801652892562, 'F1 Score': 0.7467691978225061, 'Precision': 0.8042645932791511, 'Recall': 0.743801652892562}\n"
          ]
        }
      ]
    },
    {
      "cell_type": "code",
      "source": [
        "test_labelled.to_csv('/content/gdrive/MyDrive/GPTpredictionsonPhraseBankTest_1606.csv', index=False)"
      ],
      "metadata": {
        "id": "NEvjVIu3GZhr"
      },
      "execution_count": null,
      "outputs": []
    }
  ]
}