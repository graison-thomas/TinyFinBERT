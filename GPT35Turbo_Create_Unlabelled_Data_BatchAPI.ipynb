{
  "cells": [
    {
      "cell_type": "code",
      "execution_count": null,
      "metadata": {
        "colab": {
          "base_uri": "https://localhost:8080/"
        },
        "id": "tIkCiBe-0Id1",
        "outputId": "d9290b94-5335-42bc-b17c-bbd0756aea94"
      },
      "outputs": [
        {
          "name": "stdout",
          "output_type": "stream",
          "text": [
            "Drive already mounted at /content/gdrive; to attempt to forcibly remount, call drive.mount(\"/content/gdrive\", force_remount=True).\n"
          ]
        }
      ],
      "source": [
        "from google.colab import drive\n",
        "drive.mount('/content/gdrive')"
      ]
    },
    {
      "cell_type": "code",
      "execution_count": null,
      "metadata": {
        "colab": {
          "base_uri": "https://localhost:8080/"
        },
        "id": "933Mgi180NVr",
        "outputId": "c2f70d10-4703-42d1-9959-704123ec4e0f"
      },
      "outputs": [
        {
          "name": "stdout",
          "output_type": "stream",
          "text": [
            "<class 'pandas.core.frame.DataFrame'>\n",
            "RangeIndex: 3488 entries, 0 to 3487\n",
            "Data columns (total 4 columns):\n",
            " #   Column           Non-Null Count  Dtype  \n",
            "---  ------           --------------  -----  \n",
            " 0   text             3488 non-null   object \n",
            " 1   label            3488 non-null   object \n",
            " 2   PredictedLabel   3488 non-null   object \n",
            " 3   ConfidenceScore  3488 non-null   float64\n",
            "dtypes: float64(1), object(3)\n",
            "memory usage: 109.1+ KB\n",
            "<class 'pandas.core.frame.DataFrame'>\n",
            "RangeIndex: 388 entries, 0 to 387\n",
            "Data columns (total 4 columns):\n",
            " #   Column           Non-Null Count  Dtype  \n",
            "---  ------           --------------  -----  \n",
            " 0   text             388 non-null    object \n",
            " 1   label            388 non-null    object \n",
            " 2   PredictedLabel   388 non-null    object \n",
            " 3   ConfidenceScore  388 non-null    float64\n",
            "dtypes: float64(1), object(3)\n",
            "memory usage: 12.2+ KB\n"
          ]
        }
      ],
      "source": [
        "import pandas as pd\n",
        "train = pd.read_csv('/content/gdrive/MyDrive/replicated_results_train_full.csv')\n",
        "valid = pd.read_csv('/content/gdrive/MyDrive/replicated_results_valid_full.csv')\n",
        "train.info()\n",
        "valid.info()"
      ]
    },
    {
      "cell_type": "code",
      "execution_count": null,
      "metadata": {
        "id": "wlDZmuLFEEkB"
      },
      "outputs": [],
      "source": [
        "# Reset the index of each DataFrame\n",
        "train.reset_index(drop=True, inplace=True)\n",
        "valid.reset_index(drop=True, inplace=True)\n",
        "\n",
        "# Concatenate the DataFrames\n",
        "train_all = pd.concat([train, valid]).reset_index(drop=True)\n",
        "\n",
        "df_incorrect = train_all[train_all['label'] != train_all['PredictedLabel']]\n",
        "df_correct = train_all[train_all['label'] == train_all['PredictedLabel']]\n",
        "df_incorrect = df_incorrect.reset_index(drop=True)\n",
        "df_correct = df_correct.reset_index(drop=True)"
      ]
    },
    {
      "cell_type": "code",
      "execution_count": null,
      "metadata": {
        "colab": {
          "base_uri": "https://localhost:8080/"
        },
        "id": "LOfWL7CUobSm",
        "outputId": "d727c353-f14e-45db-824b-c5630745591a"
      },
      "outputs": [
        {
          "name": "stdout",
          "output_type": "stream",
          "text": [
            "<class 'pandas.core.frame.DataFrame'>\n",
            "RangeIndex: 3494 entries, 0 to 3493\n",
            "Data columns (total 4 columns):\n",
            " #   Column           Non-Null Count  Dtype  \n",
            "---  ------           --------------  -----  \n",
            " 0   text             3494 non-null   object \n",
            " 1   label            3494 non-null   object \n",
            " 2   PredictedLabel   3494 non-null   object \n",
            " 3   ConfidenceScore  3494 non-null   float64\n",
            "dtypes: float64(1), object(3)\n",
            "memory usage: 109.3+ KB\n",
            "None\n",
            "<class 'pandas.core.frame.DataFrame'>\n",
            "RangeIndex: 382 entries, 0 to 381\n",
            "Data columns (total 4 columns):\n",
            " #   Column           Non-Null Count  Dtype  \n",
            "---  ------           --------------  -----  \n",
            " 0   text             382 non-null    object \n",
            " 1   label            382 non-null    object \n",
            " 2   PredictedLabel   382 non-null    object \n",
            " 3   ConfidenceScore  382 non-null    float64\n",
            "dtypes: float64(1), object(3)\n",
            "memory usage: 12.1+ KB\n",
            "None\n"
          ]
        }
      ],
      "source": [
        "print(df_correct.info())\n",
        "print(df_incorrect.info())"
      ]
    },
    {
      "cell_type": "code",
      "execution_count": null,
      "metadata": {
        "colab": {
          "base_uri": "https://localhost:8080/"
        },
        "id": "oN6J-a4MEkBq",
        "outputId": "4937149d-6e90-4fbb-979c-f3b3d6e50875"
      },
      "outputs": [
        {
          "data": {
            "text/plain": [
              "label\n",
              "neutral     2003\n",
              "positive    1026\n",
              "negative     465\n",
              "Name: count, dtype: int64"
            ]
          },
          "execution_count": 12,
          "metadata": {},
          "output_type": "execute_result"
        }
      ],
      "source": [
        "df_correct.label.value_counts()"
      ]
    },
    {
      "cell_type": "code",
      "execution_count": null,
      "metadata": {
        "colab": {
          "base_uri": "https://localhost:8080/"
        },
        "id": "8IAAwcTA0YS9",
        "outputId": "2d9808db-c023-4a7e-b8e2-3131e826da58"
      },
      "outputs": [
        {
          "data": {
            "text/plain": [
              "label\n",
              "neutral     301\n",
              "positive     70\n",
              "negative     11\n",
              "Name: count, dtype: int64"
            ]
          },
          "execution_count": 13,
          "metadata": {},
          "output_type": "execute_result"
        }
      ],
      "source": [
        "df_incorrect.label.value_counts()"
      ]
    },
    {
      "cell_type": "code",
      "execution_count": null,
      "metadata": {
        "colab": {
          "base_uri": "https://localhost:8080/"
        },
        "id": "skeUrH6C0cep",
        "outputId": "8a4b13b1-0313-4101-fa90-f771a7695838"
      },
      "outputs": [
        {
          "name": "stdout",
          "output_type": "stream",
          "text": [
            "Requirement already satisfied: openai in /usr/local/lib/python3.10/dist-packages (1.33.0)\n",
            "Requirement already satisfied: anyio<5,>=3.5.0 in /usr/local/lib/python3.10/dist-packages (from openai) (3.7.1)\n",
            "Requirement already satisfied: distro<2,>=1.7.0 in /usr/lib/python3/dist-packages (from openai) (1.7.0)\n",
            "Requirement already satisfied: httpx<1,>=0.23.0 in /usr/local/lib/python3.10/dist-packages (from openai) (0.27.0)\n",
            "Requirement already satisfied: pydantic<3,>=1.9.0 in /usr/local/lib/python3.10/dist-packages (from openai) (2.7.3)\n",
            "Requirement already satisfied: sniffio in /usr/local/lib/python3.10/dist-packages (from openai) (1.3.1)\n",
            "Requirement already satisfied: tqdm>4 in /usr/local/lib/python3.10/dist-packages (from openai) (4.66.4)\n",
            "Requirement already satisfied: typing-extensions<5,>=4.7 in /usr/local/lib/python3.10/dist-packages (from openai) (4.12.1)\n",
            "Requirement already satisfied: idna>=2.8 in /usr/local/lib/python3.10/dist-packages (from anyio<5,>=3.5.0->openai) (3.7)\n",
            "Requirement already satisfied: exceptiongroup in /usr/local/lib/python3.10/dist-packages (from anyio<5,>=3.5.0->openai) (1.2.1)\n",
            "Requirement already satisfied: certifi in /usr/local/lib/python3.10/dist-packages (from httpx<1,>=0.23.0->openai) (2024.6.2)\n",
            "Requirement already satisfied: httpcore==1.* in /usr/local/lib/python3.10/dist-packages (from httpx<1,>=0.23.0->openai) (1.0.5)\n",
            "Requirement already satisfied: h11<0.15,>=0.13 in /usr/local/lib/python3.10/dist-packages (from httpcore==1.*->httpx<1,>=0.23.0->openai) (0.14.0)\n",
            "Requirement already satisfied: annotated-types>=0.4.0 in /usr/local/lib/python3.10/dist-packages (from pydantic<3,>=1.9.0->openai) (0.7.0)\n",
            "Requirement already satisfied: pydantic-core==2.18.4 in /usr/local/lib/python3.10/dist-packages (from pydantic<3,>=1.9.0->openai) (2.18.4)\n"
          ]
        }
      ],
      "source": [
        "%pip install openai --upgrade\n",
        "from openai import OpenAI\n",
        "client = OpenAI(api_key='sk-proj-hEv32vgqXTnk8oxTyhhpT3BlbkFJSBixmeuoz6s5mkpOg9NU',)\n",
        "import pandas as pd\n",
        "import re  # Import the regex module"
      ]
    },
    {
      "cell_type": "code",
      "execution_count": null,
      "metadata": {
        "id": "tp8ylunS0fcG"
      },
      "outputs": [],
      "source": [
        "def generate_financial_statements(text, label):\n",
        "    system_prompt = f'''\n",
        "    Acting as a seasoned financial analyst, generate 10 variations of the provided financial news statement while retaining the \"{label}\" sentiment and financial context.\n",
        "    Incorporate diverse language and sentence structures, and integrate domain-specific terminology to ensure authenticity and relevance within the financial sector.\n",
        "    Aim for variations of similar length and complexity to the original sentence.\n",
        "    Please avoid using unreadable characters. Provide only the 10 numbered statements without explanations.\n",
        "    You will output a json object containing the following information:\n",
        "\n",
        "    {{\n",
        "      \"variations\": string[] // Array of 10 variations based on the provided financial news statement\n",
        "    }}\n",
        "    '''\n",
        "\n",
        "    response = client.chat.completions.create(\n",
        "        model=\"gpt-3.5-turbo\",\n",
        "        messages=[\n",
        "            {\n",
        "                \"role\": \"system\",\n",
        "                \"content\": system_prompt\n",
        "            },\n",
        "            {\n",
        "                \"role\": \"user\",\n",
        "                \"content\": text\n",
        "            }\n",
        "        ],\n",
        "        response_format={\n",
        "        \"type\": \"json_object\"\n",
        "        },\n",
        "        temperature=0.7,\n",
        "        max_tokens=1000,\n",
        "        top_p=1,\n",
        "        frequency_penalty=0.5,\n",
        "        presence_penalty=0\n",
        "    )\n",
        "\n",
        "    return response.choices[0].message.content"
      ]
    },
    {
      "cell_type": "code",
      "execution_count": null,
      "metadata": {
        "colab": {
          "base_uri": "https://localhost:8080/"
        },
        "id": "ZGeH7I2sD2YF",
        "outputId": "cbd8f0f1-b70c-4e42-a028-c58e0d3fb4dc"
      },
      "outputs": [
        {
          "name": "stdout",
          "output_type": "stream",
          "text": [
            "Text: Following the transaction , Lundbeck has worldwide rights for nalmefene , excluding North America , Mexico , Turkey and South-Korea .\n",
            "Label: positive\n",
            "\n",
            "RESULT: {\n",
            "    \"variations\": [\n",
            "        \"Post the deal, Lundbeck secures exclusive global licensing rights for nalmefene, with the exception of North America, Mexico, Turkey, and South Korea.\",\n",
            "        \"Lundbeck gains global exclusivity for nalmefene post-transaction, except for North America, Mexico, Turkey, and South Korea.\",\n",
            "        \"Upon completion of the transaction, Lundbeck attains worldwide rights for nalmefene, excluding North America, Mexico, Turkey, and South Korea.\",\n",
            "        \"Following the agreement, Lundbeck obtains global licensing rights for nalmefene while excluding North America, Mexico, Turkey, and South Korea.\",\n",
            "        \"After the transaction is finalized, Lundbeck holds worldwide rights for nalmefene except for North America, Mexico, Turkey, and South Korea.\",\n",
            "        \"Lundbeck acquires global exclusivity for nalmefene post-transaction but excludes North America, Mexico, Turkey, and South Korea from the agreement.\",\n",
            "        \"In the wake of the transaction's conclusion, Lundbeck secures international rights for nalmefene but excludes North America , Mexico , Turkey , and South-Korea from the deal.\",\n",
            "        \"Upon executing the deal successfully , Lundbeck gains worldwide licensing rights for nalmefene while excluding North America , Mexico , Turkey , and South-Korea from the agreement.\",\n",
            "        \"Post-transaction completion , Lundbeck now possesses exclusive global licensing rights to nalmefene with exceptions in North America , Mexico , Turkey , and South-Korea.\",\n",
            "        \"After finalizing the transaction , Lundbeck has secured worldwide rights to nalmefene with exclusions in North America , Mexico , Turkey , and South-Korea.\"\n",
            "    ]\n",
            "}\n",
            "\n",
            "\n",
            "----------------------------\n",
            "\n",
            "\n",
            "Text: The dollar bounced back after hitting another record low against the euro , which reached $ 1.41 for the first time .\n",
            "Label: neutral\n",
            "\n",
            "RESULT: {\n",
            "    \"variations\": [\n",
            "        \"Following a downtrend, the dollar showed signs of resilience by recovering from a new all-time low against the euro, which surged to $1.41, marking a historic high.\",\n",
            "        \"The dollar regained strength after touching a fresh historic low compared to the euro, which climbed to $1.41, hitting an unprecedented level.\",\n",
            "        \"After tumbling to a record low, the dollar rebounded against the euro as the latter reached $1.41 for the first time ever, indicating a notable shift in currency dynamics.\",\n",
            "        \"Amidst recent volatility, the dollar managed to bounce back from hitting another record low against the euro, which peaked at $1.41 for the first time in history.\",\n",
            "        \"Once again reaching a historic low against the euro, the dollar swiftly recovered as the euro hit $1.41 for the first time ever, showcasing an intriguing market movement.\",\n",
            "        \"Reversing its downward spiral, the dollar strengthened following its plunge to an all-time low against the euro at $1.41, marking a significant milestone in currency trading.\",\n",
            "        \"Despite hitting yet another record low against the euro at $1.41, the dollar managed to stage a recovery, displaying resilience amidst challenging market conditions.\",\n",
            "        \"The dollar exhibited resilience by bouncing back from its recent record low against the euro at $1.41 for the first time ever, signaling potential shifts in exchange rates.\",\n",
            "        \"In response to touching another all-time low against the euro at $1.41, the dollar showcased strength by making a notable recovery in currency markets.\",\n",
            "        \"After hitting an unprecedented low against the euro at $1.41 for the first time ever, the dollar demonstrated resilience by staging a comeback.\" \n",
            "    ]\n",
            "}\n",
            "\n",
            "\n",
            "----------------------------\n",
            "\n",
            "\n",
            "Text: `` Small well targeted acquisitions have played an important role in executing Satama 's strategy in the past couple of years .\n",
            "Label: neutral\n",
            "\n",
            "RESULT: {\n",
            "    \"variations\": [\n",
            "        \"Strategic acquisitions of a smaller scale have been integral to Satama's strategic execution in recent years.\",\n",
            "        \"Satama's strategy in the past few years has been significantly influenced by well-targeted small-scale acquisitions.\",\n",
            "        \"In the recent years, Satama has strategically utilized small, targeted acquisitions to execute its business strategy effectively.\",\n",
            "        \"The execution of Satama's strategy in the last couple of years has been notably supported by small yet well-targeted acquisitions.\",\n",
            "        \"Small but targeted acquisitions have been key to Satama's strategic implementation over the past few years.\",\n",
            "        \"Satama has leveraged small, well-targeted acquisitions as a crucial part of its strategy execution in recent times.\",\n",
            "        \"The past few years have seen Satama relying on small yet strategic acquisitions to drive its overall strategy.\",\n",
            "        \"Executing its strategy successfully in recent years, Satama has made significant use of small and focused acquisitions.\",\n",
            "        \"Satama's strategic approach in recent times has heavily involved the utilization of small, precisely targeted acquisitions.\",\n",
            "        \"The strategic implementation at Satama over the past couple of years owes much to well-planned, smaller acquisitions.\"\n",
            "    ]\n",
            "}\n",
            "\n",
            "\n",
            "----------------------------\n",
            "\n",
            "\n",
            "Text: Finnish business software group AffectoGenimap Oyj said its net profit halved to 1.2 mln euro ( $ 1.5 mln ) in the first nine months of 2006 from 2.2 mln euro ( $ 2.8 mln ) in the same period of 2005 .\n",
            "Label: negative\n",
            "\n",
            "RESULT: {\n",
            "    \"variations\": [\n",
            "        \"AffectoGenimap Oyj, a Finnish business software company, reported a 50% decrease in net profit to 1.2 million euros ($1.5 million) for the first nine months of 2006 compared to 2.2 million euros ($2.8 million) in the corresponding period of 2005.\",\n",
            "        \"The net profit of AffectoGenimap Oyj, a business software firm based in Finland, plummeted by half to 1.2 million euros ($1.5 million) during the initial nine months of 2006 from 2.2 million euros ($2.8 million) recorded in the same period of 2005.\",\n",
            "        \"AffectoGenimap Oyj, a Finnish enterprise specializing in business software solutions, saw its net profit decline by 50% to 1.2 million euros ($1.5 million) for the first nine months of 2006 as compared to the 2.2 million euros ($2.8 million) achieved in the equivalent period of 2005.\",\n",
            "        \"With a notable setback, AffectoGenimap Oyj, a Finland-based business software corporation, experienced a sharp drop in net profit to 1.2 million euros ($1.5 million) for the initial nine months of 2006 versus the previous year's figure of 2.2 million euros ($2.8 million).\",\n",
            "        \"In a disappointing turn of events, AffectoGenimap Oyj, an innovative Finnish business software entity, witnessed its net profit slashed by half to just 1.2 million euros ($1.5 million) for the first nine months of 2006 from the prior year's amount of 2.2 mln euro ( $ 2.8 mln ).\",\n",
            "        \"AffectoGenimap Oyj, a prominent Finnish company specializing in business software services, faced a significant downturn as its net profit dropped by half to only 1.2 mln euro ( $ 1.5 mln ) during the initial nine months of 2006 compared to 3 mln euro ( $3 mln ) in the same period last year.\",\n",
            "        \"The financial performance of AffectoGenimap Oyj took a severe hit as its net profit decreased by half to reach merely at €1.2m ($1.5m) for the first nine months of 2006 from €3m ($3m) during the same period last year.\",\n",
            "        \"AffectoGenimap Oyj disclosed that their net earnings nosedived by half amounting to only €1.2m ($1.5m) for January-September in fiscal year-06 compared with €3m ($3m) registered during January-September '05.\",\n",
            "        \"The financial report released by AffectoGenimap Oyj unveiled a distressing development with their net profits dwindling by fifty percent down to €1.20m (equivalent to $1.50m), contrasting starkly with €3m (equivalent to $3m) from January through September '05.\",\n",
            "        \"AffectoGenimap Oyj faced dire financial news as their net profits plunged drastically by fifty percent landing at €1 .20 mln euro ( $ $ .50 mln ) during Q12006 versus € .30 mln euro ( $ .30 mln ) reported during Q12005.\"\n",
            "    ]\n",
            "}\n",
            "\n",
            "\n",
            "----------------------------\n",
            "\n",
            "\n",
            "Text: `` The rest of this week 's tapings of Jimmy Kimmel Live have been canceled until he is back on his feet .\n",
            "Label: neutral\n",
            "\n",
            "RESULT: {\n",
            "    \"variations\": [\n",
            "        \"The remainder of this week's Jimmy Kimmel Live tapings has been suspended until his return to good health.\",\n",
            "        \"Until he recuperates, the tapings for the rest of this week's Jimmy Kimmel Live episodes have been called off.\",\n",
            "        \"Jimmy Kimmel Live will not be taped for the remainder of this week until he is fully recovered.\",\n",
            "        \"In light of his health condition, there will be no more tapings for Jimmy Kimmel Live this week.\",\n",
            "        \"The tapings for the upcoming episodes of Jimmy Kimmel Live have been halted until his recovery is complete.\",\n",
            "        \"Due to his health setback, the tapings for the rest of this week's Jimmy Kimmel Live shows have been canceled.\",\n",
            "        \"Jimmy Kimmel Live will not go on air for the remaining part of this week until he gets better.\",\n",
            "        \"The scheduled tapings for the rest of this week's Jimmy Kimmel Live broadcasts have been postponed until he regains his health.\",\n",
            "        \"In light of his recovery needs, there will be no more tapings for Jimmy Kimmel Live during the remainder of this week.\",\n",
            "        \"Until he is back on his feet, there will be no further tapings for Jimmy Kimmel Live throughout the remainder of this week.\"\n",
            "    ]\n",
            "}\n",
            "\n",
            "\n",
            "----------------------------\n",
            "\n",
            "\n"
          ]
        }
      ],
      "source": [
        "# # Testing on a few examples\n",
        "# for _, row in df_incorrect[:5].iterrows():\n",
        "#     result = generate_financial_statements(row['text'],row['label'])\n",
        "#     print(f\"Text: {row['text']}\\nLabel: {row['label']}\\n\\nRESULT: {result}\")\n",
        "#     print(\"\\n\\n----------------------------\\n\\n\")"
      ]
    },
    {
      "cell_type": "code",
      "execution_count": null,
      "metadata": {
        "id": "HeWkTGOGGaB5"
      },
      "outputs": [],
      "source": [
        "# Creating an array of json tasks\n",
        "\n",
        "tasks = []\n",
        "\n",
        "# for index, row in df_incorrect.iterrows():\n",
        "\n",
        "#     description = row['text']\n",
        "#     system_prompt = f'''\n",
        "#     Acting as a seasoned financial analyst, generate 20 variations of the provided financial news statement while retaining the \"{row['label']}\" sentiment and financial context.\n",
        "#     Incorporate diverse language and sentence structures, and integrate domain-specific terminology to ensure authenticity and relevance within the financial sector.\n",
        "#     Aim for variations of similar length and complexity to the original sentence.\n",
        "#     Please avoid using unreadable characters. Provide only the 20 statements without explanations.\n",
        "#     You will output a json object containing the following information:\n",
        "\n",
        "#     {{\n",
        "#       \"statements\": string[] // Array of 20 variations based on the provided financial news statement\n",
        "#     }}\n",
        "#     '''\n",
        "#     task = {\n",
        "#         \"custom_id\": f\"task_incorrect1-{index}\",\n",
        "#         \"method\": \"POST\",\n",
        "#         \"url\": \"/v1/chat/completions\",\n",
        "#         \"body\": {\n",
        "#             # This is what you would have in your Chat Completions API call\n",
        "#             \"model\": \"gpt-3.5-turbo\",\n",
        "#             \"temperature\": 0.7,\n",
        "#             \"max_tokens\":2000,\n",
        "#             \"top_p\":1,\n",
        "#             \"frequency_penalty\":0.5,\n",
        "#             \"presence_penalty\":0,\n",
        "#             \"response_format\": {\n",
        "#                 \"type\": \"json_object\"\n",
        "#             },\n",
        "#             \"messages\": [\n",
        "#                 {\n",
        "#                     \"role\": \"system\",\n",
        "#                     \"content\": system_prompt\n",
        "#                 },\n",
        "#                 {\n",
        "#                     \"role\": \"user\",\n",
        "#                     \"content\": description\n",
        "#                 }\n",
        "#             ],\n",
        "#         }\n",
        "#     }\n",
        "\n",
        "#     tasks.append(task)\n",
        "\n",
        "# for index, row in df_incorrect.iterrows():\n",
        "\n",
        "#   description = row['text']\n",
        "#   system_prompt = f'''\n",
        "#   Acting as a seasoned financial analyst, generate 30 different financial news statements similar to the provided financial news statement and having a \"{row['label']}\" sentiment.\n",
        "#   Incorporate diverse language and sentence structures, and integrate domain-specific terminology to ensure authenticity and relevance within the financial sector.\n",
        "#   Aim for financial news statements of similar length and complexity to the original sentence.\n",
        "#   Please avoid using unreadable characters. Provide only the 30 statements without explanations.\n",
        "#   You will output a JSON object containing the following information:\n",
        "\n",
        "#   {{\n",
        "#     \"statements\": string[] // Array of 30 statements based on the provided financial news statement\n",
        "#   }}\n",
        "#   '''\n",
        "\n",
        "#   task = {\n",
        "#       \"custom_id\": f\"_incorrect2-{index}\",\n",
        "#       \"method\": \"POST\",\n",
        "#       \"url\": \"/v1/chat/completions\",\n",
        "#       \"body\": {\n",
        "#           # This is what you would have in your Chat Completions API call\n",
        "#           \"model\": \"gpt-3.5-turbo\",\n",
        "#           \"temperature\": 0.7,\n",
        "#           \"max_tokens\":3000,\n",
        "#           \"top_p\":1,\n",
        "#           \"frequency_penalty\":0.5,\n",
        "#           \"presence_penalty\":0,\n",
        "#           \"response_format\": {\n",
        "#               \"type\": \"json_object\"\n",
        "#           },\n",
        "#           \"messages\": [\n",
        "#               {\n",
        "#                   \"role\": \"system\",\n",
        "#                   \"content\": system_prompt\n",
        "#               },\n",
        "#               {\n",
        "#                   \"role\": \"user\",\n",
        "#                   \"content\": description\n",
        "#               }\n",
        "#           ],\n",
        "#       }\n",
        "#   }\n",
        "\n",
        "#   tasks.append(task)\n",
        "\n",
        "for index, row in df_correct[3000:].iterrows():\n",
        "\n",
        "    description = row['text']\n",
        "    system_prompt = f'''\n",
        "    Acting as a seasoned financial analyst, generate 5 variations of the provided financial news statement while retaining the \"{row['label']}\" sentiment and financial context.\n",
        "    Incorporate diverse language and sentence structures, and integrate domain-specific terminology to ensure authenticity and relevance within the financial sector.\n",
        "    Aim for variations of similar length and complexity to the original sentence.\n",
        "    Please avoid using unreadable characters. Provide only the 5 statements without explanations.\n",
        "    You will output a json object containing the following information:\n",
        "\n",
        "    {{\n",
        "      \"statements\": string[] // Array of 5 variations based on the provided financial news statement\n",
        "    }}\n",
        "    '''\n",
        "    task = {\n",
        "        \"custom_id\": f\"task_correct-{index}\",\n",
        "        \"method\": \"POST\",\n",
        "        \"url\": \"/v1/chat/completions\",\n",
        "        \"body\": {\n",
        "            # This is what you would have in your Chat Completions API call\n",
        "            \"model\": \"gpt-3.5-turbo\",\n",
        "            \"temperature\": 0.7,\n",
        "            \"max_tokens\":500,\n",
        "            \"top_p\":1,\n",
        "            \"frequency_penalty\":0.5,\n",
        "            \"presence_penalty\":0,\n",
        "            \"response_format\": {\n",
        "                \"type\": \"json_object\"\n",
        "            },\n",
        "            \"messages\": [\n",
        "                {\n",
        "                    \"role\": \"system\",\n",
        "                    \"content\": system_prompt\n",
        "                },\n",
        "                {\n",
        "                    \"role\": \"user\",\n",
        "                    \"content\": description\n",
        "                }\n",
        "            ],\n",
        "        }\n",
        "    }\n",
        "\n",
        "    tasks.append(task)"
      ]
    },
    {
      "cell_type": "code",
      "execution_count": null,
      "metadata": {
        "id": "TFyq38HDU84q"
      },
      "outputs": [],
      "source": [
        "# Creating the file\n",
        "import json\n",
        "file_name = \"/content/gdrive/MyDrive/batch_tasks_augmentation8.jsonl\"\n",
        "\n",
        "with open(file_name, 'w') as file:\n",
        "    for obj in tasks:\n",
        "        file.write(json.dumps(obj) + '\\n')"
      ]
    },
    {
      "cell_type": "code",
      "execution_count": null,
      "metadata": {
        "colab": {
          "base_uri": "https://localhost:8080/"
        },
        "id": "Ved2Z2EjVqjA",
        "outputId": "602d042f-1b84-49b6-aea1-3490855f2be1"
      },
      "outputs": [
        {
          "output_type": "stream",
          "name": "stdout",
          "text": [
            "<class 'pandas.core.frame.DataFrame'>\n",
            "RangeIndex: 494 entries, 0 to 493\n",
            "Data columns (total 4 columns):\n",
            " #   Column     Non-Null Count  Dtype \n",
            "---  ------     --------------  ----- \n",
            " 0   custom_id  494 non-null    object\n",
            " 1   method     494 non-null    object\n",
            " 2   url        494 non-null    object\n",
            " 3   body       494 non-null    object\n",
            "dtypes: object(4)\n",
            "memory usage: 15.6+ KB\n"
          ]
        }
      ],
      "source": [
        "df = pd.read_json(file_name, lines=True)\n",
        "\n",
        "# Display the first 10 records\n",
        "df.info()"
      ]
    },
    {
      "cell_type": "code",
      "execution_count": null,
      "metadata": {
        "colab": {
          "base_uri": "https://localhost:8080/"
        },
        "id": "njBAMnZHYMnk",
        "outputId": "960b8f59-968d-46ce-d585-9fe89f033d90"
      },
      "outputs": [
        {
          "output_type": "stream",
          "name": "stdout",
          "text": [
            "0                                                                                     {'model': 'gpt-3.5-turbo', 'temperature': 0.7000000000000001, 'max_tokens': 500, 'top_p': 1, 'frequency_penalty': 0.5, 'presence_penalty': 0, 'response_format': {'type': 'json_object'}, 'messages': [{'role': 'system', 'content': '\n",
            "    Acting as a seasoned financial analyst, generate 5 variations of the provided financial news statement while retaining the \"neutral\" sentiment and financial context.\n",
            "    Incorporate diverse language and sentence structures, and integrate domain-specific terminology to ensure authenticity and relevance within the financial sector.\n",
            "    Aim for variations of similar length and complexity to the original sentence.\n",
            "    Please avoid using unreadable characters. Provide only the 5 statements without explanations.\n",
            "    You will output a json object containing the following information:\n",
            "\n",
            "    {\n",
            "      \"statements\": string[] // Array of 5 variations based on the provided financial news statement\n",
            "    }\n",
            "    '}, {'role': 'user', 'content': 'Pharmaceuticals - Czech Republic This brand-new market analysis gives a clear overview of the actual situation and future outlook of the pharmaceutical market in Czech Republic .'}]}\n",
            "1    {'model': 'gpt-3.5-turbo', 'temperature': 0.7000000000000001, 'max_tokens': 500, 'top_p': 1, 'frequency_penalty': 0.5, 'presence_penalty': 0, 'response_format': {'type': 'json_object'}, 'messages': [{'role': 'system', 'content': '\n",
            "    Acting as a seasoned financial analyst, generate 5 variations of the provided financial news statement while retaining the \"positive\" sentiment and financial context.\n",
            "    Incorporate diverse language and sentence structures, and integrate domain-specific terminology to ensure authenticity and relevance within the financial sector.\n",
            "    Aim for variations of similar length and complexity to the original sentence.\n",
            "    Please avoid using unreadable characters. Provide only the 5 statements without explanations.\n",
            "    You will output a json object containing the following information:\n",
            "\n",
            "    {\n",
            "      \"statements\": string[] // Array of 5 variations based on the provided financial news statement\n",
            "    }\n",
            "    '}, {'role': 'user', 'content': 'Rory Fitzgerald , general manager , operations , Bristol Port , said : `` With the use of low maintenance technology we can save up to 30 per cent on servicing , plus the load sensing hydraulics can save us an extra 15 to 30 per cent on fuel consumption . '''}]}\n",
            "2                                                                                                                                                                        {'model': 'gpt-3.5-turbo', 'temperature': 0.7000000000000001, 'max_tokens': 500, 'top_p': 1, 'frequency_penalty': 0.5, 'presence_penalty': 0, 'response_format': {'type': 'json_object'}, 'messages': [{'role': 'system', 'content': '\n",
            "    Acting as a seasoned financial analyst, generate 5 variations of the provided financial news statement while retaining the \"positive\" sentiment and financial context.\n",
            "    Incorporate diverse language and sentence structures, and integrate domain-specific terminology to ensure authenticity and relevance within the financial sector.\n",
            "    Aim for variations of similar length and complexity to the original sentence.\n",
            "    Please avoid using unreadable characters. Provide only the 5 statements without explanations.\n",
            "    You will output a json object containing the following information:\n",
            "\n",
            "    {\n",
            "      \"statements\": string[] // Array of 5 variations based on the provided financial news statement\n",
            "    }\n",
            "    '}, {'role': 'user', 'content': '`` Ixonos has a rich heritage in developing leadership experiences in the smartphone segment .'}]}\n",
            "Name: body, dtype: object\n"
          ]
        }
      ],
      "source": [
        "pd.set_option('display.max_colwidth', None)\n",
        "print(df['body'].head(3))"
      ]
    },
    {
      "cell_type": "code",
      "execution_count": null,
      "metadata": {
        "id": "OfVxh2oVWoh2"
      },
      "outputs": [],
      "source": [
        "batch_file = client.files.create(\n",
        "  file=open(file_name, \"rb\"),\n",
        "  purpose=\"batch\"\n",
        ")"
      ]
    },
    {
      "cell_type": "code",
      "execution_count": null,
      "metadata": {
        "colab": {
          "base_uri": "https://localhost:8080/"
        },
        "id": "5xujpedsZcxi",
        "outputId": "7857eef7-8d8a-4b94-e862-016979783573"
      },
      "outputs": [
        {
          "output_type": "stream",
          "name": "stdout",
          "text": [
            "FileObject(id='file-KIDWM8yHhqEXKLfannBreEXb', bytes=590483, created_at=1717883418, filename='batch_tasks_augmentation8.jsonl', object='file', purpose='batch', status='processed', status_details=None)\n"
          ]
        }
      ],
      "source": [
        "print(batch_file)"
      ]
    },
    {
      "cell_type": "code",
      "execution_count": null,
      "metadata": {
        "id": "_DmGQgxmZqtv"
      },
      "outputs": [],
      "source": [
        "batch_job = client.batches.create(\n",
        "  input_file_id=batch_file.id,\n",
        "  endpoint=\"/v1/chat/completions\",\n",
        "  completion_window=\"24h\"\n",
        ")"
      ]
    },
    {
      "cell_type": "code",
      "execution_count": null,
      "metadata": {
        "colab": {
          "base_uri": "https://localhost:8080/"
        },
        "id": "GFhSBSxaaNgk",
        "outputId": "66b5c855-a2e1-4ba1-d6fc-c0d1f81cd5a7"
      },
      "outputs": [
        {
          "output_type": "stream",
          "name": "stdout",
          "text": [
            "Batch(id='batch_i2DMzWyQGyD4zCS1yY8JBoBC', completion_window='24h', created_at=1717883425, endpoint='/v1/chat/completions', input_file_id='file-KIDWM8yHhqEXKLfannBreEXb', object='batch', status='completed', cancelled_at=None, cancelling_at=None, completed_at=1717883563, error_file_id=None, errors=None, expired_at=None, expires_at=1717969825, failed_at=None, finalizing_at=1717883541, in_progress_at=1717883426, metadata=None, output_file_id='file-YiQuzddscRetejhqKjdbie8U', request_counts=BatchRequestCounts(completed=494, failed=0, total=494))\n"
          ]
        }
      ],
      "source": [
        "batch_job = client.batches.retrieve(batch_job.id)\n",
        "print(batch_job)"
      ]
    },
    {
      "cell_type": "code",
      "execution_count": null,
      "metadata": {
        "id": "QtP_X3gicxH6"
      },
      "outputs": [],
      "source": [
        "result_file_id = batch_job.output_file_id\n",
        "result = client.files.content(result_file_id).content"
      ]
    },
    {
      "cell_type": "code",
      "execution_count": null,
      "metadata": {
        "id": "9IAbNuWpdm0D"
      },
      "outputs": [],
      "source": [
        "result_file_name = \"/content/gdrive/MyDrive/batch_job_results_correct_part7.jsonl\"\n",
        "\n",
        "with open(result_file_name, 'wb') as file:\n",
        "    file.write(result)"
      ]
    },
    {
      "cell_type": "code",
      "execution_count": null,
      "metadata": {
        "colab": {
          "base_uri": "https://localhost:8080/"
        },
        "id": "7Gd82_uPhc4J",
        "outputId": "155b601f-f319-401b-a584-12e87153c006"
      },
      "outputs": [
        {
          "output_type": "stream",
          "name": "stdout",
          "text": [
            "<class 'pandas.core.frame.DataFrame'>\n",
            "RangeIndex: 494 entries, 0 to 493\n",
            "Data columns (total 4 columns):\n",
            " #   Column     Non-Null Count  Dtype  \n",
            "---  ------     --------------  -----  \n",
            " 0   id         494 non-null    object \n",
            " 1   custom_id  494 non-null    object \n",
            " 2   response   494 non-null    object \n",
            " 3   error      0 non-null      float64\n",
            "dtypes: float64(1), object(3)\n",
            "memory usage: 15.6+ KB\n"
          ]
        }
      ],
      "source": [
        "df = pd.read_json(result_file_name, lines=True)\n",
        "\n",
        "# Display the first 10 records\n",
        "df.info()"
      ]
    },
    {
      "cell_type": "code",
      "execution_count": null,
      "metadata": {
        "colab": {
          "base_uri": "https://localhost:8080/"
        },
        "id": "ykFvufu-l8LJ",
        "outputId": "ec4216ac-afa4-43f4-a269-b906dbb7ec6f"
      },
      "outputs": [
        {
          "output_type": "stream",
          "name": "stdout",
          "text": [
            "0                                                                                                                                                                                                                                                                                                                                                                                                                                                                                                                                                                                                                                                                                                                                                                                                                                                                                                                              {'status_code': 200, 'request_id': 'f86a4277c4eb973dd62a79ed5730b970', 'body': {'id': 'chatcmpl-9XyG6phGaVupX1AirXRtSyq7wKjEP', 'object': 'chat.completion', 'created': 1717883486, 'model': 'gpt-3.5-turbo-0125', 'choices': [{'index': 0, 'message': {'role': 'assistant', 'content': '{\\n    \"statements\": [\\n        \"The recently conducted market analysis offers a comprehensive insight into the current landscape and future prospects of the pharmaceutical sector in the Czech Republic.\",\\n        \"A fresh market analysis has provided a detailed summary of the present status and forthcoming trends in the pharmaceutical market within the Czech Republic.\",\\n        \"This newly released market analysis presents a comprehensive view of both the current scenario and the future projections of the pharmaceutical market in the Czech Republic.\",\\n        \"An up-to-date market analysis sheds light on the current state and upcoming developments in the pharmaceutical sector of the Czech Republic.\",\\n        \"The latest market analysis delivers a thorough examination of both the existing conditions and future expectations within the pharmaceutical market of Czech Republic.\"\\n    ]\\n}'}, 'logprobs': None, 'finish_reason': 'stop'}], 'usage': {'prompt_tokens': 164, 'completion_tokens': 144, 'total_tokens': 308}, 'system_fingerprint': None}}\n",
            "1    {'status_code': 200, 'request_id': '006232e73ec2199a58a34189971a0b1d', 'body': {'id': 'chatcmpl-9XyG6BfRH8cQZnsMIugQJKkbf2iF3', 'object': 'chat.completion', 'created': 1717883486, 'model': 'gpt-3.5-turbo-0125', 'choices': [{'index': 0, 'message': {'role': 'assistant', 'content': '{\\n    \"statements\": [\\n        \"Rory Fitzgerald, operations general manager at Bristol Port, highlighted the potential for up to a 30% reduction in servicing costs through the implementation of low-maintenance technology. Additionally, the utilization of load sensing hydraulics could lead to further savings of 15-30% on fuel consumption.\",\\n        \"Addressing the audience, Bristol Port\\'s operations general manager, Rory Fitzgerald, emphasized the significant cost-saving opportunities achievable through the adoption of low maintenance technology. Furthermore, by incorporating load sensing hydraulics, the port could potentially cut down fuel consumption by an additional 15-30%.\",\\n        \"In a recent statement, Rory Fitzgerald, who serves as the general manager of operations at Bristol Port, underscored the projected 30% decrease in servicing expenses attainable by leveraging low maintenance technology. Moreover, he mentioned that implementing load sensing hydraulics could result in an extra 15 to 30% reduction in fuel usage.\",\\n        \"Rory Fitzgerald, as the general manager overseeing operations at Bristol Port, outlined a strategic plan involving low maintenance technology that could yield substantial savings of up to 30% on servicing costs. Moreover, he indicated that integrating load sensing hydraulics has the potential to deliver an additional 15-30% reduction in fuel consumption.\",\\n        \"During his recent presentation, Rory Fitzgerald, operations general manager at Bristol Port, discussed the advantageous prospects of adopting low maintenance technology for potential savings of around 30% on servicing expenditures. Furthermore, he highlighted that incorporating load sensing hydraulics may lead to an extra 15-30% decrease in fuel usage.\"\\n    ]\\n}'}, 'logprobs': None, 'finish_reason': 'stop'}], 'usage': {'prompt_tokens': 191, 'completion_tokens': 328, 'total_tokens': 519}, 'system_fingerprint': None}}\n",
            "2                                                                                                                                                                                                                                                                                                                                                                                                                                                                                                                                                                                                                                                                                                                                                                                                                                                                                                                                                                                                                                                                                                                                                                                          {'status_code': 200, 'request_id': '2c3b3e9cdd22bfe92cfb1ff0e6578a7d', 'body': {'id': 'chatcmpl-9XyG6mWqvkbJgG8M7jUclc6r9MdQX', 'object': 'chat.completion', 'created': 1717883486, 'model': 'gpt-3.5-turbo-0125', 'choices': [{'index': 0, 'message': {'role': 'assistant', 'content': '{\\n    \"statements\": [\\n        \"Ixonos boasts a strong legacy in crafting innovative leadership solutions within the smartphone industry.\",\\n        \"With a distinguished history, Ixonos excels in creating cutting-edge leadership offerings for the smartphone market.\",\\n        \"Ixonos has a deep-rooted tradition of pioneering leadership solutions tailored for the smartphone sector.\",\\n        \"Having a robust background, Ixonos is known for its exceptional leadership experiences in the smartphone domain.\",\\n        \"Ixonos carries a prestigious legacy of delivering top-tier leadership experiences within the realm of smartphones.\"\\n    ]\\n}'}, 'logprobs': None, 'finish_reason': 'stop'}], 'usage': {'prompt_tokens': 150, 'completion_tokens': 115, 'total_tokens': 265}, 'system_fingerprint': None}}\n",
            "Name: response, dtype: object\n"
          ]
        }
      ],
      "source": [
        "print(df['response'].head(3))"
      ]
    },
    {
      "cell_type": "code",
      "execution_count": null,
      "metadata": {
        "colab": {
          "base_uri": "https://localhost:8080/"
        },
        "id": "YHf0zNMUlQvq",
        "outputId": "bb58ba6c-0d4e-43da-e634-95083cf07d1c"
      },
      "outputs": [
        {
          "output_type": "stream",
          "name": "stdout",
          "text": [
            "                                                                                                                                                                                           statements\n",
            "0                           The recently conducted market analysis offers a comprehensive insight into the current landscape and future prospects of the pharmaceutical sector in the Czech Republic.\n",
            "1                                        A fresh market analysis has provided a detailed summary of the present status and forthcoming trends in the pharmaceutical market within the Czech Republic.\n",
            "2                       This newly released market analysis presents a comprehensive view of both the current scenario and the future projections of the pharmaceutical market in the Czech Republic.\n",
            "3                                                        An up-to-date market analysis sheds light on the current state and upcoming developments in the pharmaceutical sector of the Czech Republic.\n",
            "4                              The latest market analysis delivers a thorough examination of both the existing conditions and future expectations within the pharmaceutical market of Czech Republic.\n",
            "...                                                                                                                                                                                               ...\n",
            "2473  Kesko has successfully reached an agreement with the city administration back in 2006 for the lease, resettlement, and construction of a luxurious five-star Hilton hotel comprising 120 rooms.\n",
            "2474                          In 2006, Kesko finalized a deal with the city administration for the rental, relocation, and establishment of a prestigious five-star Hilton hotel featuring 120 rooms.\n",
            "2475                   The arrangement between Kesko and the city administration in 2006 paved the way for the lease, relocation, and development of a sophisticated Hilton hotel boasting 120 rooms.\n",
            "2476                              Back in 2006, Kesko came to terms with the city administration regarding the leasing, relocation, and creation of an upscale five-star Hilton hotel with 120 rooms.\n",
            "2477     A significant milestone was achieved in 2006 as Kesko agreed with the city administration on the rental, relocation, and construction of a lavish five-star Hilton hotel offering 120 rooms.\n",
            "\n",
            "[2478 rows x 1 columns]\n"
          ]
        }
      ],
      "source": [
        "# Define a function to safely parse and extract statements\n",
        "def extract_statements(row):\n",
        "    try:\n",
        "        # Accessing the nested 'choices' array correctly based on your structure\n",
        "        choices = row['body']['choices']\n",
        "        # Extract the content from the first choice's message\n",
        "        content = json.loads(choices[0]['message']['content'])\n",
        "        return content['statements']\n",
        "    except (KeyError, TypeError, json.JSONDecodeError) as e:\n",
        "        print(f\"Error parsing row: {e}\")  # Print the error for debugging\n",
        "        return []  # Return an empty list in case of other errors\n",
        "\n",
        "# Apply the function to extract statements\n",
        "df['statements'] = df['response'].apply(extract_statements)\n",
        "\n",
        "# Explode the 'statements' column into multiple rows\n",
        "expanded_df = df.explode('statements')\n",
        "\n",
        "# Reset the index if desired\n",
        "expanded_df.reset_index(drop=True, inplace=True)\n",
        "\n",
        "# Display the expanded DataFrame\n",
        "print(expanded_df[['statements']])\n"
      ]
    },
    {
      "cell_type": "code",
      "execution_count": null,
      "metadata": {
        "id": "q_5nX0WplqaO"
      },
      "outputs": [],
      "source": [
        "new_df = expanded_df[['statements']].copy()"
      ]
    },
    {
      "cell_type": "code",
      "execution_count": null,
      "metadata": {
        "colab": {
          "base_uri": "https://localhost:8080/"
        },
        "id": "fOswYRwvueSf",
        "outputId": "0fe7ab75-4430-4827-ec2a-2124ed60d81d"
      },
      "outputs": [
        {
          "output_type": "stream",
          "name": "stdout",
          "text": [
            "<class 'pandas.core.frame.DataFrame'>\n",
            "RangeIndex: 2478 entries, 0 to 2477\n",
            "Data columns (total 1 columns):\n",
            " #   Column      Non-Null Count  Dtype \n",
            "---  ------      --------------  ----- \n",
            " 0   statements  2478 non-null   object\n",
            "dtypes: object(1)\n",
            "memory usage: 19.5+ KB\n"
          ]
        }
      ],
      "source": [
        "new_df.info()"
      ]
    },
    {
      "cell_type": "code",
      "execution_count": null,
      "metadata": {
        "colab": {
          "base_uri": "https://localhost:8080/",
          "height": 206
        },
        "id": "Bk34-9nnn671",
        "outputId": "0ecdfc94-bec5-4767-a2d5-ec4f4c2c3caf"
      },
      "outputs": [
        {
          "output_type": "execute_result",
          "data": {
            "text/plain": [
              "                                                                                                                                                                      statements\n",
              "0      The recently conducted market analysis offers a comprehensive insight into the current landscape and future prospects of the pharmaceutical sector in the Czech Republic.\n",
              "1                   A fresh market analysis has provided a detailed summary of the present status and forthcoming trends in the pharmaceutical market within the Czech Republic.\n",
              "2  This newly released market analysis presents a comprehensive view of both the current scenario and the future projections of the pharmaceutical market in the Czech Republic.\n",
              "3                                   An up-to-date market analysis sheds light on the current state and upcoming developments in the pharmaceutical sector of the Czech Republic.\n",
              "4         The latest market analysis delivers a thorough examination of both the existing conditions and future expectations within the pharmaceutical market of Czech Republic."
            ],
            "text/html": [
              "\n",
              "  <div id=\"df-0fd3d494-9d7f-4bf5-84f9-86e56dbe3dbf\" class=\"colab-df-container\">\n",
              "    <div>\n",
              "<style scoped>\n",
              "    .dataframe tbody tr th:only-of-type {\n",
              "        vertical-align: middle;\n",
              "    }\n",
              "\n",
              "    .dataframe tbody tr th {\n",
              "        vertical-align: top;\n",
              "    }\n",
              "\n",
              "    .dataframe thead th {\n",
              "        text-align: right;\n",
              "    }\n",
              "</style>\n",
              "<table border=\"1\" class=\"dataframe\">\n",
              "  <thead>\n",
              "    <tr style=\"text-align: right;\">\n",
              "      <th></th>\n",
              "      <th>statements</th>\n",
              "    </tr>\n",
              "  </thead>\n",
              "  <tbody>\n",
              "    <tr>\n",
              "      <th>0</th>\n",
              "      <td>The recently conducted market analysis offers a comprehensive insight into the current landscape and future prospects of the pharmaceutical sector in the Czech Republic.</td>\n",
              "    </tr>\n",
              "    <tr>\n",
              "      <th>1</th>\n",
              "      <td>A fresh market analysis has provided a detailed summary of the present status and forthcoming trends in the pharmaceutical market within the Czech Republic.</td>\n",
              "    </tr>\n",
              "    <tr>\n",
              "      <th>2</th>\n",
              "      <td>This newly released market analysis presents a comprehensive view of both the current scenario and the future projections of the pharmaceutical market in the Czech Republic.</td>\n",
              "    </tr>\n",
              "    <tr>\n",
              "      <th>3</th>\n",
              "      <td>An up-to-date market analysis sheds light on the current state and upcoming developments in the pharmaceutical sector of the Czech Republic.</td>\n",
              "    </tr>\n",
              "    <tr>\n",
              "      <th>4</th>\n",
              "      <td>The latest market analysis delivers a thorough examination of both the existing conditions and future expectations within the pharmaceutical market of Czech Republic.</td>\n",
              "    </tr>\n",
              "  </tbody>\n",
              "</table>\n",
              "</div>\n",
              "    <div class=\"colab-df-buttons\">\n",
              "\n",
              "  <div class=\"colab-df-container\">\n",
              "    <button class=\"colab-df-convert\" onclick=\"convertToInteractive('df-0fd3d494-9d7f-4bf5-84f9-86e56dbe3dbf')\"\n",
              "            title=\"Convert this dataframe to an interactive table.\"\n",
              "            style=\"display:none;\">\n",
              "\n",
              "  <svg xmlns=\"http://www.w3.org/2000/svg\" height=\"24px\" viewBox=\"0 -960 960 960\">\n",
              "    <path d=\"M120-120v-720h720v720H120Zm60-500h600v-160H180v160Zm220 220h160v-160H400v160Zm0 220h160v-160H400v160ZM180-400h160v-160H180v160Zm440 0h160v-160H620v160ZM180-180h160v-160H180v160Zm440 0h160v-160H620v160Z\"/>\n",
              "  </svg>\n",
              "    </button>\n",
              "\n",
              "  <style>\n",
              "    .colab-df-container {\n",
              "      display:flex;\n",
              "      gap: 12px;\n",
              "    }\n",
              "\n",
              "    .colab-df-convert {\n",
              "      background-color: #E8F0FE;\n",
              "      border: none;\n",
              "      border-radius: 50%;\n",
              "      cursor: pointer;\n",
              "      display: none;\n",
              "      fill: #1967D2;\n",
              "      height: 32px;\n",
              "      padding: 0 0 0 0;\n",
              "      width: 32px;\n",
              "    }\n",
              "\n",
              "    .colab-df-convert:hover {\n",
              "      background-color: #E2EBFA;\n",
              "      box-shadow: 0px 1px 2px rgba(60, 64, 67, 0.3), 0px 1px 3px 1px rgba(60, 64, 67, 0.15);\n",
              "      fill: #174EA6;\n",
              "    }\n",
              "\n",
              "    .colab-df-buttons div {\n",
              "      margin-bottom: 4px;\n",
              "    }\n",
              "\n",
              "    [theme=dark] .colab-df-convert {\n",
              "      background-color: #3B4455;\n",
              "      fill: #D2E3FC;\n",
              "    }\n",
              "\n",
              "    [theme=dark] .colab-df-convert:hover {\n",
              "      background-color: #434B5C;\n",
              "      box-shadow: 0px 1px 3px 1px rgba(0, 0, 0, 0.15);\n",
              "      filter: drop-shadow(0px 1px 2px rgba(0, 0, 0, 0.3));\n",
              "      fill: #FFFFFF;\n",
              "    }\n",
              "  </style>\n",
              "\n",
              "    <script>\n",
              "      const buttonEl =\n",
              "        document.querySelector('#df-0fd3d494-9d7f-4bf5-84f9-86e56dbe3dbf button.colab-df-convert');\n",
              "      buttonEl.style.display =\n",
              "        google.colab.kernel.accessAllowed ? 'block' : 'none';\n",
              "\n",
              "      async function convertToInteractive(key) {\n",
              "        const element = document.querySelector('#df-0fd3d494-9d7f-4bf5-84f9-86e56dbe3dbf');\n",
              "        const dataTable =\n",
              "          await google.colab.kernel.invokeFunction('convertToInteractive',\n",
              "                                                    [key], {});\n",
              "        if (!dataTable) return;\n",
              "\n",
              "        const docLinkHtml = 'Like what you see? Visit the ' +\n",
              "          '<a target=\"_blank\" href=https://colab.research.google.com/notebooks/data_table.ipynb>data table notebook</a>'\n",
              "          + ' to learn more about interactive tables.';\n",
              "        element.innerHTML = '';\n",
              "        dataTable['output_type'] = 'display_data';\n",
              "        await google.colab.output.renderOutput(dataTable, element);\n",
              "        const docLink = document.createElement('div');\n",
              "        docLink.innerHTML = docLinkHtml;\n",
              "        element.appendChild(docLink);\n",
              "      }\n",
              "    </script>\n",
              "  </div>\n",
              "\n",
              "\n",
              "<div id=\"df-12c5246b-00d1-4100-8e19-85a084164465\">\n",
              "  <button class=\"colab-df-quickchart\" onclick=\"quickchart('df-12c5246b-00d1-4100-8e19-85a084164465')\"\n",
              "            title=\"Suggest charts\"\n",
              "            style=\"display:none;\">\n",
              "\n",
              "<svg xmlns=\"http://www.w3.org/2000/svg\" height=\"24px\"viewBox=\"0 0 24 24\"\n",
              "     width=\"24px\">\n",
              "    <g>\n",
              "        <path d=\"M19 3H5c-1.1 0-2 .9-2 2v14c0 1.1.9 2 2 2h14c1.1 0 2-.9 2-2V5c0-1.1-.9-2-2-2zM9 17H7v-7h2v7zm4 0h-2V7h2v10zm4 0h-2v-4h2v4z\"/>\n",
              "    </g>\n",
              "</svg>\n",
              "  </button>\n",
              "\n",
              "<style>\n",
              "  .colab-df-quickchart {\n",
              "      --bg-color: #E8F0FE;\n",
              "      --fill-color: #1967D2;\n",
              "      --hover-bg-color: #E2EBFA;\n",
              "      --hover-fill-color: #174EA6;\n",
              "      --disabled-fill-color: #AAA;\n",
              "      --disabled-bg-color: #DDD;\n",
              "  }\n",
              "\n",
              "  [theme=dark] .colab-df-quickchart {\n",
              "      --bg-color: #3B4455;\n",
              "      --fill-color: #D2E3FC;\n",
              "      --hover-bg-color: #434B5C;\n",
              "      --hover-fill-color: #FFFFFF;\n",
              "      --disabled-bg-color: #3B4455;\n",
              "      --disabled-fill-color: #666;\n",
              "  }\n",
              "\n",
              "  .colab-df-quickchart {\n",
              "    background-color: var(--bg-color);\n",
              "    border: none;\n",
              "    border-radius: 50%;\n",
              "    cursor: pointer;\n",
              "    display: none;\n",
              "    fill: var(--fill-color);\n",
              "    height: 32px;\n",
              "    padding: 0;\n",
              "    width: 32px;\n",
              "  }\n",
              "\n",
              "  .colab-df-quickchart:hover {\n",
              "    background-color: var(--hover-bg-color);\n",
              "    box-shadow: 0 1px 2px rgba(60, 64, 67, 0.3), 0 1px 3px 1px rgba(60, 64, 67, 0.15);\n",
              "    fill: var(--button-hover-fill-color);\n",
              "  }\n",
              "\n",
              "  .colab-df-quickchart-complete:disabled,\n",
              "  .colab-df-quickchart-complete:disabled:hover {\n",
              "    background-color: var(--disabled-bg-color);\n",
              "    fill: var(--disabled-fill-color);\n",
              "    box-shadow: none;\n",
              "  }\n",
              "\n",
              "  .colab-df-spinner {\n",
              "    border: 2px solid var(--fill-color);\n",
              "    border-color: transparent;\n",
              "    border-bottom-color: var(--fill-color);\n",
              "    animation:\n",
              "      spin 1s steps(1) infinite;\n",
              "  }\n",
              "\n",
              "  @keyframes spin {\n",
              "    0% {\n",
              "      border-color: transparent;\n",
              "      border-bottom-color: var(--fill-color);\n",
              "      border-left-color: var(--fill-color);\n",
              "    }\n",
              "    20% {\n",
              "      border-color: transparent;\n",
              "      border-left-color: var(--fill-color);\n",
              "      border-top-color: var(--fill-color);\n",
              "    }\n",
              "    30% {\n",
              "      border-color: transparent;\n",
              "      border-left-color: var(--fill-color);\n",
              "      border-top-color: var(--fill-color);\n",
              "      border-right-color: var(--fill-color);\n",
              "    }\n",
              "    40% {\n",
              "      border-color: transparent;\n",
              "      border-right-color: var(--fill-color);\n",
              "      border-top-color: var(--fill-color);\n",
              "    }\n",
              "    60% {\n",
              "      border-color: transparent;\n",
              "      border-right-color: var(--fill-color);\n",
              "    }\n",
              "    80% {\n",
              "      border-color: transparent;\n",
              "      border-right-color: var(--fill-color);\n",
              "      border-bottom-color: var(--fill-color);\n",
              "    }\n",
              "    90% {\n",
              "      border-color: transparent;\n",
              "      border-bottom-color: var(--fill-color);\n",
              "    }\n",
              "  }\n",
              "</style>\n",
              "\n",
              "  <script>\n",
              "    async function quickchart(key) {\n",
              "      const quickchartButtonEl =\n",
              "        document.querySelector('#' + key + ' button');\n",
              "      quickchartButtonEl.disabled = true;  // To prevent multiple clicks.\n",
              "      quickchartButtonEl.classList.add('colab-df-spinner');\n",
              "      try {\n",
              "        const charts = await google.colab.kernel.invokeFunction(\n",
              "            'suggestCharts', [key], {});\n",
              "      } catch (error) {\n",
              "        console.error('Error during call to suggestCharts:', error);\n",
              "      }\n",
              "      quickchartButtonEl.classList.remove('colab-df-spinner');\n",
              "      quickchartButtonEl.classList.add('colab-df-quickchart-complete');\n",
              "    }\n",
              "    (() => {\n",
              "      let quickchartButtonEl =\n",
              "        document.querySelector('#df-12c5246b-00d1-4100-8e19-85a084164465 button');\n",
              "      quickchartButtonEl.style.display =\n",
              "        google.colab.kernel.accessAllowed ? 'block' : 'none';\n",
              "    })();\n",
              "  </script>\n",
              "</div>\n",
              "\n",
              "    </div>\n",
              "  </div>\n"
            ],
            "application/vnd.google.colaboratory.intrinsic+json": {
              "type": "dataframe",
              "variable_name": "new_df",
              "summary": "{\n  \"name\": \"new_df\",\n  \"rows\": 2478,\n  \"fields\": [\n    {\n      \"column\": \"statements\",\n      \"properties\": {\n        \"dtype\": \"string\",\n        \"num_unique_values\": 2478,\n        \"samples\": [\n          \"The deal had a financial worth of about EUR 1.2 million.\",\n          \"The year 1998 marked a significant moment for the Moscow Metro ( www.mosmetro.ru ) as it spearheaded the implementation of smart cards alongside an innovative form of magnetic card, setting a precedent for European metro systems.\",\n          \"Members of Dopplr discreetly communicate their personal and corporate travel itineraries with connections while also featuring attractive lodging, dining spots, and sightseeing recommendations in various international metropolises.\"\n        ],\n        \"semantic_type\": \"\",\n        \"description\": \"\"\n      }\n    }\n  ]\n}"
            }
          },
          "metadata": {},
          "execution_count": 211
        }
      ],
      "source": [
        "new_df.head()"
      ]
    },
    {
      "cell_type": "code",
      "execution_count": null,
      "metadata": {
        "id": "OCBzoVxeLC47"
      },
      "outputs": [],
      "source": [
        "new_df.to_csv('/content/gdrive/MyDrive/incorrect_labelled_dataset_part7_0806.csv', index=False)"
      ]
    },
    {
      "cell_type": "code",
      "execution_count": null,
      "metadata": {
        "id": "8reMl9ygNtgr",
        "colab": {
          "base_uri": "https://localhost:8080/"
        },
        "outputId": "f24d0c1f-e2ea-4769-a83b-fac46678d7f7"
      },
      "outputs": [
        {
          "output_type": "stream",
          "name": "stdout",
          "text": [
            "                                                                                                                                                                                                                statements\n",
            "0           Following the reporting period, Somaxon Pharmaceuticals, BioTie's North American licensing partner, disclosed favorable outcomes from a preliminary Phase 2 clinical study on nalmefene for smoking cessation.\n",
            "1                  Post the reporting period, Somaxon Pharmaceuticals, the North American licensee of BioTie, unveiled encouraging findings from a pilot Phase 2 clinical trial involving nalmefene for smoking cessation.\n",
            "2  After the reporting period, positive results were revealed by Somaxon Pharmaceuticals, BioTie's licensing partner in North America, following a pilot Phase 2 clinical trial assessing nalmefene for smoking cessation.\n",
            "3         In the aftermath of the reporting period, Somaxon Pharmaceuticals shared optimistic results from a pilot Phase 2 clinical trial on nalmefene for smoking cessation as BioTie's North American licensing partner.\n",
            "4    Subsequent to the reporting period, Somaxon Pharmaceuticals released promising outcomes from a preliminary Phase 2 clinical study on nalmefene aimed at smoking cessation as part of their collaboration with BioTie.\n"
          ]
        }
      ],
      "source": [
        "# Base path to the files\n",
        "base_path = '/content/gdrive/MyDrive/'\n",
        "\n",
        "# List to hold each DataFrame\n",
        "dataframes = []\n",
        "\n",
        "# Loop through the range of file numbers\n",
        "for i in range(1, 8):\n",
        "    # Generate the file path\n",
        "    file_path = f'{base_path}incorrect_labelled_dataset_part{i}_0806.csv'\n",
        "\n",
        "    # Read the CSV file\n",
        "    df = pd.read_csv(file_path)\n",
        "\n",
        "    # Append the DataFrame to the list\n",
        "    dataframes.append(df)\n",
        "\n",
        "# Concatenate all DataFrames in the list into a single DataFrame\n",
        "combined_df = pd.concat(dataframes, ignore_index=True)\n",
        "\n",
        "# Display the first few rows of the combined DataFrame to verify\n",
        "print(combined_df.head())\n"
      ]
    },
    {
      "cell_type": "code",
      "source": [
        "combined_df.info()"
      ],
      "metadata": {
        "colab": {
          "base_uri": "https://localhost:8080/"
        },
        "id": "aCs5xr6c2riY",
        "outputId": "37b8e0cd-b158-44c9-fe6d-40b2bf232aa4"
      },
      "execution_count": null,
      "outputs": [
        {
          "output_type": "stream",
          "name": "stdout",
          "text": [
            "<class 'pandas.core.frame.DataFrame'>\n",
            "RangeIndex: 17462 entries, 0 to 17461\n",
            "Data columns (total 1 columns):\n",
            " #   Column      Non-Null Count  Dtype \n",
            "---  ------      --------------  ----- \n",
            " 0   statements  17458 non-null  object\n",
            "dtypes: object(1)\n",
            "memory usage: 136.5+ KB\n"
          ]
        }
      ]
    },
    {
      "cell_type": "code",
      "source": [
        "combined_df.to_csv('/content/gdrive/MyDrive/FinbertMatch_unlabelled_dataset_ALL_0806.csv', index=False)"
      ],
      "metadata": {
        "id": "t-4MJ8zQ2s-l"
      },
      "execution_count": null,
      "outputs": []
    },
    {
      "cell_type": "code",
      "source": [
        "data = pd.read_csv('/content/gdrive/MyDrive/incorrect_unlabelled_dataset_0806.csv')\n",
        "data.info()"
      ],
      "metadata": {
        "colab": {
          "base_uri": "https://localhost:8080/"
        },
        "id": "BoEvk2uk22jk",
        "outputId": "86674a99-e507-4c07-cb10-db15cbbc69cc"
      },
      "execution_count": null,
      "outputs": [
        {
          "output_type": "stream",
          "name": "stdout",
          "text": [
            "<class 'pandas.core.frame.DataFrame'>\n",
            "RangeIndex: 13198 entries, 0 to 13197\n",
            "Data columns (total 1 columns):\n",
            " #   Column      Non-Null Count  Dtype \n",
            "---  ------      --------------  ----- \n",
            " 0   statements  13148 non-null  object\n",
            "dtypes: object(1)\n",
            "memory usage: 103.2+ KB\n"
          ]
        }
      ]
    },
    {
      "cell_type": "code",
      "source": [],
      "metadata": {
        "id": "OmPcqZt63kYA"
      },
      "execution_count": null,
      "outputs": []
    }
  ],
  "metadata": {
    "colab": {
      "provenance": []
    },
    "kernelspec": {
      "display_name": "Python 3",
      "name": "python3"
    },
    "language_info": {
      "name": "python"
    }
  },
  "nbformat": 4,
  "nbformat_minor": 0
}